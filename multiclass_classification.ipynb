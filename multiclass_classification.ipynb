{
  "nbformat": 4,
  "nbformat_minor": 0,
  "metadata": {
    "colab": {
      "name": "multiclass-classification.ipynb",
      "provenance": [],
      "collapsed_sections": []
    },
    "kernelspec": {
      "name": "python3",
      "display_name": "Python 3"
    },
    "language_info": {
      "name": "python"
    },
    "accelerator": "GPU",
    "widgets": {
      "application/vnd.jupyter.widget-state+json": {
        "fd21d465dcbb419cad476bfa47b0ca82": {
          "model_module": "@jupyter-widgets/controls",
          "model_name": "HBoxModel",
          "model_module_version": "1.5.0",
          "state": {
            "_dom_classes": [],
            "_model_module": "@jupyter-widgets/controls",
            "_model_module_version": "1.5.0",
            "_model_name": "HBoxModel",
            "_view_count": null,
            "_view_module": "@jupyter-widgets/controls",
            "_view_module_version": "1.5.0",
            "_view_name": "HBoxView",
            "box_style": "",
            "children": [
              "IPY_MODEL_ae99c216d42544e1b194a9004493a124",
              "IPY_MODEL_acb7e32dc46c40c9a7454a429eca846a",
              "IPY_MODEL_23281c76122e4238bdf3f9affbd66687"
            ],
            "layout": "IPY_MODEL_ef5212d8e46e4db7a3976b865a796fd9"
          }
        },
        "ae99c216d42544e1b194a9004493a124": {
          "model_module": "@jupyter-widgets/controls",
          "model_name": "HTMLModel",
          "model_module_version": "1.5.0",
          "state": {
            "_dom_classes": [],
            "_model_module": "@jupyter-widgets/controls",
            "_model_module_version": "1.5.0",
            "_model_name": "HTMLModel",
            "_view_count": null,
            "_view_module": "@jupyter-widgets/controls",
            "_view_module_version": "1.5.0",
            "_view_name": "HTMLView",
            "description": "",
            "description_tooltip": null,
            "layout": "IPY_MODEL_7cbb6d7c1c004e728e430325f8573083",
            "placeholder": "​",
            "style": "IPY_MODEL_0b382fb6732f4176a5164a47f559c01e",
            "value": "100%"
          }
        },
        "acb7e32dc46c40c9a7454a429eca846a": {
          "model_module": "@jupyter-widgets/controls",
          "model_name": "FloatProgressModel",
          "model_module_version": "1.5.0",
          "state": {
            "_dom_classes": [],
            "_model_module": "@jupyter-widgets/controls",
            "_model_module_version": "1.5.0",
            "_model_name": "FloatProgressModel",
            "_view_count": null,
            "_view_module": "@jupyter-widgets/controls",
            "_view_module_version": "1.5.0",
            "_view_name": "ProgressView",
            "bar_style": "success",
            "description": "",
            "description_tooltip": null,
            "layout": "IPY_MODEL_30ef1df45a544fb880f112a524e8b72a",
            "max": 102530333,
            "min": 0,
            "orientation": "horizontal",
            "style": "IPY_MODEL_0f067e2dcab14c5fb66b6d78e304cbdf",
            "value": 102530333
          }
        },
        "23281c76122e4238bdf3f9affbd66687": {
          "model_module": "@jupyter-widgets/controls",
          "model_name": "HTMLModel",
          "model_module_version": "1.5.0",
          "state": {
            "_dom_classes": [],
            "_model_module": "@jupyter-widgets/controls",
            "_model_module_version": "1.5.0",
            "_model_name": "HTMLModel",
            "_view_count": null,
            "_view_module": "@jupyter-widgets/controls",
            "_view_module_version": "1.5.0",
            "_view_name": "HTMLView",
            "description": "",
            "description_tooltip": null,
            "layout": "IPY_MODEL_4a7fb60db4984d47bae43aae2d241d7b",
            "placeholder": "​",
            "style": "IPY_MODEL_efa5a2d92c4f4189946f0de85240267b",
            "value": " 97.8M/97.8M [00:00&lt;00:00, 229MB/s]"
          }
        },
        "ef5212d8e46e4db7a3976b865a796fd9": {
          "model_module": "@jupyter-widgets/base",
          "model_name": "LayoutModel",
          "model_module_version": "1.2.0",
          "state": {
            "_model_module": "@jupyter-widgets/base",
            "_model_module_version": "1.2.0",
            "_model_name": "LayoutModel",
            "_view_count": null,
            "_view_module": "@jupyter-widgets/base",
            "_view_module_version": "1.2.0",
            "_view_name": "LayoutView",
            "align_content": null,
            "align_items": null,
            "align_self": null,
            "border": null,
            "bottom": null,
            "display": null,
            "flex": null,
            "flex_flow": null,
            "grid_area": null,
            "grid_auto_columns": null,
            "grid_auto_flow": null,
            "grid_auto_rows": null,
            "grid_column": null,
            "grid_gap": null,
            "grid_row": null,
            "grid_template_areas": null,
            "grid_template_columns": null,
            "grid_template_rows": null,
            "height": null,
            "justify_content": null,
            "justify_items": null,
            "left": null,
            "margin": null,
            "max_height": null,
            "max_width": null,
            "min_height": null,
            "min_width": null,
            "object_fit": null,
            "object_position": null,
            "order": null,
            "overflow": null,
            "overflow_x": null,
            "overflow_y": null,
            "padding": null,
            "right": null,
            "top": null,
            "visibility": null,
            "width": null
          }
        },
        "7cbb6d7c1c004e728e430325f8573083": {
          "model_module": "@jupyter-widgets/base",
          "model_name": "LayoutModel",
          "model_module_version": "1.2.0",
          "state": {
            "_model_module": "@jupyter-widgets/base",
            "_model_module_version": "1.2.0",
            "_model_name": "LayoutModel",
            "_view_count": null,
            "_view_module": "@jupyter-widgets/base",
            "_view_module_version": "1.2.0",
            "_view_name": "LayoutView",
            "align_content": null,
            "align_items": null,
            "align_self": null,
            "border": null,
            "bottom": null,
            "display": null,
            "flex": null,
            "flex_flow": null,
            "grid_area": null,
            "grid_auto_columns": null,
            "grid_auto_flow": null,
            "grid_auto_rows": null,
            "grid_column": null,
            "grid_gap": null,
            "grid_row": null,
            "grid_template_areas": null,
            "grid_template_columns": null,
            "grid_template_rows": null,
            "height": null,
            "justify_content": null,
            "justify_items": null,
            "left": null,
            "margin": null,
            "max_height": null,
            "max_width": null,
            "min_height": null,
            "min_width": null,
            "object_fit": null,
            "object_position": null,
            "order": null,
            "overflow": null,
            "overflow_x": null,
            "overflow_y": null,
            "padding": null,
            "right": null,
            "top": null,
            "visibility": null,
            "width": null
          }
        },
        "0b382fb6732f4176a5164a47f559c01e": {
          "model_module": "@jupyter-widgets/controls",
          "model_name": "DescriptionStyleModel",
          "model_module_version": "1.5.0",
          "state": {
            "_model_module": "@jupyter-widgets/controls",
            "_model_module_version": "1.5.0",
            "_model_name": "DescriptionStyleModel",
            "_view_count": null,
            "_view_module": "@jupyter-widgets/base",
            "_view_module_version": "1.2.0",
            "_view_name": "StyleView",
            "description_width": ""
          }
        },
        "30ef1df45a544fb880f112a524e8b72a": {
          "model_module": "@jupyter-widgets/base",
          "model_name": "LayoutModel",
          "model_module_version": "1.2.0",
          "state": {
            "_model_module": "@jupyter-widgets/base",
            "_model_module_version": "1.2.0",
            "_model_name": "LayoutModel",
            "_view_count": null,
            "_view_module": "@jupyter-widgets/base",
            "_view_module_version": "1.2.0",
            "_view_name": "LayoutView",
            "align_content": null,
            "align_items": null,
            "align_self": null,
            "border": null,
            "bottom": null,
            "display": null,
            "flex": null,
            "flex_flow": null,
            "grid_area": null,
            "grid_auto_columns": null,
            "grid_auto_flow": null,
            "grid_auto_rows": null,
            "grid_column": null,
            "grid_gap": null,
            "grid_row": null,
            "grid_template_areas": null,
            "grid_template_columns": null,
            "grid_template_rows": null,
            "height": null,
            "justify_content": null,
            "justify_items": null,
            "left": null,
            "margin": null,
            "max_height": null,
            "max_width": null,
            "min_height": null,
            "min_width": null,
            "object_fit": null,
            "object_position": null,
            "order": null,
            "overflow": null,
            "overflow_x": null,
            "overflow_y": null,
            "padding": null,
            "right": null,
            "top": null,
            "visibility": null,
            "width": null
          }
        },
        "0f067e2dcab14c5fb66b6d78e304cbdf": {
          "model_module": "@jupyter-widgets/controls",
          "model_name": "ProgressStyleModel",
          "model_module_version": "1.5.0",
          "state": {
            "_model_module": "@jupyter-widgets/controls",
            "_model_module_version": "1.5.0",
            "_model_name": "ProgressStyleModel",
            "_view_count": null,
            "_view_module": "@jupyter-widgets/base",
            "_view_module_version": "1.2.0",
            "_view_name": "StyleView",
            "bar_color": null,
            "description_width": ""
          }
        },
        "4a7fb60db4984d47bae43aae2d241d7b": {
          "model_module": "@jupyter-widgets/base",
          "model_name": "LayoutModel",
          "model_module_version": "1.2.0",
          "state": {
            "_model_module": "@jupyter-widgets/base",
            "_model_module_version": "1.2.0",
            "_model_name": "LayoutModel",
            "_view_count": null,
            "_view_module": "@jupyter-widgets/base",
            "_view_module_version": "1.2.0",
            "_view_name": "LayoutView",
            "align_content": null,
            "align_items": null,
            "align_self": null,
            "border": null,
            "bottom": null,
            "display": null,
            "flex": null,
            "flex_flow": null,
            "grid_area": null,
            "grid_auto_columns": null,
            "grid_auto_flow": null,
            "grid_auto_rows": null,
            "grid_column": null,
            "grid_gap": null,
            "grid_row": null,
            "grid_template_areas": null,
            "grid_template_columns": null,
            "grid_template_rows": null,
            "height": null,
            "justify_content": null,
            "justify_items": null,
            "left": null,
            "margin": null,
            "max_height": null,
            "max_width": null,
            "min_height": null,
            "min_width": null,
            "object_fit": null,
            "object_position": null,
            "order": null,
            "overflow": null,
            "overflow_x": null,
            "overflow_y": null,
            "padding": null,
            "right": null,
            "top": null,
            "visibility": null,
            "width": null
          }
        },
        "efa5a2d92c4f4189946f0de85240267b": {
          "model_module": "@jupyter-widgets/controls",
          "model_name": "DescriptionStyleModel",
          "model_module_version": "1.5.0",
          "state": {
            "_model_module": "@jupyter-widgets/controls",
            "_model_module_version": "1.5.0",
            "_model_name": "DescriptionStyleModel",
            "_view_count": null,
            "_view_module": "@jupyter-widgets/base",
            "_view_module_version": "1.2.0",
            "_view_name": "StyleView",
            "description_width": ""
          }
        }
      }
    }
  },
  "cells": [
    {
      "cell_type": "markdown",
      "source": [
        "**Installing Dependencies**"
      ],
      "metadata": {
        "id": "pnWdHvKkV4Ni"
      }
    },
    {
      "cell_type": "code",
      "source": [
        "# Deliverables (Git Repository)\n",
        "# ○ Training code in Python preferably using Tensorflow/Pytorch ....notebook done\n",
        "# ■ Input: Images folder, Attribute csv ....images and attribute done \n",
        "# ■ Output: Neural Net Model Weights ....weights done \n",
        "# ○ Inference Script in Python: ....done\n",
        "# ■ Input: Test Images Folder, Trained Neural Net Model ....done \n",
        "# ■ Output: Output.csv of with predicted values similar to attribute.csv done \n",
        "# ○ ReadMe document which explains usage to-do\n",
        "\n",
        "\n"
      ],
      "metadata": {
        "id": "Nfj5gpKiV6c0"
      },
      "execution_count": null,
      "outputs": []
    },
    {
      "cell_type": "code",
      "source": [
        ""
      ],
      "metadata": {
        "id": "m12moA3oH2OJ"
      },
      "execution_count": null,
      "outputs": []
    },
    {
      "cell_type": "markdown",
      "source": [
        "**Importing Packages**\n",
        "\n",
        "\n",
        "\n"
      ],
      "metadata": {
        "id": "Xe--S_ZwVHgO"
      }
    },
    {
      "cell_type": "code",
      "execution_count": 6,
      "metadata": {
        "id": "W0EkYALQVEZw"
      },
      "outputs": [],
      "source": [
        "\n",
        "from PIL import Image\n",
        "import numpy as np\n",
        "import math\n",
        "import random\n",
        "from tqdm import tqdm\n",
        "import shutil\n",
        "import os\n",
        "from pathlib import Path\n",
        "import pandas as pd\n",
        "\n",
        "# PyTorch libraries\n",
        "import torch\n",
        "from torchvision import transforms, datasets\n",
        "import torch.nn as nn\n",
        "import torch.nn.functional as F\n",
        "from torch.utils.data import Dataset, DataLoader, random_split\n",
        "\n",
        "import torch\n",
        "import cv2\n",
        "import numpy as np\n",
        "import torchvision.transforms as transforms\n",
        "from torch.utils.data import Dataset"
      ]
    },
    {
      "cell_type": "markdown",
      "source": [
        "**Data Ingestion & Preparation**"
      ],
      "metadata": {
        "id": "gmU5Vu2HVwyO"
      }
    },
    {
      "cell_type": "code",
      "source": [
        "!gdown --id 1p7-dU6rDuqZ2mxv5ac5AWndt4z19aS6j\n",
        "!unzip /content/classification-assignment.zip\n",
        "# removing db file\n",
        "if os.path.exists(\"/content/classification-assignment/images/Thumbs.db\"):\n",
        "  os.unlink(\"/content/classification-assignment/images/Thumbs.db\")"
      ],
      "metadata": {
        "colab": {
          "base_uri": "https://localhost:8080/"
        },
        "id": "ageyiUsAfTGY",
        "outputId": "8cb95bf2-fab3-41ca-8b4c-edbb6fc019b2"
      },
      "execution_count": 1,
      "outputs": [
        {
          "output_type": "stream",
          "name": "stdout",
          "text": [
            "/usr/local/lib/python3.7/dist-packages/gdown/cli.py:131: FutureWarning: Option `--id` was deprecated in version 4.3.1 and will be removed in 5.0. You don't need to pass it anymore to use a file ID.\n",
            "  category=FutureWarning,\n",
            "Downloading...\n",
            "From: https://drive.google.com/uc?id=1p7-dU6rDuqZ2mxv5ac5AWndt4z19aS6j\n",
            "To: /content/classification-assignment.zip\n",
            "100% 75.0M/75.0M [00:00<00:00, 155MB/s]\n"
          ]
        }
      ]
    },
    {
      "cell_type": "markdown",
      "source": [
        "Data-Loader"
      ],
      "metadata": {
        "id": "eBEHXoIEguJw"
      }
    },
    {
      "cell_type": "code",
      "source": [
        "data_df = pd.read_csv('/content/classification-assignment/attributes.csv')\n",
        "data_df"
      ],
      "metadata": {
        "id": "n_OPj9hQi3Vo",
        "colab": {
          "base_uri": "https://localhost:8080/",
          "height": 424
        },
        "outputId": "bcd11c45-624f-4b36-b3f9-c0c6a4675c51"
      },
      "execution_count": 7,
      "outputs": [
        {
          "output_type": "execute_result",
          "data": {
            "text/plain": [
              "                                               filename  neck  sleeve_length  \\\n",
              "0     cdc8cd2a-0938-4970-a3b5-f5ed9595222c1527925869...   6.0            NaN   \n",
              "1     11469770662809-Metersbonwe-Navy-T-shirt-485146...   5.0            3.0   \n",
              "2     11479107741104-Tommy-Hilfiger-Men-Navy-Blue-St...   6.0            1.0   \n",
              "3     f7ad67ab-eeb1-4449-8f63-7b580d2797e71532342804...   NaN            0.0   \n",
              "4     11516770810185-Splash-Men-Tshirts-767151677081...   6.0            3.0   \n",
              "...                                                 ...   ...            ...   \n",
              "2233  11507360109998-Nautica-Men-Blue-Striped-V-Neck...   5.0            3.0   \n",
              "2234  8f236dcd-4a2b-49ff-9229-981e7db946f91537273774...   6.0            NaN   \n",
              "2235  15cb873b-993c-422c-b9c1-96d59580fbae1535360301...   6.0            3.0   \n",
              "2236  bf72a615-0db6-4400-903b-6c2aa1e5831d1530608800...   6.0            3.0   \n",
              "2237  4654fc4c-76ca-43e0-b6ff-91615995d32b1527167420...   2.0            3.0   \n",
              "\n",
              "      pattern  \n",
              "0         4.0  \n",
              "1         9.0  \n",
              "2         9.0  \n",
              "3         9.0  \n",
              "4         9.0  \n",
              "...       ...  \n",
              "2233      9.0  \n",
              "2234      5.0  \n",
              "2235      3.0  \n",
              "2236      1.0  \n",
              "2237      9.0  \n",
              "\n",
              "[2238 rows x 4 columns]"
            ],
            "text/html": [
              "\n",
              "  <div id=\"df-8c213b8b-3b5b-4e81-b1c9-629a3a896af7\">\n",
              "    <div class=\"colab-df-container\">\n",
              "      <div>\n",
              "<style scoped>\n",
              "    .dataframe tbody tr th:only-of-type {\n",
              "        vertical-align: middle;\n",
              "    }\n",
              "\n",
              "    .dataframe tbody tr th {\n",
              "        vertical-align: top;\n",
              "    }\n",
              "\n",
              "    .dataframe thead th {\n",
              "        text-align: right;\n",
              "    }\n",
              "</style>\n",
              "<table border=\"1\" class=\"dataframe\">\n",
              "  <thead>\n",
              "    <tr style=\"text-align: right;\">\n",
              "      <th></th>\n",
              "      <th>filename</th>\n",
              "      <th>neck</th>\n",
              "      <th>sleeve_length</th>\n",
              "      <th>pattern</th>\n",
              "    </tr>\n",
              "  </thead>\n",
              "  <tbody>\n",
              "    <tr>\n",
              "      <th>0</th>\n",
              "      <td>cdc8cd2a-0938-4970-a3b5-f5ed9595222c1527925869...</td>\n",
              "      <td>6.0</td>\n",
              "      <td>NaN</td>\n",
              "      <td>4.0</td>\n",
              "    </tr>\n",
              "    <tr>\n",
              "      <th>1</th>\n",
              "      <td>11469770662809-Metersbonwe-Navy-T-shirt-485146...</td>\n",
              "      <td>5.0</td>\n",
              "      <td>3.0</td>\n",
              "      <td>9.0</td>\n",
              "    </tr>\n",
              "    <tr>\n",
              "      <th>2</th>\n",
              "      <td>11479107741104-Tommy-Hilfiger-Men-Navy-Blue-St...</td>\n",
              "      <td>6.0</td>\n",
              "      <td>1.0</td>\n",
              "      <td>9.0</td>\n",
              "    </tr>\n",
              "    <tr>\n",
              "      <th>3</th>\n",
              "      <td>f7ad67ab-eeb1-4449-8f63-7b580d2797e71532342804...</td>\n",
              "      <td>NaN</td>\n",
              "      <td>0.0</td>\n",
              "      <td>9.0</td>\n",
              "    </tr>\n",
              "    <tr>\n",
              "      <th>4</th>\n",
              "      <td>11516770810185-Splash-Men-Tshirts-767151677081...</td>\n",
              "      <td>6.0</td>\n",
              "      <td>3.0</td>\n",
              "      <td>9.0</td>\n",
              "    </tr>\n",
              "    <tr>\n",
              "      <th>...</th>\n",
              "      <td>...</td>\n",
              "      <td>...</td>\n",
              "      <td>...</td>\n",
              "      <td>...</td>\n",
              "    </tr>\n",
              "    <tr>\n",
              "      <th>2233</th>\n",
              "      <td>11507360109998-Nautica-Men-Blue-Striped-V-Neck...</td>\n",
              "      <td>5.0</td>\n",
              "      <td>3.0</td>\n",
              "      <td>9.0</td>\n",
              "    </tr>\n",
              "    <tr>\n",
              "      <th>2234</th>\n",
              "      <td>8f236dcd-4a2b-49ff-9229-981e7db946f91537273774...</td>\n",
              "      <td>6.0</td>\n",
              "      <td>NaN</td>\n",
              "      <td>5.0</td>\n",
              "    </tr>\n",
              "    <tr>\n",
              "      <th>2235</th>\n",
              "      <td>15cb873b-993c-422c-b9c1-96d59580fbae1535360301...</td>\n",
              "      <td>6.0</td>\n",
              "      <td>3.0</td>\n",
              "      <td>3.0</td>\n",
              "    </tr>\n",
              "    <tr>\n",
              "      <th>2236</th>\n",
              "      <td>bf72a615-0db6-4400-903b-6c2aa1e5831d1530608800...</td>\n",
              "      <td>6.0</td>\n",
              "      <td>3.0</td>\n",
              "      <td>1.0</td>\n",
              "    </tr>\n",
              "    <tr>\n",
              "      <th>2237</th>\n",
              "      <td>4654fc4c-76ca-43e0-b6ff-91615995d32b1527167420...</td>\n",
              "      <td>2.0</td>\n",
              "      <td>3.0</td>\n",
              "      <td>9.0</td>\n",
              "    </tr>\n",
              "  </tbody>\n",
              "</table>\n",
              "<p>2238 rows × 4 columns</p>\n",
              "</div>\n",
              "      <button class=\"colab-df-convert\" onclick=\"convertToInteractive('df-8c213b8b-3b5b-4e81-b1c9-629a3a896af7')\"\n",
              "              title=\"Convert this dataframe to an interactive table.\"\n",
              "              style=\"display:none;\">\n",
              "        \n",
              "  <svg xmlns=\"http://www.w3.org/2000/svg\" height=\"24px\"viewBox=\"0 0 24 24\"\n",
              "       width=\"24px\">\n",
              "    <path d=\"M0 0h24v24H0V0z\" fill=\"none\"/>\n",
              "    <path d=\"M18.56 5.44l.94 2.06.94-2.06 2.06-.94-2.06-.94-.94-2.06-.94 2.06-2.06.94zm-11 1L8.5 8.5l.94-2.06 2.06-.94-2.06-.94L8.5 2.5l-.94 2.06-2.06.94zm10 10l.94 2.06.94-2.06 2.06-.94-2.06-.94-.94-2.06-.94 2.06-2.06.94z\"/><path d=\"M17.41 7.96l-1.37-1.37c-.4-.4-.92-.59-1.43-.59-.52 0-1.04.2-1.43.59L10.3 9.45l-7.72 7.72c-.78.78-.78 2.05 0 2.83L4 21.41c.39.39.9.59 1.41.59.51 0 1.02-.2 1.41-.59l7.78-7.78 2.81-2.81c.8-.78.8-2.07 0-2.86zM5.41 20L4 18.59l7.72-7.72 1.47 1.35L5.41 20z\"/>\n",
              "  </svg>\n",
              "      </button>\n",
              "      \n",
              "  <style>\n",
              "    .colab-df-container {\n",
              "      display:flex;\n",
              "      flex-wrap:wrap;\n",
              "      gap: 12px;\n",
              "    }\n",
              "\n",
              "    .colab-df-convert {\n",
              "      background-color: #E8F0FE;\n",
              "      border: none;\n",
              "      border-radius: 50%;\n",
              "      cursor: pointer;\n",
              "      display: none;\n",
              "      fill: #1967D2;\n",
              "      height: 32px;\n",
              "      padding: 0 0 0 0;\n",
              "      width: 32px;\n",
              "    }\n",
              "\n",
              "    .colab-df-convert:hover {\n",
              "      background-color: #E2EBFA;\n",
              "      box-shadow: 0px 1px 2px rgba(60, 64, 67, 0.3), 0px 1px 3px 1px rgba(60, 64, 67, 0.15);\n",
              "      fill: #174EA6;\n",
              "    }\n",
              "\n",
              "    [theme=dark] .colab-df-convert {\n",
              "      background-color: #3B4455;\n",
              "      fill: #D2E3FC;\n",
              "    }\n",
              "\n",
              "    [theme=dark] .colab-df-convert:hover {\n",
              "      background-color: #434B5C;\n",
              "      box-shadow: 0px 1px 3px 1px rgba(0, 0, 0, 0.15);\n",
              "      filter: drop-shadow(0px 1px 2px rgba(0, 0, 0, 0.3));\n",
              "      fill: #FFFFFF;\n",
              "    }\n",
              "  </style>\n",
              "\n",
              "      <script>\n",
              "        const buttonEl =\n",
              "          document.querySelector('#df-8c213b8b-3b5b-4e81-b1c9-629a3a896af7 button.colab-df-convert');\n",
              "        buttonEl.style.display =\n",
              "          google.colab.kernel.accessAllowed ? 'block' : 'none';\n",
              "\n",
              "        async function convertToInteractive(key) {\n",
              "          const element = document.querySelector('#df-8c213b8b-3b5b-4e81-b1c9-629a3a896af7');\n",
              "          const dataTable =\n",
              "            await google.colab.kernel.invokeFunction('convertToInteractive',\n",
              "                                                     [key], {});\n",
              "          if (!dataTable) return;\n",
              "\n",
              "          const docLinkHtml = 'Like what you see? Visit the ' +\n",
              "            '<a target=\"_blank\" href=https://colab.research.google.com/notebooks/data_table.ipynb>data table notebook</a>'\n",
              "            + ' to learn more about interactive tables.';\n",
              "          element.innerHTML = '';\n",
              "          dataTable['output_type'] = 'display_data';\n",
              "          await google.colab.output.renderOutput(dataTable, element);\n",
              "          const docLink = document.createElement('div');\n",
              "          docLink.innerHTML = docLinkHtml;\n",
              "          element.appendChild(docLink);\n",
              "        }\n",
              "      </script>\n",
              "    </div>\n",
              "  </div>\n",
              "  "
            ]
          },
          "metadata": {},
          "execution_count": 7
        }
      ]
    },
    {
      "cell_type": "code",
      "source": [
        "image_name = os.listdir('/content/classification-assignment/images')\n",
        "data_df = data_df[data_df.filename.isin(image_name)]\n",
        "data_df.columns\n",
        "data_without_na = data_df.dropna()\n",
        "data_without_na[-100:].to_csv('attributes_test.csv')\n",
        "df_attributes = data_without_na[:-100]"
      ],
      "metadata": {
        "id": "85_rn5U27Cc5"
      },
      "execution_count": 8,
      "outputs": []
    },
    {
      "cell_type": "code",
      "source": [
        "df_attributes = data_df[:].dropna()\n",
        "\n",
        "# one hot encode the Neck attribute\n",
        "one_hot_neck = pd.get_dummies(df_attributes.neck, prefix='neck')\n",
        "\n",
        "# one hot encode the sleeve_length attribute\n",
        "one_hot_sleeve_length = pd.get_dummies(df_attributes.sleeve_length, prefix='sleeve_length')\n",
        "\n",
        "# one hot encode the pattern attribute\n",
        "one_hot_pattern = pd.get_dummies(df_attributes.pattern, prefix='pattern')\n",
        "\n",
        "# concatenate the one hot encoded attributes to dataframe\n",
        "df_attributes = pd.concat([df_attributes, one_hot_neck, one_hot_sleeve_length, one_hot_pattern], axis=1)"
      ],
      "metadata": {
        "id": "NE3u8oo5lGOn"
      },
      "execution_count": 9,
      "outputs": []
    },
    {
      "cell_type": "code",
      "source": [
        "len(df_attributes.columns)"
      ],
      "metadata": {
        "colab": {
          "base_uri": "https://localhost:8080/"
        },
        "id": "9MEjXWrnl4Tc",
        "outputId": "5168ffbe-2655-4ee7-d2f9-e619144dfd37"
      },
      "execution_count": 10,
      "outputs": [
        {
          "output_type": "execute_result",
          "data": {
            "text/plain": [
              "25"
            ]
          },
          "metadata": {},
          "execution_count": 10
        }
      ]
    },
    {
      "cell_type": "code",
      "source": [
        "class ImageDataset(Dataset):\n",
        "    def __init__(self, csv, train, test):\n",
        "        self.csv = csv\n",
        "        self.train = train\n",
        "        self.test = test\n",
        "        self.all_image_names = self.csv[:]['filename']\n",
        "        self.all_labels = np.array(self.csv.drop(['filename','neck', 'sleeve_length','pattern'], axis=1))\n",
        "        self.train_ratio = int(0.85 * len(self.csv))\n",
        "        self.valid_ratio = len(self.csv) - self.train_ratio\n",
        "\n",
        "        # set the training data images and labels\n",
        "        if self.train == True:\n",
        "            print(f\"Number of training images: {self.train_ratio}\")\n",
        "            self.image_names = list(self.all_image_names[:self.train_ratio])\n",
        "            print(self.image_names)\n",
        "            self.labels = list(self.all_labels[:self.train_ratio])\n",
        "\n",
        "            # define the training transforms\n",
        "            self.transform = transforms.Compose([\n",
        "                transforms.ToPILImage(),\n",
        "                transforms.Resize((400, 400)),\n",
        "                transforms.RandomHorizontalFlip(p=0.5),\n",
        "                transforms.RandomRotation(degrees=45),\n",
        "                transforms.ToTensor(),\n",
        "            ])\n",
        "\n",
        "        # set the validation data images and labels\n",
        "        elif self.train == False and self.test == False:\n",
        "            print(f\"Number of validation images: {self.valid_ratio}\")\n",
        "            self.image_names = list(self.all_image_names[-self.valid_ratio:-10])\n",
        "            self.labels = list(self.all_labels[-self.valid_ratio:])\n",
        "\n",
        "            # define the validation transforms\n",
        "            self.transform = transforms.Compose([\n",
        "                transforms.ToPILImage(),\n",
        "                transforms.Resize((400, 400)),\n",
        "                transforms.ToTensor(),\n",
        "            ])\n",
        "\n",
        "        # set the test data images and labels, only last 10 images\n",
        "        # this, we will use in a separate inference script\n",
        "        elif self.test == True and self.train == False:\n",
        "            self.image_names = list(self.all_image_names)\n",
        "            self.labels = list(self.all_labels)\n",
        "\n",
        "             # define the test transforms\n",
        "            self.transform = transforms.Compose([\n",
        "                transforms.ToPILImage(),\n",
        "                transforms.ToTensor(),\n",
        "            ])\n",
        "\n",
        "    def __len__(self):\n",
        "        #print('rebrebre')\n",
        "        return len(self.image_names)\n",
        "    \n",
        "    def __getitem__(self, index):\n",
        "        #print('vgrejoidbvre',self.image_names[index])\n",
        "        try:\n",
        "          image = cv2.imread(f\"./classification-assignment/images/{self.image_names[index]}\")\n",
        "        except Exception as e:\n",
        "            print('Path of the image is', self.image_names[index])\n",
        "            print('Unable to read the image')\n",
        "        \n",
        "        #print(image.shape)\n",
        "        # convert the image from BGR to RGB color format\n",
        "        image = cv2.cvtColor(image, cv2.COLOR_BGR2RGB)\n",
        "        # apply image transforms\n",
        "        image = self.transform(image)\n",
        "        targets = self.labels[index]\n",
        "        #print(targets)\n",
        "        return {\n",
        "            'image': torch.tensor(image, dtype=torch.float32),\n",
        "            'label': torch.tensor(targets, dtype=torch.float32),\n",
        "            'file_name':self.image_names[index]\n",
        "        }\n",
        "\n",
        "    def get_test_Data(self):\n",
        "      return self.samples\n"
      ],
      "metadata": {
        "id": "tialB-EvmVAB"
      },
      "execution_count": 11,
      "outputs": []
    },
    {
      "cell_type": "code",
      "source": [
        "from google.colab import drive\n",
        "drive.mount('/content/drive')"
      ],
      "metadata": {
        "colab": {
          "base_uri": "https://localhost:8080/"
        },
        "id": "LfoSPr7H4Fno",
        "outputId": "0f657c3a-7cf8-409e-ae01-7052bc5f3066"
      },
      "execution_count": 3,
      "outputs": [
        {
          "output_type": "stream",
          "name": "stdout",
          "text": [
            "Mounted at /content/drive\n"
          ]
        }
      ]
    },
    {
      "cell_type": "code",
      "source": [
        "from torchvision import models as models\n",
        "import torch.nn as nn\n",
        "def model(pretrained, requires_grad):\n",
        "    model = models.resnet50(progress=True, pretrained=pretrained)\n",
        "    # to freeze the hidden layers\n",
        "    if requires_grad == False:\n",
        "        for param in model.parameters():\n",
        "            param.requires_grad = False\n",
        "    # to train the hidden layers\n",
        "    elif requires_grad == True:\n",
        "        for param in model.parameters():\n",
        "            param.requires_grad = True\n",
        "    # make the classification layer learnable\n",
        "    # we have 21 classes in total\n",
        "    model.fc = nn.Linear(2048, 21)\n",
        "    return model"
      ],
      "metadata": {
        "id": "pK77zYlqm9T0"
      },
      "execution_count": 12,
      "outputs": []
    },
    {
      "cell_type": "code",
      "source": [
        "import torch\n",
        "from tqdm import tqdm\n",
        "# training function\n",
        "def train(model, dataloader, optimizer, criterion, train_data, device):\n",
        "    print('Training')\n",
        "    model.train()\n",
        "    counter = 0\n",
        "    train_running_loss = 0.0\n",
        "    for i, data in tqdm(enumerate(dataloader), total=int(len(train_data)/dataloader.batch_size)):\n",
        "        counter += 1\n",
        "        print(counter)\n",
        "        data, target = data['image'].to(device), data['label'].to(device)\n",
        "        optimizer.zero_grad()\n",
        "        outputs = model(data)\n",
        "        #print(outputs)\n",
        "        # apply sigmoid activation to get all the outputs between 0 and 1\n",
        "        outputs = torch.sigmoid(outputs)\n",
        "        loss = criterion(outputs, target)\n",
        "        train_running_loss += loss.item()\n",
        "        # backpropagation\n",
        "        loss.backward()\n",
        "        # update optimizer parameters\n",
        "        optimizer.step()\n",
        "        \n",
        "    train_loss = train_running_loss / counter\n",
        "    return train_loss"
      ],
      "metadata": {
        "id": "6QKYYvvBnHlx"
      },
      "execution_count": 13,
      "outputs": []
    },
    {
      "cell_type": "code",
      "source": [
        "# validation function\n",
        "def validate(model, dataloader, criterion, val_data, device):\n",
        "    print('Validating')\n",
        "    model.eval()\n",
        "    counter = 0\n",
        "    val_running_loss = 0.0\n",
        "    with torch.no_grad():\n",
        "        for i, data in tqdm(enumerate(dataloader), total=int(len(val_data)/dataloader.batch_size)):\n",
        "            counter += 1\n",
        "            data, target = data['image'].to(device), data['label'].to(device)\n",
        "            outputs = model(data)\n",
        "            # apply sigmoid activation to get all the outputs between 0 and 1\n",
        "            outputs = torch.sigmoid(outputs)\n",
        "            loss = criterion(outputs, target)\n",
        "            val_running_loss += loss.item()\n",
        "        \n",
        "        val_loss = val_running_loss / counter\n",
        "        return val_loss"
      ],
      "metadata": {
        "id": "e-E-oh_SnLx9"
      },
      "execution_count": 14,
      "outputs": []
    },
    {
      "cell_type": "code",
      "source": [
        "import torch\n",
        "import torch.nn as nn\n",
        "import torch.optim as optim\n",
        "import pandas as pd\n",
        "import matplotlib.pyplot as plt\n",
        "import matplotlib\n",
        "from torch.utils.data import DataLoader\n",
        "matplotlib.style.use('ggplot')\n",
        "# initialize the computation device\n",
        "device = torch.device('cuda' if torch.cuda.is_available() else 'cpu')"
      ],
      "metadata": {
        "id": "LO18jWFOnRUf"
      },
      "execution_count": 15,
      "outputs": []
    },
    {
      "cell_type": "code",
      "source": [
        "#intialize the model\n",
        "model = model(pretrained=True, requires_grad=False).to(device)\n",
        "# learning parameters\n",
        "lr = 0.0001\n",
        "epochs = 20\n",
        "batch_size = 32\n",
        "optimizer = optim.Adam(model.parameters(), lr=lr)\n",
        "criterion = nn.BCELoss()"
      ],
      "metadata": {
        "id": "aTVZL-_7nxmn",
        "colab": {
          "base_uri": "https://localhost:8080/",
          "height": 67,
          "referenced_widgets": [
            "fd21d465dcbb419cad476bfa47b0ca82",
            "ae99c216d42544e1b194a9004493a124",
            "acb7e32dc46c40c9a7454a429eca846a",
            "23281c76122e4238bdf3f9affbd66687",
            "ef5212d8e46e4db7a3976b865a796fd9",
            "7cbb6d7c1c004e728e430325f8573083",
            "0b382fb6732f4176a5164a47f559c01e",
            "30ef1df45a544fb880f112a524e8b72a",
            "0f067e2dcab14c5fb66b6d78e304cbdf",
            "4a7fb60db4984d47bae43aae2d241d7b",
            "efa5a2d92c4f4189946f0de85240267b"
          ]
        },
        "outputId": "ccfbeec1-6c61-4f92-8fc5-6f53741944eb"
      },
      "execution_count": 16,
      "outputs": [
        {
          "output_type": "stream",
          "name": "stderr",
          "text": [
            "Downloading: \"https://download.pytorch.org/models/resnet50-0676ba61.pth\" to /root/.cache/torch/hub/checkpoints/resnet50-0676ba61.pth\n"
          ]
        },
        {
          "output_type": "display_data",
          "data": {
            "text/plain": [
              "  0%|          | 0.00/97.8M [00:00<?, ?B/s]"
            ],
            "application/vnd.jupyter.widget-view+json": {
              "version_major": 2,
              "version_minor": 0,
              "model_id": "fd21d465dcbb419cad476bfa47b0ca82"
            }
          },
          "metadata": {}
        }
      ]
    },
    {
      "cell_type": "code",
      "source": [
        "\n",
        "# train dataset\n",
        "train_data = ImageDataset(\n",
        "    df_attributes, train=True, test=False\n",
        ")\n",
        "# validation dataset\n",
        "valid_data = ImageDataset(\n",
        "    \n",
        "    df_attributes, train=False, test=False\n",
        ")\n"
      ],
      "metadata": {
        "colab": {
          "base_uri": "https://localhost:8080/"
        },
        "id": "_BI-9yVyohlu",
        "outputId": "3f56fba6-2d01-4de5-c9c9-76a1a14e3d0e"
      },
      "execution_count": 17,
      "outputs": [
        {
          "output_type": "stream",
          "name": "stdout",
          "text": [
            "Number of training images: 770\n",
            "['11469770662809-Metersbonwe-Navy-T-shirt-4851469770656421-3.jpg', '11516770810185-Splash-Men-Tshirts-7671516770810043-1.jpg', '11461827372049-US-Polo-Assn-Navy-T-shirt-2071461827371893-5.jpg', 'f617edb8-a874-453b-b6d3-fb860248d5191532955920783-Moda-Rapido-Men-Black-Solid-Round-Neck-T-shirt-2601532955919-6.jpg', '94b6ab4b-50c9-4d10-847a-4b4482531d651529052514444-HRX-by-Hrithik-Roshan-Men-White-Printed-Round-Neck-T-shirt-4-2.jpg', '11521439112825-Duke-Mens-Tshirts-9231521439112686-5.jpg', '11491288646955-FOREVER-21-Men-Tshirts-5191491288646687-1.jpg', 'ec4a6f2f-a45e-4a59-b98b-10adf566c1721535008439715-Kappa-Men-Navy-Blue-Striped-Polo-Collar-T-shirt-195153500843-2.jpg', 'dd554569-d81b-4435-ae42-3c9cc779bfd71528538836804-Gmcks-Men-Tshirts-1961528538836634-4.jpg', '11516598513216-Gespo-Hooded-Long-Sleeves-Printed-T-shirt-1601516598513137-4.jpg', 'ca148e7b-d96f-46b6-b6ad-670392eb473d1535175544352-United-Colors-of-Benetton-Men-Tshirts-7561535175544213-3.jpg', '3923c8ee-e1ff-4a02-927a-2b26a37940d81528374582084-Dream-of-Glory-Inc-Mens-Branded-Half-Sleeve-Cotton-Printed-V-Neck-T-shirts-XS-9XL-Pack-of-1-4941528374581923-2.jpg', '11516787178834-WROGN-Men-Rust-Printed-Round-Neck-T-shirt-8741516787178773-5.jpg', '11479114226125-Moda-Rapido-Men-White-Striped-Round-Neck-T-Shirt-1121479114225925-2.jpg', '11514876737828-Justice-League-Men-Black-Printed-Round-Neck-T-shirt-6991514876737765-4.jpg', '471d155e-7762-47f9-bb51-ba51466369101535777982419-OVS-Men-Tshirts-1331535777982241-3.jpg', '11515748321940-Mast--Harbour-Men-Navy-Blue-Solid-Round-Neck-T-shirt-5531515748321901-4.jpg', '11501223226996-INVICTUS-Men-White-Slim-Fit-T-Shirt-8811501223226869-5.jpg', '9b67ae74-dac2-4864-b6b0-a5317934900f1528368969855-na-3741528368968714-5.jpg', '11493293272602-INVICTUS-Men-White-Solid-Polo-Collar-Slim-T-shirt-2221493293272363-1.jpg', '11522666328568-SayItLoud-Solid-Men-Hooded-Tshirt-4001522666328340-1.jpg', '11523358662946-Monteil--Munero-Men-Black-Printed-Polo-Collar-T-shirt-2911523358662770-3.jpg', 'GRITSTONES-Men-Tshirts_2_a491288495417455d8739bcf9c983e28.jpg', 'a89231ae-af21-43be-9a91-92f469d6c51b1529566485553-FIDO-DIDO-Men-Grey-Printed-Round-Neck-T-shirt-6471529566485417-4.jpg', '11488371966719-FOREVER-21-Men-White-Striped-Round-Neck-T-Shirt-7511488371966444-1.jpg', '11520343804107-WROGN-Men-Off-White-Printed-Round-Neck-T-shirt-1371520343803918-3.jpg', '11518854922727-Peter-England-Men-Blue-Solid-Mandarin-Collar-T-shirt-9291518854922691-5.jpg', '11520856520473-Nike-Men-Red-Solid-Mandarin-Collar-AS-M-NSW-GSP-POLO-SS-KNT-T-shirt-1441520856520290-3.jpg', '11517402890405-Roadster-Men-Brown-Printed-Hood-T-shirt-7821517402890190-3.jpg', '11522918298516-MTS-CHR-Paris-A92-5901522918298352-3.jpg', '11524738948890-s-9301524738948693-1.jpg', 'a8e979bf-1474-4af4-acc7-868989685b0c1527662116524-Thisrupt-Mens-Black-Colour-T-shirt-2771527662115349-3.jpg', '11521534198275-ether-Men-White-Solid-Round-Neck-T-shirt-91521534198187-5.jpg', '353ecfe5-a7b9-4d70-af12-941a6b7452231536384217061-Wills-Lifestyle-Men-Maroon-Self-Design-Slim-Fit-Polo-T-Shirt-3721536384216829-2.jpg', '11515132933522-Levis-Men-Navy-Solid-Polo-Collar-T-shirt-2761515132933329-1.jpg', '11517383127961-Griffel-Mens-Oversize-100-Cotton--Polo-3901517383127756-1.jpg', '474b3b89-ca15-4ad2-95ea-d079e0c8e2ea1527070652373-Fully-Filmy-Men-Maroon-Printed-Round-Neck-T-shirt-5241527070652285-5.jpg', '11515495178954-WYO-Men-Black-Printed-Round-Neck-T-shirt-5171515495178835-2.jpg', '11505734202676-Tommy-Hilfiger-Men-White-Solid-Henley-Neck-T-shirt-9971505734202612-3.jpg', '11503484722306-American-Crew-Men-Grey-Striped-Polo-Collar-T-shirt-211503484722057-2.jpg', '11522224397733-Marvel-Mens-Black-Jaspe-Color-Half-Sleeve-T-shirtSize--S-561522224397558-1.jpg', '11493721294954-Tommy-Hilfiger-Men-Blue-Solid-Mandarin-Collar-T-shirt-9111493721294833-4.jpg', 'c02faf0d-0890-45e4-b16d-de4655008e251534487781053-a-7331534487780925-4.jpg', '4e2b5ab7-059d-4c87-ae00-482c54b98c981532422496418-t-base-Grey-Polo-Neck-Solid-T-Shirt-2021532422496251-4.jpg', '11510295611729-Wills-Lifestyle-Men-Tshirts-6421510295611608-5.jpg', 'GRITSTONES-Men-Maroon--Black-Hooded-T-shirt_5_48b96fecaee366eaa2a7e33fce62cab0.jpg', '11519991145252-Numero-Uno-Men-Tshirts-3331519991145132-4.jpg', '11521619733189-ESPRIT-Men-Tshirts-2601521619732978-1.jpg', '11519883266682-Proline-Active-Men-Olive-Green-Solid-Round-Neck-T-shirt-9001519883266510-4.jpg', '11514464949204-Difference-of-Opinion-Men-Black-Printed-Round-Neck-T-shirt-4331514464949091-4.jpg', '0c39b0fe-2ef6-487b-a2d6-b36cc7608e961535784158818-NA-8041535784158713-5.jpg', '11514874463689-Force-NXT-Men-Tshirts-2941514874463533-5.jpg', '11519278554498-INVICTUS-Men-Orange-Printed-Polo-Collar-T-shirt-921519278554330-3.jpg', '11522734858859-HRX-by-Hrithik-Roshan-Men-Tshirts-6541522734858718-1.jpg', '11507808050706-rockit-Men-Tshirts-1831507808050540-3.jpg', 'b7e6b56e-97cc-42d5-9428-4d6d1d46b3861531982818511-WROGN-Men-Tshirts-3531531982817399-5.jpg', '11509956028160-United-Colors-of-Benetton-Men-Tshirts-2631509956027897-1.jpg', '5840419a-9bfd-48cf-bd32-42729bbe7d021528202496806-Deep-Armhole-vest-Hood-style-7351528202496597-3.jpg', '17ba2f91-2574-4bca-8819-6af7bfcac23a1531823285407-na-4821531823285197-2.jpg', '11506508838015-WROGN-Men-Off-White-Henley-T-shirt-3391506508837797-1.jpg', '05d9e7ce-6876-4259-a570-a414382bafd01528284912518-Killer-Mens-Casual-T-shirt-5871528284911646-2.jpg', '11504951720178-John-Players-Men-Tshirts-41504951719979-4.jpg', '11519985443093-na-6291519985442963-1.jpg', '1cb646dd-dbcc-40be-bc83-0f964a09889b1530774533104-Chill-Winston-Solid-Men-Round-Neck-Blue-T-Shirt-7041530774532952-2.jpg', 'f48e099a-ecee-4540-bd2d-4fc4c6885bf31535021004804-Bossini-Men-White-Printed-Round-Neck-T-shirt-553153502100328-1.jpg', '11502954873966-Blackberrys-Men-Tshirts-2141502954873850-4.jpg', 'dd7e3f65-7a40-421c-a605-5d7ff8c2fa451534487135263-Crocodile-Men-Olive-Green-Striped-Polo-Collar-T-shirt-3591534487135145-4.jpg', '242f0bc2-70a4-4150-abf7-b6c90b543c811537267422891-GAP-Mens-Multicolor-Stripe-Polo-T-Shirt-6691537267421759-5.jpg', '11478590305093-ALCOTT-Men-Black-Printed-Round-Neck-T-Shirt-1921478590304998-5.jpg', '11512553253793-BASICS-CASUAL-STRIPED-BLUE-COTTON-POLY-MUSCLE-TSHIRT-5761512553253711-5.jpg', '76da0ec6-2ebd-4052-a515-c1f7797095601533891912171-Campus-Sutra-Round-Men-T-shirt-8501533891911897-1.jpg', '11488795032336-Celio-Men-Black-Solid-Henley-Neck-T-Shirt-8241488795032117-1.jpg', '11515491227517-Moda-Rapido-Men-Maroon-Solid-Round-Neck-T-shirt-561515491227472-2.jpg', '996f58eb-2b16-4d36-95bc-a859b579806c1534418439996-GULLY-Men-Navy-Blue-Printed-Round-Neck-T-shirt-7661534418439895-5.jpg', '11481618341274-GRITSTONES-Men-Tshirts-4011481618341160-1.jpg', '11500620793354-ether-Men-Grey-Melange-Solid-Henley-Neck-T-shirt-961500620793181-3.jpg', '11499940328711-INVICTUS-Men-Navy-Blue-Printed-Polo-Collar-T-shirt-9101499940328565-2.jpg', 'a3e26504-9b49-44f5-ba1a-15cf4b1c578b1534239118609-Nike-Men-Black-Printed-JORDAN-AIR-GX-Round-Neck-T-shirt-8041-2.jpg', '11502446333303-INVICTUS-Men-Orange-Solid-Polo-Collar-T-shirt-5681502446333151-4.jpg', '11471597264215-Breakbounce-Men-Tshirts-5101471597263950-1.jpg', '419d640d-5dc0-4e30-ad70-73060de055d71527934484435-Campus-Sutra-Solid-Men-V-neck-Multicolor-T-Shirt-2771527934484180-3.jpg', '3b5985b8-ae33-4ceb-99d5-4413f28e11f31534245152948-na-6061534245152816-3.jpg', 'c83d745f-c0a6-41b5-bcf5-4451066eaf6c1529313846361-Rex-Straut-Jeans-Men-Grey-Printed-Hood-T-shirt-461529313846228-2.jpg', 'bfe61664-1055-4781-9053-c12fc0652f531526540855177-Kook-N-Keech-Disney-Men-Blue-Printed-Round-Neck-T-shirt-3031526540853324-4.jpg', '7afca631-b5b4-4f20-9627-4fa1f2f26a5e1527577972518-Kook-N-Keech-Garfield-Men-Tshirts-2551527577972330-2.jpg', '11460705266987-Killer-Navy-Printed-T-shirt-8181460705266265-1.jpg', '11511415241596-Vineyard-Stripped-Thumbhole-Tee-7931511415241459-5.jpg', 'c1e589be-1177-4d3b-9aca-19193aa042ce1527748998168-UVW-Mens-Organic-Casual-Polo-Neck-Solid-T-Shirt-9701527748998002-3.jpg', '11482494829820-US-Polo-Assn-Men-Fluorescent-Green-Solid-Round-Neck-T-shirt-4281482494829546-3.jpg', '1b9e0f73-1eaa-40ad-b667-a4b15f94df611534744974224-na-291534744974137-4.jpg', 'edc6c424-dd96-438f-8e34-114d66ec98461533810049489-na-9351533810049399-4.jpg', 'bc3d6e18-b9d2-4acd-92e8-821e2bddf4cc1531725454780-Blackberrys-Men-Tshirts-6011531725454645-4.jpg', 'b84fa884-ce32-4e81-ac8d-cf8d22e12b391531894170906-Ajile-by-Pantaloons-Mens-T-shirt-1911531894170815-5.jpg', '11524739142970-Maniac-Mens-Self-Designed-Fullsleeve-Black-Cotton-Thigh-Length-T-shirt-9841524739142839-5.jpg', '11525771233381-na-1011525771233272-4.jpg', '11515147143093-m-1691515147142927-2.jpg', '602c982e-a702-4dc0-ae49-6684613d67ac1527832076994-na-7311527832075209-1.jpg', '59172a77-5ad2-458e-9b48-d6d98db7737f1532944325536-FOREVER-21-Men-Off-White-Solid-Round-Neck-T-shirt-4361532944-1.jpg', '11503294461485-Jn-Joy-Men-Tshirts-8611503294461372-5.jpg', '11510816550301-Justice-League-Men-Tshirts-3991510816550162-2.jpg', '11517400339572-Roadster-Men-Blue-Printed-Hood-T-shirt-9101517400339495-3.jpg', '11523081823714-WROGN-Men-Tshirts-2911523081823562-2.jpg', '11518588911908-na-341518588911739-2.jpg', '11491390082541-Flying-Machine-Men-Green-Printed-Round-Neck-T-Shirt-31491390069890-3.jpg', '11492765027487-ALCOTT-Men-Tshirts-7401492765027211-1.jpg', '11520509522441-na-4751520509522224-1.jpg', '11520846429783-Puma-Men-Tshirts-1081520846429685-4.jpg', '11495102688713-Roadster-Men-Olive-Green-Printed-Round-Neck-T-shirt-6301495102688526-5.jpg', '11496999173745-Aeropostale-Men-White-Printed-Round-Neck-T-shirt-6511496999173640-5.jpg', '11523869537587-FOREVER-21-Men-White-Solid-Hood-T-shirt-8431523869537474-4.jpg', '11517570674002-Wildcraft-Men-Tshirts-6811517570673934-4.jpg', '11524225057075-Basics-Men-Yellow-Striped-Polo-Collar-T-shirt-5831524225056929-4.jpg', 'f9a9add9-b823-42f7-a19a-090bdc6606a71536049119707-Lacoste-Men-Red-Solid-Polo-Collar-T-shirt-4711536049119662-2.jpg', '11524554881241-na-1991524554881057-1.jpg', '11523090751079-Mast--Harbour-Men-Tshirts-5831523090750955-3.jpg', '11513770738507-Okane-Men-Grey-Melange-Printed-Round-Neck-T-shirt-2381513770738460-4.jpg', '11524826896572-Park-Avenue-Men-Tshirts-1791524826896484-5.jpg', '11522049627294-Moda-Rapido-Men-Tshirts-5891522049627218-3.jpg', '11489642713939-SPYKAR-Men-Tshirts-8861489642713914-2.jpg', '11501749161455-Gael--Grey-Self-Design-Regular-Fit-Tshirts-7371501749161225-4.jpg', '386ced8a-81bb-42aa-9388-7bad36cca7b91529385135947-Genx-Men-Tshirts-1311529385135839-6.jpg', '11510035749112-Difference-of-Opinion-Men-White--Blue-Striped-Round-Neck-T-shirt-651510035748876-2.jpg', '05837bf1-b066-4fb8-b55f-dc1912dfb2f31528372281418-Moda-Rapido-Men-Tshirts-5401528372280282-4.jpg', 'c3217c24-3723-47b9-97ed-469bbdd461b41530613761644-Tommy-Hilfiger-Men-Tshirts-5361530613760275-4.jpg', '11525759757029-Men-Adidas-CRZY-EXPLO-JERS-8111525759756934-4.jpg', '3ca35772-cbbc-4fc2-840f-9219969cf1671534239118590-Nike-Men-Black-Printed-JORDAN-AIR-GX-Round-Neck-T-shirt-8041-3.jpg', '11477632120244-Killer-Men-Tshirts-6611477632120053-5.jpg', 'f9511fbb-f576-4ae1-8cfa-57ee481dbe9e1535693539081-Pepe-Jeans-Men-Tshirts-4101535693537110-2.jpg', '11454312413423-Moda-Rapido-White-Printed-Sleeveless-T-shirt-3341454312413021-2.jpg', '11521808952577-Admiral-Men-Red-Solid-Mandarin-Collar-T-shirt-2051521808952398-1.jpg', '11504094505155-YWC-Men-Black-Solid-Henley-Neck-T-shirt-4981504094505069-5.jpg', 'd72d44b2-749b-4c51-ac12-bf1eb3edd4aa1526379373422-Being-Human-Men-Blue-Solid-Mandarin-Collar-T-shirt-4291526379372114-2.jpg', '11490857923103-Puma-Men-White-Solid-Round-Neck-T-Shirt-3951490857922931-3.jpg', '11466242989381-SELECTED-Navy--White-Striped-Polo-T-shirt-2741466242989151-5.jpg', '11518519776663-Tommy-Hilfiger-Men-Blue-Solid-Round-Neck-T-shirt-6251518519776582-3.jpg', '9459b767-f333-44f2-affb-93e7bfba706d1533725484818-aLL-Men-Yellow-Printed-Round-Neck-T-shirt-7001533725481679-2.jpg', '46c50a99-d7eb-4bac-87ad-0c4c5b6392f61533203322135-SKULT-By-Shahid-Kapoor-Mens-light-grey-melange-T-shirts-4311-3.jpg', '11443509190054-Blackberrys-Wine-Coloured-T-shirt-1761443509189359-1.jpg', '11509098716899-FOREVER-21-Men-White-Solid-Round-Neck-T-shirt-8431509098716746-1.jpg', 'e9a20940-0fef-4af4-ae00-0ae71b9020991534343726271-5.jpg', '3d61d61f-6b83-4938-b2a5-b025cc580b931536145419802-Arrow-Sport-Men-Tshirts-7841536145419711-5.jpg', '5b06bb3c-71da-4f75-9bd7-c820a77e10411531463070815-na-8221531463070599-1.jpg', '11516170321610-NA-2991516170321504-4.jpg', '9083db49-fc10-4763-b7a2-4e9a3de334591535614241507-US-Polo-Assn-Denim-Co-Men-Black-Solid-Henley-Neck-T-shirt-711535614241383-1.jpg', '11513070567181-Lacoste-Men-Blue-Solid-Polo-Collar-T-shirt-521513070567103-3.jpg', '33b5929b-c87f-4c37-8b01-a923f6c4da301529131799015-SayItLoud-Men-Black-Striped-Round-Neck-T-shirt-2321529131798-5.jpg', '11523001185834-Masch-Sports-Mens-Polyester-Printed--Colourblocked-T-Shirts---Pack-of-2-8971523001185724-4.jpg', '11522388467900-Splash-Men-White-Printed-Round-Neck-T-shirt-3171522388467798-3.jpg', 'f9adf8b4-e5d4-43a7-b9ea-6dd465f5ad041533557503292-Ecko-Unltd-Men-Charcoal-Solid-Hood-T-shirt-3961533557501790-1.jpg', '11520494542273-na-4501520494542174-5.jpg', '0a4f77ea-57eb-4f3c-a43d-cbdf4a7f29521527662100234-Thisrupt-Mens-Red-Colour-T-shirt-7091527662099081-2.jpg', '11519629096551-NA-2451519629096416-4.jpg', '04014128-c459-4b60-9fd3-da041e4df2bf1531114803377-SKULT-by-Shahid-Kapoor-Men-Black-Solid-Round-Neck-T-shirt-23-4.jpg', '11504094521406-YWC-Men-Blue-Printed-Round-Neck-T-shirt-7211504094521239-4.jpg', 'b4227c9d-225b-46f4-b75b-f55eb9915a821532083007294-Superdry-Men-Navy-Blue-Striped-Polo-Collar-T-shirt-995153208-6.jpg', '11521793805840-Wear-Your-Mind-Multicolor-T-shirt-For-Men-8401521793805689-3.jpg', '11488535061879-US-Polo-Assn-Black-T-shirt-5191488535061668-5.jpg', '11519985443093-na-6291519985442963-1.jpg', '11522836605141-FOREVER-21-Men-Tshirts-5461522836604841-1.jpg', '11521699731747-GRITSTONES-Men-Tshirts-1621521699731592-3.jpg', '11519292134362-INVICTUS-Men-Green-Printed-Round-Neck-T-shirt-8891519292134193-2.jpg', '11522135682809-Peter-England-Casuals-Men-Tshirts-9661522135682671-3.jpg', '11519028155073-Stormborn-Men-Brown--Black-Printed-Longline-T-shirt-8371519028154873-1.jpg', '11497961200430-Harvard-Men-Burgundy-Solid-Henley-Neck-T-shirt-1121497961200281-5.jpg', '11516258702520-Splash-Men-White-Printed-Round-Neck-T-shirt-231516258702435-4.jpg', '11523950545772-Kook-N-Keech-Disney-Men-Black-Printed-Hood-T-shirt-1811523950545505-1.jpg', 'bf79d76e-75c7-4765-b59c-78a03461ee161528377623448-Dream-of-Glory-Inc-Mens-Branded-Half-Sleeve-Cotton-Printed-Crew-Neck-T-shirts-XS-9XL-Pack-of-1-301528377623322-3.jpg', '11508217460375-Louis-Philippe-Men-Grey-Self-Design-Polo-Collar-T-shirt-421508217460191-2.jpg', '11508411529000-People-Men-Black-Printed-Round-Neck-T-shirt-9861508411528888-2.jpg', '11517570835055-YWC-Men-Charcoal-Grey-Camouflage-Mandarin-Collar-T-shirt-7621517570834992-4.jpg', '11518758344193-Hypernation-Black-and-White-Stripe-Cotton-Mask-T-shirt-For-Men-441518758343940-1.jpg', 'defe83f3-4d79-41af-985f-1e773db28e581533731363289-Roadster-Men-Maroon-Striped-Polo-Collar-T-shirt-3901533731363198-5.jpg', '11522300147285-Kook-N-Keech-Men-Tshirts-5331522300147166-1.jpg', '11472450223850-Louis-Philippe-Mustard-Yellow-Polo-T-shirt-4101472450223695-3.jpg', '11513151075720-MaroonBlack-Full-Sleeve-Hooded-T-Shirt-2741513151075556-2.jpg', '11518239401958-Crimsoune-Club-Men-Red-Solid-Mandarin-Collar-T-shirt-3461518239401816-2.jpg', 'a011bca5-5cb0-47c2-9655-04486984b61c1526450923727-OVS-Men-Navy-Blue-Printed-Round-Neck-T-shirt-2081526450923595-2.jpg', 'ef30d349-8b25-40f6-aa7c-dd9f6ec4d3ec1535792396189-Roadster-Men-White-Printed-Round-Neck-T-shirt-10815357923953-3.jpg', '9f73b184-f14e-4d4b-8ee8-de5eb21100921533116049592-Solly-Jeans-Co-Men-Blue-Solid-Polo-Collar-T-shirt-1441533116049371-1.jpg', '11516166077602-NA-6011516166077497-3.jpg', '11489394928500-Wildcraft-Men-Charcoal-Solid-Round-Neck-T-Shirt-2761489394928332-4.jpg', '11497676716363-INDICODE-Men-Tshirts-5211497676716224-5.jpg', '11510225939649-American-Crew-Men-Tshirts-281510225939434-1.jpg', 'ecebb5ef-f421-4ad5-b3a2-b5091a8389711537273700995-GAP-Mens-Navy-Blue-Essential-V-Neck-T-Shirt-3211537273699398-2.jpg', '11510047917330-Red-Tape-Men-Grey-Self-Design-Henley-Neck-T-shirt-3801510047917259-5.jpg', '11470909024055-True-Blue-Men-Grey-Melange-Solid-Mandarin-collar-T-Shirt-801470909023853-5.jpg', '11523958996050-Ecko-Unltd-Men-Tshirts-9181523958995810-4.jpg', '11508839936197-sOliver-Men-Tshirts-5851508839936036-3.jpg', '11521537522630-Louis-Philippe-Sport-Men-Grey-Melange-Printed-Polo-Collar-T-shirt-9661521537522485-3.jpg', '11523944568638-na-9491523944568496-3.jpg', '11510047917443-Red-Tape-Men-Grey-Self-Design-Henley-Neck-T-shirt-3801510047917259-1.jpg', '11518238612160-Crimsoune-Club-Men-Grey-Printed-Round-Neck-T-shirt-8521518238612062-5.jpg', '20378302-7095-425a-bb0e-2f8418fc4da01529302089654-ONLY--SONS-Men-Blue-Solid-Polo-Collar-T-shirt-881529302089459-2.jpg', '11522490608947-sOliver-Men-Grey-Solid-V-Neck-T-shirt-2921522490608785-3.jpg', '11512651533575-Jack--Jones-Men-Tshirts-6341512651533496-2.jpg', '7b781fdb-463d-4a0a-9d00-f96788aa4ba61533206706394-Octave-Men-Tshirts-5661533206706253-2.jpg', '11520400542882-Moda-Rapido-Men-Red-Solid-Round-Neck-T-shirt-5911520400542762-2.jpg', '97ac7303-378e-403e-bbb0-32655d413d311528970738594-rockit-Men-Rust-Solid-V-Neck-T-shirt-6271528970738419-4.jpg', '11473924988405-Wear-Your-Mind-Men-Tshirts-1691473924988249-4.jpg', '11520941110572-Pepe-Jeans-Men-Tshirts-4361520941110471-4.jpg', '11518169301770-WROGN-Men-Maroon-Printed-Polo-Collar-T-shirt-9551518169301610-3.jpg', '0332aa6d-a7ec-4b5b-80c1-4a010536a1321528357709516-United-Colors-of-Benetton-Men-White-Colourblocked-Round-Neck-T-shirt-9111528357709384-2.jpg', '11522141074762-Cherokee-Men-Blue-Striped-V-Neck-T-shirt-8481522141074560-1.jpg', '4ec2ae29-66f8-4120-9d9f-ee67d94f649e1527589282956-na-3551527589280953-4.jpg', 'd3190350-d019-4f50-b9b5-bd378c7e34c61526533303185-Roadster-Men-Charcoal-Solid-Round-Neck-T-shirt-9051526533301674-3.jpg', '44c62512-e6b2-437d-8477-f5b05b6440b21527844217914-VIMAL-JONNEY-Men-Tshirts-201527844217818-6.jpg', '11519975594963-Numero-Uno-Men-Tshirts-8841519975594882-5.jpg', '11518761512718-Justice-League-Men-Tshirts-8181518761512617-1.jpg', '11490013224601-Moda-Rapido-Men-Grey-Striped-Round-Neck-T-Shirt-9791490013223829-2.jpg', '20f81003-051b-4548-ba91-296d418430331533191072164-SKULT-by-Shahid-Kapoor-Men-White-Colourblocked-Round-Neck-T--4.jpg', '59c86472-0f70-4983-ba4e-32a7db07d1b21528538884355-Gmcks-Men-Tshirts-7181528538884163-5.jpg', '11520917658828-Vudu-Mens-Casual-Grey-Color-T-Shirt-3401520917658725-4.jpg', '78d6ebbe-af5e-40ba-b108-d348f204fc881526892383545-Mast--Harbour-Men-Pink-Solid-Polo-Collar-T-shirt-9531526892380410-5.jpg', '08cc2ffd-d93b-4095-b1ad-463ee81b1ebf1537263421320-Club-York-Men-Navy-Blue-Striped-Mandarin-Collar-T-shirt-8461537263421117-3.jpg', 'd81109f8-e2eb-4fd6-8798-811a5338460c1533977627950-WROGN-Men-Tshirts-9831533977626960-1.jpg', '11518167960852-INVICTUS-Men-Tshirts-6611518167960746-3.jpg', '11509704659897-Peter-England-Casuals-Men-Black-Solid-Henley-Neck-T-shirt-1481509704659794-4.jpg', '11509624683165-Raymond-Men-Blue-Checked-Polo-Collar-T-shirt-7451509624682971-2.jpg', '11524557006784-WEXFORD-Men-Black-Printed-Round-Neck-T-shirt-7201524557006682-5.jpg', '29cb5a8b-6cd4-4fca-9ed7-5f5129c0784b1533973429122-Roadster-Men-Tshirts-3341533973428887-2.jpg', '11519641773384-Olive-GreenBlack-Half-Sleeves-Side-Zip-Hooded-T-Shirt-4381519641773144-1.jpg', '11520228670109-Ecko-Unltd-Men-Tshirts-3661520228670030-3.jpg', '3619ad32-8bb7-4087-9fbc-21963aea88031537165952894-NA-7081537165952769-4.jpg', '0cf311bf-455e-4b06-8ff1-e5f0abf35cde1526465583603-Mens-Nike-Breathe-Elite-Basketball-Top-771526465583517-5.jpg', '11517994639191-Ed-Hardy-Men-Navy-Solid-Polo-Collar-T-shirt-6831517994639083-5.jpg', '014b4a11-4f18-4d0c-bb0f-5f51923084491535792174250-United-Colors-of-Benetton-Men-Grey-Printed-Round-Neck-T-shir-3.jpg', '4d88dd93-5905-49d8-a1e8-adee5fb169e91529123171804-Roadster-Men-Tshirts-5051529123171642-3.jpg', '11518592986511-Tommy-Hilfiger-Men-Pink-Printed-Round-Neck-T-shirt-3171518592986381-4.jpg', '5a6d2ee7-a80b-4fa4-8d8d-ccf9f0a4a9381536045347394-Nike-White-Sportswear-AF-1-Longline-Printed-T-Shirt-1611536045347275-4.jpg', '11522729475902-Polo-Ralph-Lauren-The-Iconic-Rugby-Shirt-5761522729475781-1.jpg', '11509776063131-Ecko-Unltd-Men-Olive-Green-Printed-Round-Neck-T-Shirt-3301509776062901-2.jpg', '11498808186881-Huetrap-Men-White--Black-Printed-Round-Neck-T-shirt-9941498808186003-3.jpg', '3d2204b9-8db8-41bc-9e6e-7dcbd0e5bfd81527921368221-Roadster-Men-Beige-Printed-Round-Neck-T-shirt-51915279213668-2.jpg', '11502435660350-HRX-by-Hrithik-Roshan-Men-Grey-Solid-Sleevless-Active-RAPID-DRY-T-Shirt-7341502435660214-5.jpg', '82a0843d-b16e-44cd-a487-444791dcf0151537011192834-NA-6101537011192604-1.jpg', 'e5fe9e9e-c4dc-40db-a750-9c1ca7aa3cff1527587390023-CAMLA-Men-Tshirts-5461527587389877-5.jpg', '11505115627349-John-Players-Men-Navy-Blue-Striped-Henley-Neck-T-shirt-1601505115627139-3.jpg', '4c02d4d9-cdbe-4e9b-825a-39ec2a05f6ab1534503540889-ESPRIT-Men-Tshirts-5071534503540760-4.jpg', '35c2329e-5170-4c7e-91d6-c8c0e104139c1527510471848-Nike-Men-Red--White-Checked-Croatia-Stadium-Home-Jersey-5041527510471636-1.jpg', '11479900331284-GRITSTONES-Men-Tshirts-6321479900331049-1.jpg', '11519991162980-Numero-Uno-Men-Tshirts-6471519991162821-5.jpg', '11501828081489-Slub-Men-Navy-Blue-Solid-Polo-Collar-T-shirt-9421501828081280-1.jpg', '11518588056032-Ajile-by-Pantaloons-Men-Grey-Solid-Hood-T-shirt-1021518588055806-1.jpg', 'c4cf8b91-ce2c-49e4-81f1-604cc9884c791534841463536-Solly-Sport-Men-Blue-Solid-Polo-Collar-T-shirt-5141534841463375-1.jpg', '87458482-7762-471e-ab6d-68265b105a2f1535627580992-Aeropostale-Men-Blue-Henley-Neck-Solid-Tshirt-4971535627580789-1.jpg', '11525418798411-COBB-Men-Navy-Blue-Printed-Polo-Collar-T-shirt-1141525418798181-1.jpg', '11470901009699-Fort-Collins-Men-White-Printed-V-Neck-T-Shirt-4131470901009464-2.jpg', '11522387843531-Kook-N-Keech-Men-Tshirts-5611522387843429-3.jpg', 'd5a494ec-9141-451a-93ab-21f30b39d2981526385428438-INVICTUS-Men-Black--White-Colourblocked-Round-Neck-T-shirt-8271526385427059-5.jpg', '184ee860-cb0c-43e9-a59f-b087d9517e971535628417104-MESH-HOODED-VEST-2301535628416957-4.jpg', '11481618320755-GRITSTONES-Men-Tshirts-8521481618320592-1.jpg', 'c255e8f1-e866-4d09-b478-e727cbcf26b01527578287889-a-8241527578287711-2.jpg', 'c13edd93-ea83-42b7-a4a8-e5a2612fe09e1534764697495-Arrow-Sport-Men-Blue-Printed-Polo-Collar-T-shirt-61015347646-1.jpg', '11508751630460-Puma-Men-Tshirts-161508751630259-2.jpg', '11499753224120-sOliver-Men-Tshirts-6951499753223824-1.jpg', 'e6506b4e-0dcf-4144-8ece-094e02effab01531822070535-na-3911531822070406-3.jpg', '11498806870475-Huetrap-Men-White-Printed-Round-Neck-T-shirt-1001498806870270-4.jpg', '11485340028352-FILA-Men-Blue-Colourblocked-Polo-T-Shirt-7091485340027996-1.jpg', '11519127075522-HERENOW-Men-White-Colourblocked-Round-Neck-T-shirt-9861519127075449-4.jpg', '11517316744903-Mast--Harbour-Men-Mustard-Solid-Round-Neck-T-shirt-9131517316744787-2.jpg', '11503394425849-LOCOMOTIVE-Men-Blue-Printed-Henley-Neck-Slim-Fit-T-shirt-6541503394426219-3.jpg', 'a2d3c301-f970-4894-9f6d-7e3e6beefbf81535100042906-Moda-Rapido-Men-Grey-Camouflage-Printed-Longline-T-shirt-131-3.jpg', '11491549671402-PUMA-White-FIGC-Italia-Away-Polyester-T-shirt-7541491549671229-3.jpg', '8cfa16da-0f37-4f81-b37e-f3cfe78057cb1534498411899-Columbia-Men-Blue-Sun-Ridge-Striped-Polo-Collar-Outdoor-T-sh-3.jpg', 'cc248ad8-8804-462d-b370-3fcd223ed8e71526627487645-Roadster-Men-Navy-Blue-Printed-Round-Neck-T-shirt-221526627485598-5.jpg', '11486705500780-Tommy-Hilfiger-Men-Pink-Solid-Round-Neck-T-Shirt-7921486705500632-3.jpg', '11505118811387-Louis-Philippe-Men-Tshirts-9691505118811431-4.jpg', '11523860358645-YAK-YAK-Men-Tshirts-1811523860358547-3.jpg', '11481195504939-HIGHLANDER-Men-Tshirts-7861481195504743-2.jpg', '3a6d91af-544e-4f5e-9dc6-f24e57e6ed4e1529302036780-na-4201529302036641-5.jpg', '11524216910151-Basics-Muscle-Fit-Jet-Black-Stretch-Polo-T-shirt-631524216910090-5.jpg', '11514530901170-ether-Men-Blue-Striped-T-Shirt-3051514530901046-4.jpg', '11520938660848-True-Blue-Men-Blue-Printed-Polo-Collar-T-shirt-7481520938660689-3.jpg', '7c46accf-a574-45c7-a737-5497092324221528180070736-na-8691528180070511-1.jpg', 'e0d9560f-428e-4533-8ea2-6ff547b78c3d1535540825628-ether-Men-Tshirts-511535540825503-2.jpg', 'bba3fcc4-f364-42a8-ad7b-0bb394bc727b1532498203568-AS-M-NK-BRT-TOP-SS-HPR-VENT-2621532498203480-4.jpg', 'fe749438-e6d2-4e50-9668-704c71746a271534748169496-ELABORADO-Men-Navy-Blue-Self-Design-Henley-Neck-T-shirt-3641-1.jpg', '11521534198306-ether-Men-White-Solid-Round-Neck-T-shirt-91521534198187-3.jpg', '4594d32a-2f42-4b2b-ba58-cc497e87a8c21527317978030-ALTOMODA-by-Pantaloons-Men-Tshirts-8011527317976835-5.jpg', '11507008392244-Basics-Men-Navy-Blue-Printed-Henley-Neck-T-shirt-4361507008391835-1.jpg', '11503570938132-Roadster-Men-Olive-Green-Printed-Round-Neck-T-shirt-7811503570937910-5.jpg', '11520595147750-Ecko-Unltd-Men-Tshirts-121520595147552-2.jpg', '46c9f8c3-a685-4dc2-97a0-9566b60661a61528977811883-rockit-Men-Grey-Melange-Solid-High-Neck-T-shirt-9781528977811797-5.jpg', '11507534249702-FOREVER-21-Men-Tshirts-1331507534249533-1.jpg', '11516782764921-Splash-Men-Black-Checked-Round-Neck-T-shirt-7261516782764883-4.jpg', '11510738193653-Kook-N-Keech-Men-Tshirts-3901510738193574-4.jpg', '11518503786343-Tommy-Hilfiger-Men-Off-White-Solid-Round-Neck-T-shirt-8181518503786293-4.jpg', '42832616-5584-4db8-8498-c882317605ad1527492461379-Fort-Collins-Men-Tshirts-9271527492461203-3.jpg', '96924539-3b28-4b19-97e5-08c65c8207021535007613201-na-171535007613023-3.jpg', '11510735747202-na-7321510735746991-3.jpg', '11516358782940-Adidas-Originals-Men-Green-TREFOIL-Brand-Print-Round-Neck-T-shirt-8311516358782858-3.jpg', 'ae0917f4-beba-4d9a-92d8-86674241be771530603700151-Roadster-Men-Tshirts-2351530603698419-1.jpg', '3711d80d-26cd-414e-8c3c-6ffd867b054c1537447981716-Sztori-Men-Navy-Blue-Striped-Henley-Neck-T-shirt-24815374479-1.jpg', '11479185936249-2GO-Men-Grey-Solid-Polo-Collar-T-Shirt-6161479185935959-1.jpg', '11493729332724-Tommy-Hilfiger-Men-Blue-Printed-Polo-Collar-T-shirt-6491493729332601-4.jpg', '11491202797263-Slub-Men-Purple-Printed-Round-Neck-T-Shirt-1721491202797051-2.jpg', '11510906790270-Levis-Men-Red-Striped-Mandarin-Collar-T-shirt-8441510906790167-5.jpg', '9c6f52c5-98b3-4d20-9866-02bdda39d33c1531297009433-NA-2961531297007670-4.jpg', '11524128127674-na-7341524128127593-5.jpg', '674aecce-6de9-41f9-bb63-81d279f3892b1534754298314-Harvard-Men-Tshirts-1141534754296785-5.jpg', '11524738282908-Celio-Men-White-Solid-Mandarin-Collar-T-shirt-1931524738282728-1.jpg', '11518257955669-Slub-Men-Cream-Coloured-Printed-Round-Neck-T-shirt-5511518257955557-4.jpg', 'f9f26462-a7f5-4172-99fd-b7a471d2b39d1527592744353-na-8891527592744127-1.jpg', '11521546170829-na-5721521546170690-3.jpg', '378a5e31-61fa-4980-8fa6-1aaffcd0319e1526980944915-Cloak--Decker-by-Monte-Carlo-Men-Pack-of-2-Solid-T-shirts-5841526980943713-4.jpg', '11479116286431-2GO-Men-Tshirts-51479116286118-2.jpg', '11501151188401-Campus-Sutra-Mens-Sports-Jersey-551501151188241-1.jpg', '11511442559464-Moda-Rapido-Men-Black-Printed-Round-Neck-Longline-T-shirt-8261511442559420-4.jpg', '11514874446912-Force-NXT-Men-Tshirts-7431514874446727-1.jpg', '42b1822b-393a-4ace-80e8-25dc46a0ec201526981179268-Cloak--Decker-by-Monte-Carlo-Men-Pack-of-2-Solid-T-shirts-7771526981179134-4.jpg', '11519033634622-INVICTUS-Men-Tshirts-7591519033634470-1.jpg', '11511580357041-Force-NXT-Pack-of-3-Mens-Solid-V-Neck-T-shirt-81511580356977-6.jpg', 'Gritstones-Men-Steel-Blue-Hooded-T-shirt_820694d9d95309d2a5baa99c41d711c5_images.jpg', '1f2a56b3-04e1-437d-9e37-9a3b0e0d50741535532159076-BONATY-Cotton-Blend-Maroon-Solid-Half-Sleeves-T-shirt-For-Men-1781535532158925-3.jpg', '91979eb3-3786-47fc-bc55-20d08aa696581537342395474-GAS-Men-Navy-Blue-Solid-Polo-Collar-T-shirt-2231537342395330-1.jpg', '2b0cafd4-530a-436d-9252-663b3555bbac1529388595436-HRX-by-Hrithik-Roshan-Men-Tshirts-3851529388593892-4.jpg', '11509607624769-Being-Human-Men-Black-Solid-Hood-T-shirt-9201509607624686-5.jpg', '11516267990150-Splash-Men-Green-Solid-Hood-T-shirt-5231516267990046-3.jpg', 'e43899c3-0557-4fca-b3cd-02d7592c8b661531310986301-AMERICAN-EAGLE-OUTFITTERS-Men-Orange-Solid-V-Neck-T-shirt-93-5.jpg', 'f7596a49-f2d6-4578-a00d-2a9ae35a90451528181372682-a-6681528181370735-5.jpg', '11519450188712-SF-JEANS-by-Pantaloons-Men-Black-Printed-Round-Neck-T-shirt-2351519450188425-2.jpg', '11490614710013-Hypernation-Men-Tshirts-3431490614709845-4.jpg', '11523529149492-Roadster-Men-Blue-Printed-Round-Neck-T-shirt-3451523529149263-3.jpg', '11519024037964-Roadster-Men-Grey-Solid-Henley-Neck-T-shirt-2151519024037708-1.jpg', '11518849262937-na-6961518849262804-3.jpg', '3f2fae42-d9ae-4701-aec3-1f415789efaf1528182394120-ether-Men-Tshirts-9961528182391879-3.jpg', 'baff698b-7350-4b0e-9f1d-23bc20b6afd81537261866444-ETHER-Teal-Green-Melange-T-shirt-7791537261865223-2.jpg', 'Campus-Sutra-Men-Tshirts_2_70b6339ddd228f9eb048fcd53919572a.jpg', 'b87792da-8635-4de3-afe7-1b2eddca3dca1526710260038-Blackberrys-Men-Black-Printed-Polo-Collar-T-shirt-8081526710259926-4.jpg', '11518091332857-Roadster-Men-Blue-Colourblocked-Round-Neck-T-shirt-8971518091332661-2.jpg', '11497338902478-Raymond-Men-Tshirts-1631497338902228-1.jpg', 'f903c4f6-2a17-466f-b9aa-ae0b097b08021535013861998-HERENOW-Men-Grey-Melange--Black-Colourblocked-Round-Neck-T-s-5.jpg', '11519021136740-Difference-of-Opinion-Men-White-Solid-Round-Neck-T-shirt-8521519021136642-5.jpg', '23ca68ec-9e90-4cf9-bec7-9599cc8848691530780937336-French-Connection-Men-Tshirts-5471530780937278-5.jpg', 'Rigo-Men-Tshirts_260cc7deca587eafab3d21c1e822dbf9_images.jpg', '11518696582679-HRX-by-Hrithik-Roshan-Men-Navy-Blue-Printed-Round-Neck-T-shirt-9491518696582567-4.jpg', '1a3b91dc-8f51-4d44-b6c8-049f129684cf1531822180447-na-2411531822180232-2.jpg', '11506597646743-Mast--Harbour-Men-T-shirt-8931506597646610-3.jpg', 'f2dcde44-45f1-4048-b263-a99e5eae3ec21528288758683-Roadster-Men-Blue-Striped-Mandarin-Collar-T-shirt-5881528288758596-4.jpg', '11508138154934-FOREVER-21-Men-Tshirts-1551508138154824-4.jpg', '11493105902670-Celio-Men-Orange-Solid-Round-Neck-T-shirt-5481493105902448-1.jpg', '11519042920570-Celio-Men-Tshirts-511519042920420-1.jpg', '742f5efe-ba53-479b-94a3-76c6f32911d31526290601602-Alcis-Mens-Solid-Navy-Blue-Running-T-Shirt-7521526290601400-3.jpg', '11464956553307-ALCOTT-Blue-Flock-Text-Print-T-shirt-5011464956553035-3.jpg', '11456898802528-Rigo-Grey--Black-Slim-Fit-T-shirt-3311456898802177-1.jpg', '11517829231338-HRX-by-Hrithik-Roshan-Charcoal-Grey-Active-Hooded-T-Shirt-7151517829231291-5.jpg', 'a5eff1c2-155e-44a7-9882-909ef221a3d81534490983622-Flying-Machine-Men-Black-Printed-Round-Neck-T-shirt-4311534490983503-2.jpg', 'c2840b27-7076-4cab-9c65-c0fe16d46f301532498203625-AS-M-NK-BRT-TOP-SS-HPR-VENT-2621532498203480-1.jpg', '11512554953985-Basics-Men-Brown-Printed-V-Neck-T-shirt-8641512554953824-3.jpg', '11519987611792-Spiritus-by-pantaloons-Men-Green-Striped-Polo-Collar-T-shirt-4081519987611624-3.jpg', '6164b41c-0fc8-401a-9a71-278c07afef551531462947316-na-6281531462947205-5.jpg', '11504095517454-YWC-Men-Olive-Green-Printed-Round-Neck-T-shirt-8651504095517482-3.jpg', '101cd24e-ebb9-4d4e-b687-291cc75788351529131799070-SayItLoud-Men-Black-Striped-Round-Neck-T-shirt-2321529131798-2.jpg', '11504864162830-Solly-Sport-Men-Tshirts-7441504864162641-1.jpg', '11509624683139-Raymond-Men-Blue-Checked-Polo-Collar-T-shirt-7451509624682971-3.jpg', 'cda8e66a-2516-4c0b-a9a1-b1cb9b51ec431527500241287-United-Colors-of-Benetton-Men-Navy-Blue-Striped-V-Neck-T-shirt-3791527500239654-4.jpg', '11512642354336-SMAG-Men-Grey-Melange-Solid-Polo-Collar-T-shirt-3511512642354182-2.jpg', '3398a908-2139-45b7-b165-7d7fb9470f4c1528453102523-YWC-Men-Black-Self-Design-Round-Neck-T-shirt-362152845310107-1.jpg', '11519883266671-Proline-Active-Men-Olive-Green-Solid-Round-Neck-T-shirt-9001519883266510-5.jpg', '11521546170861-na-5721521546170690-2.jpg', '11519021662435-Difference-of-Opinion-Men-Khaki-Printed-Round-Neck-T-shirt-2761519021662255-5.jpg', '11495008726756-Blackberrys-Men-Tshirts-8021495008726384-2.jpg', '11513578651987-SayItLoud-Navy-Lounge-Hooded-Tshirts-61SOLIDSPACEBLUENAVY-7391513578651882-5.jpg', '11505295745935-FOREVER-21-Men-Black-Solid-Round-Neck-T-shirt-6371505295745756-3.jpg', 'GRITSTONES-Men-Red--Black-Hooded-T-shirt_3_cd329e47d7b2806125591d2aa6be86eb.jpg', '11510386791100-Tom-Tailor-Mens-Solid-Casual-T-shirt-8621510386790884-3.jpg', '11506080964028-Arrow-Sport-Men-Navy-Blue-Solid-Polo-Collar-T-shirt-4331506080963854-2.jpg', '11520666220996-na-2981520666220748-1.jpg', '049866fe-d39c-400c-9a9d-819c2a13083a1535086574235-na-3801535086574104-4.jpg', '11505295751506-FOREVER-21-Men-White-Self-Design-Hood-T-shirt-2641505295751246-1.jpg', '11519903679631-Converse-Men-Navy-Blue-Printed-Polo-Collar-T-shirt-2341519903679492-4.jpg', '11520673893456-Pirates-of-the-Caribbean-Turquoise-Vest-For-Men-3301520673893324-3.jpg', '11506506507296-ColorPlus-Men-Olive-Green--Beige-Ombre-Dyed-Henley-Neck-T-shirt-3091506506507105-2.jpg', '2457af3d-89bd-428e-8c4d-92e0c9d8139d1530698329985-Mast--Harbour-Men-Black-Solid-Mandarin-Collar-T-shirt-968153-2.jpg', '11524733167038-Puma-Men-Black-Printed-Round-Neck-T-shirt-1391524733166896-3.jpg', '11522824799290-Hypernation-Black-and-Green-Color-Cotton-Asymmetrical-T-shirt-For-Men-5401522824799160-2.jpg', '8b65a5c7-9cf5-4791-8f4f-1b229ec138901535630334287-Benoit-Men-Peach-Coloured-Self-Design-Round-Neck-T-shirt-4721535630334066-3.jpg', '11489572447915-Jack--Jones-Men-Rust-Printed-Round-Neck-T-Shirt-5281489572447799-5.jpg', '11524549895934-V-Dot-Men-Tshirts-2531524549895787-4.jpg', '11521190743717-Nautica-Men-White-Solid-Polo-Collar-T-shirt-6311521190743564-3.jpg', '11507550313505-University-of-Oxford-by-People-Men-Grey-Melange-Striped-Henley-Neck-T-shirt-7741507550313291-1.jpg', '11520673967658-Pirates-of-the-Caribbean-Orange-Vest-For-Men-8371520673967443-2.jpg', '11470901009630-Fort-Collins-Men-White-Printed-V-Neck-T-Shirt-4131470901009464-5.jpg', '11511442562519-Moda-Rapido-Men-Black-Solid-Round-Neck-Longline-T-shirt-3021511442562398-1.jpg', '11479881925594-ether-Men-Black-Striped-T-Shirt-7311479881925240-2.jpg', '879a31e3-ee50-4331-b2e4-36935f5f37f91527589211844-na-8831527589210705-4.jpg', '220bef89-4b57-4005-b1b2-6b2f210124811537273701008-GAP-Mens-Navy-Blue-Essential-V-Neck-T-Shirt-3211537273699398-1.jpg', 'fce8c482-b24d-4377-8d64-60ecbdc437661530775535194-Hypernation-Purple-and-White-Stripe-Round-Neck-Cotton-Asymme-3.jpg', '73124808-10a8-4e1d-ba74-8482cb96bf7d1534846084417-SKULT-by-Shahid-Kapoor-Men-Grey-Camouflage-Printed-Round-Nec-1.jpg', 'a943cd59-d039-4731-844c-3a7c5a8dcfad1532002415509-Roadster-Men-Tshirts-7651532002413921-3.jpg', '11511442566671-Moda-Rapido-Men-Black-Printed-Round-Neck-Longline-T-shirt-7011511442566620-4.jpg', '233945ba-a32c-43fb-95a3-9739415057031527767524469-VIMAL-JONNEY-Men-Tshirts-1021527767524193-1.jpg', '8fe4e390-bf52-4618-9c76-eb074a11c1281537265109508-GAP-Mens-Logo-Short-Sleeve-Henley-5271537265108025-1.jpg', 'b98e10ec-f4d8-43e3-8f8d-0af4c70cce7d1526535671308-OVS-Men-Grey-Melange-Printed-Round-Neck-T-shirt-1911526535671153-4.jpg', '11507379113874-US-Polo-Assn-Men-Navy-Blue-Printed-Round-Neck-T-shirt-5191507379113759-1.jpg', '11519641577545-Olive-Green-Sleeveless-Hooded-T-Shirt-2091519641577425-4.jpg', '152c4ebf-539a-4b8f-98c9-0de196ad90661535177748730-2GO-Men-Grey-Printed-Round-Neck-T-shirt-9651535177747861-3.jpg', '11525766886202-Maniac-Men-Pack-of-2-Printed-Round-Neck-T-shirts-3731525766886074-4.jpg', '11495445973415-Kook-N-Keech-Marvel-Men-Blue-Printed-Round-Neck-T-shirt-8631495445973262-3.jpg', '11523520505223-nA-5001523520505143-5.jpg', '9ed13a99-4283-4738-afe3-c02cecd3c4211532079241521-Moda-Rapido-Men-Tshirts-8711532079241426-5.jpg', '11520225578926-Mast--Harbour-Men-Navy-Typography-Printed-T-shirt-7671520225578657-1.jpg', '11500972213413-HERENOW-Men-Navy-Blue-Solid-Henley-Neck-T-shirt-1741500972213293-2.jpg', 'c102847c-574c-46b8-866d-a9ca5178e21a1528973910648-HERENOW-Men-Navy-Blue--White-Striped-Henley-Neck-T-shirt-701-5.jpg', '11509957007094-United-Colors-of-Benetton-Men-Tshirts-1831509957006965-4.jpg', '3f030fbf-0be0-43e3-ba9c-4a89a45fa4711527578047677-na-6691527578046264-4.jpg', '11525766886157-Maniac-Men-Pack-of-2-Printed-Round-Neck-T-shirts-3731525766886074-6.jpg', '11522921885720-Moda-Rapido-Men-Tshirts-4861522921885601-2.jpg', 'ae4edd90-949a-4c26-9850-44d6791ac75b1529302042757-na-961529302042619-3.jpg', '11504000748336-Flying-Machine-Men-Navy-Blue-Printed-Round-Neck-T-shirt-9461504000748203-4.jpg', '11519810171103-NA-7201519810170935-1.jpg', '80006128-23e8-4571-bde5-0973c7b7b71b1536305822881-OVS-Men-Tshirts-2001536305822666-5.jpg', '63debf7b-ba1c-4cea-9462-76c0ef59cb381536063719229-Louis-Philippe-Jeans-Men-Blue-Printed-Round-Neck-T-shirt-416-5.jpg', '11512546146672-Elaborado-Men-Platinum-Grey-Henley-Tshirt-1411512546146492-2.jpg', 'Rigo-Men-Tshirts_1_b52da6e5314ad9c846e11a02c560d6fd.jpg', '11523606623587-Maniac-Mens-Half-Sleeve-Pack-of-2-Cotton-Tshirts-8461523606623375-4.jpg', '11461242576065-Campus-Sutra-Navy-Printed-Henley-T-shirt-3711461242574380-3.jpg', '11520246045221-Flying-Machine-Men-Navy-Blue-Solid-Polo-Collar-T-shirt-781520246045046-4.jpg', '11519029629782-Stormborn-Men-White-Colourblocked-Round-Neck-T-shirt-1441519029629688-5.jpg', '11524658985889-Dream-of-Glory-Inc-Men-Pack-Of-2-Polo-Collar-T-shirt-6971524658985745-4.jpg', '9758fbac-fe8b-4425-a732-db5b853af53d1531473794070-WROGN-Men-Tshirts-1151531473793930-2.jpg', '11522493194032-Van-Heusen-Men-White-Self-Design-Round-Neck-T-shirt-9071522493193772-1.jpg', '11518862006566-Indian-Terrain-Men-Tshirts-7291518862006346-1.jpg', '11478248271002-The-Souled-Store-Unisex-Tshirts-1911478248270687-3.jpg', 'cc587e77-3a15-424c-a8eb-4aed7f3775721531822164891-na-6901531822164809-5.jpg', '02a24430-13b6-4f21-86e6-3a16c99a89321526627245104-OVS-Men-Blue-Solid-Round-Neck-T-shirt-6921526627244944-5.jpg', '11518165468331-Maniac-Men-Black-Self-Designed-Round-Neck-Tshirt-4111518165468029-3.jpg', '11483000031846-WROGN-Men-Grey-Printed-V-Neck-T-Shirt-5691483000031670-5.jpg', '11487321714258-Breakbounce-Men-Innerwear-Vests-4751487321714050-2.jpg', '11511962991718-Roadster-Men-Maroon-Solid-Round-Neck-T-shirt-6241511962991572-3.jpg', '11501232159147-ether-Men-Navy-Blue-T-shirt-3321501232158974-2.jpg', '11524730996222-NA-6731524730996140-4.jpg', '52f6eada-1916-4dc9-93b8-5c1b1b6e8c861527933522077-Wills-Lifestyle-Men-Tshirts-5151527933521921-2.jpg', '11495017392146-Blackberrys-Men-Tshirts-2751495017391916-5.jpg', '85bae466-afa5-4ffc-836f-46116b1310c81527844108087-VIMAL-JONNEY-Men-Tshirts-5811527844107944-6.jpg', '11484903204334-GRITSTONES-Men-Black-Solid-Hood-T-Shirt-651484903204503-5.jpg', '11514529764962-Aeropostale-Men-Burgundy-Striped-Hood-T-shirt-6761514529764945-5.jpg', '11519629157886-NA-1481519629157742-4.jpg', 'f4ffe3d7-e6f9-40af-99ba-de960c47b9a71530872062882-Skult-Mens-Dark-Grey-T-shirts-211530872061604-4.jpg', '11508241423258-FOREVER-21-Men-Green-Solid-Round-Neck-T-shirt-5551508241422959-3.jpg', '11504856582982-People-Men-Tshirts-8441504856582923-5.jpg', '11515056059598-Being-Human-Clothing-Grey-Printed-T-shirt-751515056059454-1.jpg', '11519214815124-HERENOW-Men-Grey-Melange-Colourblocked-Round-Neck-T-shirt-9261519214815020-1.jpg', '11525761748365-na-9701525761748210-3.jpg', 'c0e41aae-5221-442a-acc7-b56fd216c0a71532336928555-Wear-Your-Mind-Black-Cotton-T-shirt-For-Men-8901532336928391-2.jpg', '11505807234505-HERENOW-Men-Grey-Melange-Self-Design-Henley-Neck-T-shirt-2741505807234227-3.jpg', '11518688660406-HRX-by-Hrithik-Roshan-Men-Grey-Melange-Printed-Round-Neck-T-shirt-6121518688660287-3.jpg', '11525668855511-Wills-Lifestyle-Men-Tshirts-1631525668855349-2.jpg', '11513151509575-Okane-Men-Beige-Solid-Henley-Neck-T-shirt-1181513151509407-1.jpg', '11521523909184-HRX-by-Hrithik-Roshan-Men-Tshirts-9531521523909105-5.jpg', '2ddb63fd-928a-40da-b9e0-bc61fbf4ff501534829863076-NA-9541534829862766-1.jpg', '11472626492139-Flying-Machine-Men-Navy-Blue-Striped-Round-Neck-T-Shirt-1521472626491927-3.jpg', '11491287754144-GRITSTONES-Men-Tshirts-4421491287754006-5.jpg', '11473834584413-Fox-Men-Grey-Solid-Round-Neck-T-Shirt-311473834584233-1.jpg', '11525246610277-French-Connection-Men-Tshirts-4921525246610156-5.jpg', 'c84c6960-6dbd-4a4c-b5bb-aa278bfec80c1532954758008-Moda-Rapido-Men-White-Printed-Round-Neck-T-shirt-45015329547-1.jpg', '11524567737489-United-Colors-of-Benetton-Men-Teal-Solid-Mandarin-Collar-T-shirt-2971524567737373-2.jpg', '9342b1d6-04bd-4ca1-b7eb-b4ff4a87495b1533193240246-Louis-Philippe-Jeans-Men-Grey-Self-Design-Henley-Neck-T-shir-3.jpg', '84d51f54-41c6-41de-a241-4cd39f496b351535537843977-HERENOW-Men-Black-Striped-Round-Neck-T-shirt-785153553784248-3.jpg', '11518758325100-Hypernation-Black-and-Grey-Stripe-Cotton-Mask-T-shirt-For-Men-5581518758325001-5.jpg', '11476957517695-HRX-by-Hrithik-Roshan-Men-Tshirts-5791476957517396-1.jpg', '11516791016244-Splash-Men-White-Solid-Polo-Collar-T-shirt-6141516791016138-3.jpg', '1b17a5d4-212c-4236-bf79-562b0d0d60f51527746780351-HERENOW-Men-Tshirts-7231527746777428-4.jpg', '11509626718885-BOSS-Green-Men-White-Printed-Round-Neck-T-shirt-2251509626718611-1.jpg', '3aaf6f0b-1cce-4f9c-a313-ce6c955249bd1530093358922-DERBY-JEANS-COMMUNITY-Men-Grey-Solid-Henley-Neck-T-shirt-409-5.jpg', '11522150803842-Globus-Men-Blue-Solid-Mandarin-Collar-T-shirt-8231522150803689-4.jpg', '11499160183486-YWC-by-Yuvraj-Singh-Men-Blue-Printed-Round-Neck-T-shirt-6221499160183416-4.jpg', '11513072850211-Cotton-blended-mens-hoodi-raglan-full-sleeve-t-shirt-has-chest-print-5521513072850080-2.jpg', '11485933762914-Hypernation-Men-Tshirts-5131485933762766-3.jpg', '11524897101879-Rigo-Camouflage-Half-Sleeve-T-Shirt-For-Men-9961524897101775-3.jpg', '11522842833665-Wildcraft-Men-Charcoal-Printed-Round-Neck-T-shirt-5091522842833511-3.jpg', '11500549088163-ether-Men-Beige-Solid-Henley-Neck-T-shirt-4331500549088052-3.jpg', '47702b59-da5b-44f0-b9f0-72b7a4b520671527504323824-United-Colors-of-Benetton-Men-Grey-Striped-V-Neck-T-shirt-6771527504322493-2.jpg', '11517291382207-Lee-Men-Tshirts-2781517291382127-5.jpg', '11524555962136-WEXFORD-Men-Blue-Printed-V-Neck-T-shirt-8511524555962059-5.jpg', '11524134672020-Puma-Men-Tshirts-8641524134671894-6.jpg', '69a03a3c-a372-4e2b-9d50-7922bc387ebf1532955920816-Moda-Rapido-Men-Black-Solid-Round-Neck-T-shirt-2601532955919-5.jpg', '4b1f8790-c55c-4481-9a8d-2abf87e3dbd91534145037662-Polo-Ralph-Lauren-Classic-Fit-Cotton-Rugby-Shirt-59215341450-1.jpg', '11475234191519-Superdry-Men-Tshirts-1861475234191246-1.jpg', '11521808917032-Admiral-Men-Blue-Solid-Mandarin-Collar-T-shirt-3161521808916897-3.jpg', '11487057627760-Jack--Jones-Men-Tshirts-9121487057627612-3.jpg', '11520586501234-Campus-Sutra-Men-Charcoal-Solid-Mandarin-Collar-T-shirt-1001520586501070-3.jpg', 'e8e41b17-a377-46a4-978b-76db09204c2c1535962837339-ACTIMAXX-Men-Tshirts-1841535962837192-6.jpg', '11481618329289-GRITSTONES-Men-Tshirts-6211481618329151-2.jpg', '104507a9-0fba-4a0b-92e7-46c983b546321529301693627-na-1931529301693459-2.jpg', 'f14e050b-fc0c-41d9-a73c-ec4e6510108e1531217151150-na-8681531217149698-3.jpg', '11523001120870-Masch-Sports-Mens-Polyester-Printed--Colourblocked-T-Shirts---Pack-of-2-4831523001120699-2.jpg', '11517829231394-HRX-by-Hrithik-Roshan-Charcoal-Grey-Active-Hooded-T-Shirt-7151517829231291-2.jpg', '11502454316484-American-Crew-Men-Blue--Red-Striped-V-Neck-T-shirt-3631502454316341-2.jpg', '11499940299468-INVICTUS-Men-White--Grey-Colourblock-Polo-T-shirt-9791499940299249-3.jpg', '11479209529528-Moda-Rapido-Men-Grey-Melange-Printed-Hood-T-Shirt-4471479209529363-2.jpg', '11485499831013-CULT-FICTION-Men-Tshirts-1741485499830886-4.jpg', '4c802d1c-4094-42c1-a3e8-991d795b03c31536919822374-United-Colors-of-Benetton-Men-Yellow-Solid-Stand-Collar-T-shirt-5141536919822257-5.jpg', '11524739529407-FRITZBERG-Men-Navy-Blue-Printed-Polo-Collar-T-shirt-4501524739529269-3.jpg', '11520505881186-ether-Men-Navy-Blue-Striped-Round-Neck-T-shirt-5871520505881076-6.jpg', '11491993908020-B-SPORTS-Men-Black-Printed-Round-Neck-T-shirt-6791491993907819-3.jpg', '11517913139142-FOREVER-21-Men-Olive-Green-Solid-Round-Neck-T-shirt-2991517913139046-1.jpg', '11516604986331-Wear-Your-Mind-Men-Multicoloured-Printed-Round-Neck-T-shirt-3481516604986247-2.jpg', '11519994585828-Numero-Uno-Men-Tshirts-3761519994585652-1.jpg', '11502341822504-Roadster-Men-Blue-Printed-Hood-T-shirt-7891502341822257-2.jpg', '11492757252523-ALCOTT-Men-Green-Solid-Round-Neck-T-shirt-7821492757252375-3.jpg', '11487144869754-Kook-N-Keech-Men-Tshirts-5531487144869605-2.jpg', '11493207894065-Flying-Machine-Black-Printed-T-shirt-7471493207893893-4.jpg', '11514530901196-ether-Men-Blue-Striped-T-Shirt-3051514530901046-2.jpg', '11487319918852-Breakbounce-Men-Maroon-Solid-Hood-T-Shirt-8301487319918701-4.jpg', 'f3b7983d-8154-43a8-a1f7-da6c37b31d331533973429139-Roadster-Men-Tshirts-3341533973428887-1.jpg', '11525775580074-Cottonworld-Men-Tshirts-851525775579897-2.jpg', '11515405716142-herenow-men-white-printed-round-neck-t-shirt-6981515405716117-3.jpg', '11520422565285-Indian-Terrain-Men-Tshirts-9671520422565201-5.jpg', '11485328148668-Batman-Men-Black-Printed-Round-Neck-T-Shirt-211485328148622-3.jpg', '11521197499454-Duke-Mens-Tshirts-7791521197499303-5.jpg', '11522144097104-Spiritus-by-pantaloons-Men-Tshirts-7091522144096877-3.jpg', 'c0aef73e-daf6-439a-9afa-67155343be0c1534145000986-Polo-Ralph-Lauren-Custom-Slim-Fit-Mesh-Polo-Shirt-2915341450-3.jpg', '071f947d-41df-477c-ad9b-be0c74cfcce71536570209934-Flying-Machine-Men-Blue-Solid-Henley-Neck-T-shirt-6691536570-3.jpg', '22c51074-4ad3-4c3a-aa2f-9753849ebde51530877671885-Skult-Mens-Black-Vest-5971530877670515-1.jpg', '11507534249662-FOREVER-21-Men-Tshirts-1331507534249533-3.jpg', '11508411528964-People-Men-Black-Printed-Round-Neck-T-shirt-9861508411528888-4.jpg', '11522319698410-Mast--Harbour-Men-Tshirts-2471522319698287-1.jpg', '11518235603093-Crimsoune-Club-Men-Navy-Blue-Printed-Mandarin-Collar-T-shirt-2041518235602967-4.jpg', '11505729866918-Blue-Saint-Men-Tshirts-6601505729866751-2.jpg', '11480932010340-Hypernation-Men-Black-Checked-Polo-Collar-T-Shirt-3021480932010097-1.jpg', 'b48dd50b-bb8f-4a89-8ef6-479f08cdd2711526537323753-Mens-Nike-Breathe-Elite-Basketball-Top-7841526537323680-5.jpg', '11517918476430-INVICTUS-Men-Pink-Solid-T-shirt-6141517918476357-4.jpg', 'b05f4449-c372-4d6a-938b-50a10cd3e06f1527331607649-Harvard-Men-Red-Striped-Round-Neck-T-shirt-9911527331605848-5.jpg', '56659f54-8267-438b-9db2-e1f9a01526691529485186631-Foreign-Culture-Men-Pack-of-2-Solid-T-shirts-4831529485186464-3.jpg', '11523341865095-FOREVER-21-Men-Tshirts-941523341865036-4.jpg', '11519294011460-Justice-League-Men-Tshirts-501519294011277-2.jpg', '11524738948806-s-9301524738948693-5.jpg', '11520407647286-HERENOW-Men-Tshirts-5001520407647212-4.jpg', '3ff47225-3803-4a74-888e-bf7baf2294a91526031036749-Roadster-Men-Charcoal-Solid-Polo-Collar-T-shirt-3731526031036668-5.jpg', '11517570930719-Aeropostale-Men-Peach-Coloured-Printed-Round-Neck-T-shirt-8671517570930604-5.jpg', '11505367412773-FIFA-U-17-WC-Men-Tshirts-9481505367412603-4.jpg', '11482143144590-Roadster-Men-Grey-Printed-V-Neck-T-Shirt-1521482143144258-4.jpg', 'a9601cfc-4025-41a9-8706-062c65123b7a1531808608253-Pokemon-By-Free-Authority-Mens--T-shirt-671531808608098-5.jpg', '11488538546980-American-Crew-Men-Grey-Striped-Polo-T-Shirt-8951488538546667-1.jpg', '80e9d30e-7a24-4643-816a-31948ab9c8cd1535007450830-na-6851535007450640-2.jpg', '11498804420011-LOCOMOTIVE-Men-White-Printed-Round-Neck-Slim-Fit-T-shirt-8721498804419841-2.jpg', '11525242170336-Moda-Rapido-Men-White-Printed-Round-Neck-T-Shirt-2901525242170228-2.jpg', '11492583761820-Antony-Morato-Men-Tshirts-5881492583761557-2.jpg', '3ea4b4fd-78b5-4dc8-a2c5-1daeca68f50a1533894697193-IZOD-Men-Blue-Colourblocked-Polo-Collar-T-shirt-5641533894696997-1.jpg', '11515136695510-WROGN-Men-Tshirts-451515136695360-4.jpg', '11511344718816-HRX-by-Hrithik-Roshan-Men-Tshirts-6721511344718560-2.jpg', '11518758325254-Hypernation-Black-and-Grey-Stripe-Cotton-Mask-T-shirt-For-Men-5581518758325001-1.jpg', '11522142811125-Peter-England-Casuals-Men-Tshirts-5671522142810936-3.jpg', '11515483122523-Roadster-Men-Tshirts-381515483122494-5.jpg', '33d51069-0d25-4abc-afda-7a0d23b6dd4f1529146224610-SayItLoud-Men-Grey-Melange-Solid-Henley-Neck-T-shirt-5811529146224395-4.jpg', '11514525738247-ESPRIT-Men-Tshirts-7871514525738155-1.jpg', '11522301252934-Kook-N-Keech-Men-Tshirts-6691522301252732-3.jpg', '11523008133704-evoKNIT-Better-Tee-3531523008133537-5.jpg', '60098480-f5e5-48da-b8bf-da11f0ebfb6e1534145902420-Wrangler-Men-Rust-Orange-Solid-Henley-Neck-T-shirt-4651534145902274-2.jpg', 'de0ebb11-279f-4aa8-ac06-802d5b496c441526279260881-Tinted-Men-White-Solid-Henley-Neck-T-shirt-9181526279260742-3.jpg', '11522997003361-HERENOW-Men-White-Colourblocked-Round-Neck-Sleeveless-T-shirt-9551522997003263-4.jpg', '25e3f114-b73c-4136-a44a-27a0c2039d471527331577291-Harvard-Men-Navy-Blue-Colourblocked-Polo-Collar-T-shirt-4911527331575258-1.jpg', '2b0406d7-ca33-4e33-8ca1-311619356fc81536908049061-Flying-Machine-Men-Charcoal-Solid-Round-Neck-T-shirt-261536908048881-2.jpg', '2876ccef-0a6f-4acf-836c-457830c754501528537209399-Indian-Terrain-Men-Burgundy-Solid-Polo-Collar-T-shirt-231528-4.jpg', '11491392454702-Zeven-Men-Black-Solid-V-Neck-T-Shirt-3561491392442056-4.jpg', '0a315229-7bdd-4abe-b72f-253ea0b26f4f1534420029965-Columbia-Men-Mustard-Yellow-Trail-Shaker-Solid-Hooded-T-shir-5.jpg', '11505732337376-SPYKAR-Men-Tshirts-1141505732337190-2.jpg', '11497845699765-US-Polo-Assn-Men-Grey-Self-Striped-Henley-Neck-T-shirt-7501497845699417-1.jpg', '0a00339e-c591-4ab6-9abb-cece92e6802f1526902532791-ERA-OF-ATTITUDE-Men-Grey-Printed-V-Neck-T-shirt-1661526902532602-3.jpg', '5ea55ff3-bb49-4257-b6de-18f152d5c2f91528177048868-French-Connection-Men-Tshirts-8071528177047864-3.jpg', '11500457854002-Roadster-Men-Blue-Printed-Hood-T-shirt-5661500457853886-5.jpg', '11522145384907-Roadster-Men-Tshirts-3551522145384750-3.jpg', '11499859068278-HRX-by-Hrithik-Roshan-Men-Grey-Self-Design-RAPID-DRY-T-Shirt-7071499859068138-5.jpg', '520af0eb-5493-491f-86c3-15011288dd1f1528202496746-Deep-Armhole-vest-Hood-style-7351528202496597-5.jpg', '11512370413638-Parx-Men-Blue-Striped-Polo-Collar-T-shirt-7021512370413555-4.jpg', '11498806979570-Huetrap-Men-White-Printed-Round-Neck-T-shirt-5691498806979341-1.jpg', '11513575872785-SayItLoud-Solid-Men-Round-Neck-Blue--Grey-Lounge-T-Shirt-1691513575872693-4.jpg', 'feee1f7f-8dad-4f23-b9e0-e469816978001526375917289-Lee-Cooper-Men-Mustard-Solid-Henley-Neck-T-shirt-2581526375915255-1.jpg', '11521699502650-GRITSTONES-Men-Tshirts-6941521699502560-4.jpg', '11520056826113-Lee-Cooper-Men-Yellow-Printed-Round-Neck-T-shirt-3441520056825920-1.jpg', 'e6c9510b-4812-4dd1-8fc2-e90dd699db9e1527748496561-Louis-Philippe-Jeans-Men-Tshirts-7531527748496453-5.jpg', '11503489114697-Adidas-Originals-Men-Peach-Coloured-Solid-Polo-Collar-T-shirt-6461503489114516-5.jpg', '11518861994900-Indian-Terrain-Men-Tshirts-7741518861994709-1.jpg', '11507712151179-Aeropostale-Men-Tshirts-4501507712150988-2.jpg', '11518165934612-INVICTUS-Men-Maroon-Solid-Polo-Collar-T-shirt-791518165934477-4.jpg', '11518242169133-na-1981518242168979-3.jpg', '7d331919-9d91-43ec-bc7f-aaf47c7d9e481536145453465-Arrow-Sport-Men-Tshirts-6171536145453198-2.jpg', '11522050778251-Mast--Harbour-Men-Tshirts-9601522050778086-1.jpg', '11493980166159-Roadster-Men-White-Printed-Round-Neck-T-shirt-4411493980165893-3.jpg', '11518696545308-HRX-by-Hrithik-Roshan-Men-Navy-Blue-Printed-Round-Neck-T-shirt-9651518696545177-2.jpg', '11511345676010-FOREVER-21-Men-Tshirts-3461511345675896-3.jpg', '11498214284118-Reebok-Men-Blue-Printed-Round-Neck-T-shirt-9091498214283971-4.jpg', '11509007203931-United-Colors-of-Benetton-Men-Black-Printed-Round-Neck-T-shirt-9781509007203811-4.jpg', '11508406859917-HRX-by-Hrithik-Roshan-Men-Grey-Solid-Round-Neck-T-shirt-3611508406859746-2.jpg', '11518069092766-Maniac-Mens-Henley-Neck-Textured-Blue-Cotton-Blended-Tshirt-3271518069092701-5.jpg', 'e2c0f0b2-4a17-4404-9cef-6a940023cad81533191879333-SKULT-by-Shahid-Kapoor-Men-Olive-Green-Solid-Round-Neck-T-sh-1.jpg', '11505712497758-American-Crew-Men-Tshirts-901505712497485-1.jpg', '11511849983507-Force-NXT-Men-Blue-Solid-V-Neck-T-shirt-1971511849983360-4.jpg', '90a90f86-a2e0-422c-b21e-c8d52537ead61527492696583-na-3811527492696351-1.jpg', '11507808110878-rockit-Men-Tshirts-6351507808110757-4.jpg', '11523438419449-John-Players-Men-Tshirts-1701523438419371-4.jpg', 'c166583a-96e1-406c-8378-f0aeae787b5a1535099869919-Moda-Rapido-Men-Grey-Printed-Longline-T-shirt-94215350998688-3.jpg', '11518690400442-People-Men-Tshirts-5581518690400289-2.jpg', '11511427320989-HRX-by-Hrithik-Roshan-Men-Blue-Solid-Round-Neck-T-shirt-3961511427320831-1.jpg', '11511959780554-Indian-Terrain-Men-Red-Striped-Polo-Collar-T-shirt-2771511959780475-5.jpg', '11519884294469-People-Men-White-Printed-Hood-T-shirt-9141519884294326-3.jpg', 'fc932b2f-1ae3-4aed-b679-a8cc7786f3691534153774365-Basics-Men-Grey-Self-Design-Polo-Collar-T-shirt-401534153774145-1.jpg', '11519629157858-NA-1481519629157742-5.jpg', 'e348c3a6-ccc0-4d8d-81f5-7da246ab170e1527227738391-Jack--Jones-Men-Navy-Blue-Striped-V-Neck-T-shirt-6221527227736591-3.jpg', 'deaa15e4-6dbd-4ecc-8c30-e012c1b0146b1535104199276-Moda-Rapido-Men-White--Black-Camouflage-Printed-Longline-T-s-2.jpg', '11501136814969-ether-Men-Grey-Self-Design-V-Neck-T-shirt-2981501136815027-2.jpg', '11523965757101-Proline-Men-Off-White-Striped-Hood-T-shirt-4861523965756971-5.jpg', '11520494542273-na-4501520494542174-5.jpg', '11489464570559-United-Colors-of-Benetton-Men-Maroon--Blue-Striped-Polo-Collar-T-Shirt-7381489464570302-3.jpg', '11518861151932-Raymond-Men-White-Checked-Polo-Collar-T-shirt-8381518861151766-1.jpg', '3c5c634a-583a-40b8-9cb7-8c31bdf889551527246644592-HERENOW-Men-White--Maroon-Striped-Round-Neck-T-shirt-1381527246644447-3.jpg', '11501746301011-Bruto-Charcoal-Grey-Solid-Regular-Fit-Tshirts-2971501746300825-1.jpg', '11474959094436-HRX-by-Hrithik-Roshan-Men-Grey-Solid-Round-Neck-T-Shirt-9981474959094180-2.jpg', '962cf3d8-94c9-4383-9b15-976f1a0ee7d81535628417159-MESH-HOODED-VEST-2301535628416957-3.jpg', 'e1ceba46-0438-401b-a4aa-e62e3d4e660c1534484834832-KD-2061534484833746-2.jpg', '11519028154957-Stormborn-Men-Brown--Black-Printed-Longline-T-shirt-8371519028154873-5.jpg', '11521455301212-RustBlack-Full-Sleeves-Back-Print-Hooded-T-Shirt-7861521455301083-4.jpg', '11504693875474-Allen-Solly-Men-Grey-Printed-Polo-Collar-T-shirt-1671504693875411-5.jpg', '11519621946359-Jockey-Men-Tshirts-9381519621946232-3.jpg', '11513064460134-na-3221513064459968-2.jpg', '11513673690584-na-7091513673690479-3.jpg', '11492763528822-ALCOTT-Men-Olive-Self-Design-Round-Neck-T-shirt-9101492763528409-1.jpg', '11519994564374-Wrangler-Men-Tshirts-7161519994564312-5.jpg', '11521008394129-Aeropostale-Men-Blue-Colourblocked-Polo-Collar-T-shirt-1811521008394008-5.jpg', '11502193546924-Timberland-Men-Shirts-3111502193546687-1.jpg', '11520831551081-SF-JEANS-by-Pantaloons-Men-Black-Slim-Fit-Printed-Round-Neck-T-shirt-1091520831550976-5.jpg', 'b978654d-7d86-4d50-a625-94c547cb5ce71530872076405-Skult-Mens-Greyanthra-T-shirts-2311530872075257-5.jpg', '11508752000138-Puma-Men-Blue-Solid-Round-Neck-T-shirt-5381508752000035-4.jpg', '11491202087392-US-Polo-Assn-Men-Off-white-Solid-Polo-Collar-T-Shirt-4271491202087187-1.jpg', '530681b4-e4dc-426f-a132-87c4c9e63b2a1528885946493-Mast--Harbour-Men-Blue-Solid-Mandarin-Collar-T-shirt-1015288-3.jpg', '44d6d5b9-fe89-4f4e-8155-49aaf4715a4c1534241264793-SayItLoud-Men-Grey-Melange-Solid-Hood-T-shirt-47015342412628-1.jpg', '11517983201690-Design-Classics-Men-Tshirts-6841517983201567-3.jpg', 'fd7b552d-1469-406d-ab4e-fc387a3a9d851535013031955-Bossini-Men-Olive-Green-Solid-Hood-T-shirt-1431535013030900-1.jpg', '551912a9-ab2d-4585-964a-4195192493911525951458078-PUNK-Men-Black-Printed-Round-Neck-T-shirt-7671525951457879-1.jpg', '2858f39c-f7cb-4e95-8017-533a79e5f5291531310907927-AMERICAN-EAGLE-OUTFITTERS-Men-Maroon-Solid-V-Neck-T-shirt-42-4.jpg', '11493198158979-ALCOTT-Men-Maroon-Solid-Round-Neck-T-shirt-1941493198158630-1.jpg', '5ffb710c-2b45-4d2f-8a66-bda97cb763da1535437984281-na-1401535437984087-2.jpg', '11518849057879-Harvard-Men-Yellow-Striped-Round-Neck-T-shirt-9861518849057701-4.jpg', '11523425718632-French-Connection-Men-Maroon-Printed-Round-Neck-T-shirt-9531523425718470-2.jpg', 'b4682707-9b84-4af7-8838-0af66b3dd3241530776730619-French-Connection-Men-Tshirts-4881530776730486-3.jpg', '79bc7a1a-6ee6-4554-9a94-ff88f3a591991528780404769-John-Players-Men-Off-White-Self-Design-Polo-Collar-T-shirt-3-5.jpg', 'a07b7b63-5757-420d-a4b0-7ad26e530abc1535437994407-na-7291535437994309-4.jpg', '447e5924-cc49-4988-bf1e-8171444ba6bb1536743972379-United-Colors-of-Benetton-Men-White-Printed-Polo-Collar-T-shirt-4131536743972276-5.jpg', '11521782271123-NA-6941521782270905-1.jpg', '11517207239022-Blackberrys-Men-Tshirts-4771517207238951-5.jpg', '16216504-4212-441b-8e9c-5a792aeb2fd01526452962259-Levis-Men-Tshirts-8661526452960608-1.jpg', '11504330852405-hummel-Men-Grey-Printed-Classic-Bee-Ss-Round-Neck-T-shirt-1071504330852226-3.jpg', '11462954672282-Quiksilver-Grey-Melange-Printed-Sleeveless-T-shirt-3081462954672059-3.jpg', '11495445973456-Kook-N-Keech-Marvel-Men-Blue-Printed-Round-Neck-T-shirt-8631495445973262-1.jpg', '11503397290325-LOCOMOTIVE-Men-Blue-Printed-Round-Neck-Slim-Fit-T-shirt-8641503397290209-1.jpg', '11471587145061-Breakbounce-Men-Tshirts-8251471587144836-3.jpg', '11519382802262-Indian-Terrain-Men-Grey-Checked-Polo-Collar-T-shirt-4521519382802056-1.jpg', '11517209859946-Jockey-Men-Blue-Solid-V-Neck-T-shirt-7861517209859786-1.jpg', '748ee63d-4b81-483b-ae97-44eaccabfed11534765774555-Pepe-Jeans-Men-Red-Printed-Round-Neck-T-shirt-8891534765774455-5.jpg', '11520509572982-na-2841520509572830-2.jpg', 'ffb8b81b-e9a3-44d7-ac7a-1699d43be4f11530878498954-Mast--Harbour-Men-Tshirts-3591530878497393-1.jpg', '11088549-52b3-4b38-8854-2d0d0cacae1d1527144363558-Hypernation-Men-Navy-Blue-Striped-Round-Neck-T-shirt-41527144363356-2.jpg', '11508310327354-FOREVER-21-Men-Tshirts-3061508310327210-2.jpg', '11518513963426-Nike-Men-Tshirts-5341518513963254-1.jpg', 'cd820986-3e39-46e8-aa91-2902780361ce1530874751513-NA-8771530874751337-2.jpg', '11523009998745-evoKNIT-Better-Tee-5881523009998541-1.jpg', '11517381197982-Maniac-Mens-Halfsleeve-Solid-V-Neck-Navy-Cotton-T-Shirt-9691517381197892-3.jpg', '11507808131725-rockit-Men-Tshirts-8011507808131725-2.jpg', 'c0cddf75-6f15-450a-9275-6b6e137eab571527931070969-PUNK-Men-Black-Printed-Round-Neck-T-shirt-9441527931070779-1.jpg', 'ff7690bb-4770-4d38-b182-dc5f00a423c41525857027126-Roadster-Men-Maroon-Solid-Polo-Collar-T-shirt-8731525857027012-4.jpg', '11495184903139-FOREVER-21-Men-Off-White-Solid-Hood-T-shirt-2051495184902865-5.jpg', '11493012303394-INDICODE-Men-Tshirts-7101493012303247-4.jpg', '11520068566175-Splash-Men-Tshirts-7801520068566044-3.jpg', '9f01ca6d-b2d5-481e-a503-0b024403865d1535099149244-Moda-Rapido-Men-Black-Printed-Longline-T-shirt-7261535099147-5.jpg', '60394204-6a50-440a-8f53-b03c7da58f781532686493908-Roadster-Men-Tshirts-3631532686493752-3.jpg', '11522145178444-Moda-Rapido-Men-Grey-Melange-Printed-T-shirt-2621522145178298-1.jpg', '11511439454243-Nike-Men-Black-Solid-Round-Neck-T-shirt-421511439454128-5.jpg', '0df0d2ee-c18b-4539-be08-0383315ee7be1534842834545-a-2661534842834467-5.jpg', '11511351322507-Jack--Jones-Men-Tshirts-8941511351322284-1.jpg', '85efbfe3-6cf2-4e4b-a54a-51e43aeca2881535629460970-Louis-Philippe-Sport-Men-Black-Self-Design-Polo-Collar-T-shirt-2391535629460771-1.jpg', '944645c5-8e46-4371-8133-7e7c704acdcd1532081135570-Wrangler-Men-White-Printed-Round-Neck-T-shirt-3291532081135393-3.jpg', '11518159376497-FIDO-DIDO-Men-Tshirts-421518159376366-3.jpg', '0c4b3db6-4bbf-485b-9620-e5e80ca42a911534749299992-ELABORADO-Men-White-Printed-Round-Neck-T-shirt-5581534749297-4.jpg', '11491392459769-Zeven-Men-Green-Solid-V-Neck-T-Shirt-3931491392447116-4.jpg', '11515055759817-United-Colors-of-Benetton-Men-Green-Striped-Polo-Collar-T-shirt-1081515055759755-2.jpg', '11524554912374-Cult-Fiction-Mandarin-Collar-Royal-Blue-Solid-100-Cotton-Pique-Fabric-T-Shirt-For-Men-3911524554912221-3.jpg', 'e5784121-6b2c-4943-888c-65bb87e262221535628390794-Stripped-Front-Slit-Thumbhole-Kurta-2211535628390539-1.jpg', '4836e9b5-4a19-4603-8d5d-b6ded3d409ad1526380525476-Ed-Hardy-Men-Blue-Solid-Polo-Collar-T-shirt-1431526380524266-5.jpg', '11489127789684-FILA-Men-Tshirts-6591489127789417-3.jpg', '11520057773979-Numero-Uno-Men-Blue-Solid-Polo-Collar-T-shirt-5851520057773817-4.jpg', '11503578900011-Celio-Men-Navy-Blue-Solid-V-Neck-T-shirt-1221503578899828-5.jpg', '11523007753932-Lee-Cooper-Men-Tshirts-7121523007753716-1.jpg', '21aa55ca-9a44-4d3b-ab17-99fc87236ec81527578304449-a-8821527578304309-3.jpg', '7813c8d8-1eeb-40b4-a2c6-25c096f629061527577886160-na-3711527577883766-3.jpg', '11517826112517-HRX-by-Hrithik-Roshan-Grey-Solid-T-shirt-4091517826112479-5.jpg', '5b39cff1-b8e6-41c9-803b-08f9b1c0e35f1533728304712-Arrow-Sport-Men-Navy-Blue-Striped-Polo-Collar-T-shirt-749153-5.jpg', '9a5b91ad-678f-43de-b138-bf57c9fa04c21528452909490-YWC-Men-Grey-Printed-Round-Neck-T-shirt-3271528452908295-3.jpg', '4fd4b317-aacf-479f-84aa-43ac93b7bde21528288823780-Roadster-Men-Off-White-Striped-Mandarin-Collar-T-shirt-3581528288823662-3.jpg', 'GRITSTONES-Men-Red--Black-Hooded-T-shirt_1_279d3a28ae0414fc5c4a0bcaf88647e1.jpg', '31ebb6eb-ff4f-4957-b3ae-927ab78b38e21527578112581-na-9861527578111033-3.jpg', '11520674122216-Pirates-of-the-Caribbean-Multicolor-Vest-For-Men-2101520674122084-3.jpg', '11517478951170-na-7731517478951043-4.jpg', '11497606324748-Van-Heusen-Men-Tshirts-3621497606324628-4.jpg', '6a7e4c79-6fd9-4a49-871e-b48fed4e768b1533894233152-Navy-Blue-Striped-Regular-Fit-Polo-T-Shirt-8291533894233064-5.jpg', '11498119442593-US-Polo-Assn-Men-Olive-Green-Printed-Round-Neck-T-shirt-9251498119442379-4.jpg', '289a0427-f85f-4a26-bd19-6392f56c65741534852897692-AMERICAN-EAGLE-OUTFITTERS-Men-Charcoal-Solid-V-Neck-T-shirt--5.jpg', '3ddffd25-c115-4cd6-b614-a974082e23291532345065111-Flying-Machine-Men-Navy-Blue-Dyed-Round-Neck-T-shirt-1911532-2.jpg', '9334803d-89f7-4599-918f-e6baae980efb1527762342497-Mast--Harbour-Men-Tshirts-3781527762342268-1.jpg', '11524647043440-Van-Heusen-Men-Tshirts-9891524647043355-5.jpg', '418e470a-d83b-4ff6-b346-0c23393888451527577828475-na-3861527577826989-1.jpg', '11514877855014-Kook-N-Keech-Men-White-Printed-Round-Neck-T-shirt-2151514877854941-5.jpg', '11521530592804-Tommy-Hilfiger-Men-White-Striped-Polo-Collar-T-shirt-241521530592662-4.jpg', '11458045762547-Globalite-Sport-Blue-Polo-T-shirt-6831458045762066-2.jpg', '11514543895161-Force-NXT-Men-Navy-Blue-Printed-Round-Neck-T-shirt-3761514543895101-5.jpg', '11515751090665-Jack--Jones-Men-Tshirts-2411515751090624-5.jpg', '11515411536153-levis-men-blue-solid-polo-collar-t-shirt-1651515411536119-4.jpg', '11460964144455-Pink-Floyd-Black-Printed-T-shirt-8181460964140300-1.jpg', 'f903c262-6464-46e7-b11c-178a8a6795d61527577936560-na-21527577934789-1.jpg', '4fd7b750-913f-4f69-a88b-f03f57b07ee81532674557630-WROGN-Men-Tshirts-5471532674557465-3.jpg', '11507283748679-Celio-Men-Navy-Blue-Solid-V-Neck-T-shirt-9471507283748435-3.jpg', 'e7c6917a-b1cd-45a6-91cd-fe796d84348d1531115725226-SKULT-by-Shahid-Kapoor-Men-Navy-Blue-Solid-Hood-T-shirt-3571-5.jpg', '11524216460987-Men-Pearl-Pink-Round-Neck-Tshirt-8531524216460920-5.jpg', '11523339167919-na-5711523339167690-2.jpg', '11490955351103-Roadster-Men-Charcoal-Printed-Round-Neck-T-Shirt-691490955350760-1.jpg', '11518515070799-HERENOW-Men-Navy-Blue-Striped-Round-Neck-T-shirt-731518515070714-3.jpg', '11523864928721-Teesort-Mens-Cotton-Half-Sleeve-T-shirt-2981523864928525-1.jpg', '11503037642003-LOCOMOTIVE-Men-Tshirts-811503037641849-4.jpg', '11518076089247-Alcis-Mens-White-Printed-Training-T-Shirt-3831518076089160-5.jpg', '11524637880998-Justice-League-Men-Charcoal-Printed-Round-Neck-T-shirt-8601524637880859-3.jpg', '11523515095453-na-6311523515095321-3.jpg', '11516784735409-PostFold-Mens-Solid-Cotton-Casual-Tshirts-2171516784735259-4.jpg', '11498215720811-Reebok-Men-Grey-Printed-Round-Neck-T-shirt-6641498215720679-4.jpg', '44858e91-b099-4b94-b3e2-0ee338eaee2c1532670537796-ESPRIT-Men-Tshirts-2091532670537708-1.jpg', '11473241995473-CAT-Men-Green-Solid-Henley-Neck-T-Shirt-8191473241995677-3.jpg', '11516273606612-Roadster-Men-Grey-Printed-Round-Neck-T-shirt-9521516273606556-3.jpg', '11485170180814-Columbia-Black-T-shirt-171485170181219-1.jpg', '7a646aba-1d8d-4a7e-bb2c-9972c71dec281527574941152-United-Colors-of-Benetton-Men-Tshirts-1671527574941004-2.jpg', '11507805534748-ATTIITUDE-Men-White-Printed-Round-Neck-T-shirt-6881507805534621-4.jpg', '3497f815-103e-4393-bd65-56469df3807c1529647802972-na-1851529647801570-3.jpg', '11523606464912-Maniac-Mens-Full-Sleeve-Pack-of-2-Cotton-Tshirts-4851523606464705-2.jpg', '11489464441242-US-Polo-Assn-Men-Navy-Striped-Polo-T-shirt-8371489464440905-1.jpg', '11474097963305-United-Colors-of-Benetton-Men-Navy-Blue--Polo-Collar-T-Shirt-3871474097963173-3.jpg', 'bf172af5-fcb9-4eea-aa15-5492e1d2c88f1533194255449-Octave-Men-Tshirts-5901533194255242-2.jpg', '11510738193693-Kook-N-Keech-Men-Tshirts-3901510738193574-2.jpg', 'b70fe3ea-a79d-4344-9a3a-c1d5ac4101901536560257576-Flying-Machine-Men-Red-Solid-Polo-Collar-T-shirt-28215365602-6.jpg', '11514464891151-Difference-of-Opinion-Men-Red--Black-Striped-Round-Neck-T-Shirt-2751514464891023-3.jpg', '11519373563858-NA-31519373563671-4.jpg', 'fe13a0a6-d502-4fe1-835a-d768794a0d801536757481366-Roadster-Men-Black-Striped-Henley-T-shirt-6011536757481118-2.jpg', '11525354292830-Basics-Men-Brown-Striped-Polo-Collar-T-shirt-7761525354292733-4.jpg', '11488531309409-ONN-Pack-of-2-Polo-T-shirts-1661488531309151-2.jpg', '6461e151-7e04-4e8d-9aee-f694103dd1c61533810416005-na-6601533810415817-1.jpg', '11523617350731-Splash-Men-Navy-Blue--Red-Striped-Polo-Collar-T-shirt-5731523617350350-5.jpg', '11473332345533-Hypernation-Men-Brown-Colour-Blocked-Polo-Collar-T-Shirt-201473332345443-5.jpg', 'f3d0d7ae-40b3-4b93-8d54-7ac3d28fd90d1536388112599-Okane-Men-Tshirts-5681536388112488-4.jpg', '11518849297613-na-7601518849297413-1.jpg', '11504095826870-YWC-Men-Navy-Blue-Printed-Round-Neck-T-shirt-9751504095826903-3.jpg', '11522753444371-Duke-Men-Tshirts-9211522753444121-4.jpg', '11508306028787-FOREVER-21-Men-Grey-Melange-Self-Design-Hood-T-shirt-8511508306028552-2.jpg', '11515136695487-WROGN-Men-Tshirts-451515136695360-5.jpg', '34215de6-c544-40cd-8276-641f27d2aeb71528274940869-HRX-by-Hrithik-Roshan-Men-Tshirts-7421528274940725-3.jpg', '11503899286931-Celio-Men-Black-Printed-Round-Neck-T-shirt-3551503899286867-5.jpg', '11523001276622-Masch-Sports-Mens-Polyester-Printed-T-Shirts---Pack-of-2-951523001276467-4.jpg', '11523517275008-Club-York-Men-Off-White-Self-Design-Henley-Neck-T-shirt-2261523517274922-3.jpg', '03e39334-1d00-4eb4-94b4-2c6d33cf49d41527940438291-Campus-Sutra-Self-Design-Mens-Round-Neck-White-T-Shirt-73015-2.jpg', '75177f1c-68a4-4193-b282-16461027341c1528353673337-United-Colors-of-Benetton-Men-Orange-Solid-Round-Neck-T-shirt-6641528353673132-3.jpg', '11524819868202-Peter-England-Men-Olive-Green-Solid-Mandarin-Collar-T-shirt-3851524819868019-4.jpg', '11519041235213-Roadster-Men-Tshirts-4431519041234993-3.jpg', '11513335212191-French-Connection-Men-Red-Printed-Round-Neck-T-shirt-8761513335212054-1.jpg', '11503395084875-LOCOMOTIVE-Men-Navy-Blue-Printed-Round-Neck-Slim-Fit-T-shirt-2251503395085280-3.jpg', '558644b8-f8c6-4d83-882f-bf96712d87ce1527744244958-HERENOW-Men-White-Colourblocked-Round-Neck-T-shirt-631152774-5.jpg', '11522927178613-FOREVER-21-Men-Tshirts-3821522927178557-5.jpg', '11506590723741-FOREVER-21-Men-Yellow-Solid-Hood-T-shirt-411506590723650-5.jpg', '11519976663291-Spiritus-by-pantaloons-Men-Pink-Solid-Mandarin-Collar-T-shirt-8201519976663070-1.jpg', '11504862926244-Avengers-Men-Black-Printed-Round-Neck-T-shirt-4531504862926120-4.jpg', '60ce6911-0aea-40c9-885f-d40424e7a8eb1534748492716-Ecko-Unltd-Men-Blue-Printed-Round-Neck-T-shirt-5821534748491-1.jpg', '11521455227792-Grey-MelangeBlack-Printed-Hooded-T-Shirt-8811521455227644-3.jpg', '11470911418370-Difference-of-Opinion-Black-Printed-T-shirt-1241470911418267-4.jpg', '11512554538871-Adidas-Originals-Men-Tshirts-8971512554538805-1.jpg', '11502193563202-Timberland-Men-Shirts-9881502193563062-4.jpg']\n",
            "Number of validation images: 136\n"
          ]
        }
      ]
    },
    {
      "cell_type": "code",
      "source": [
        "#train data loader\n",
        "train_loader = DataLoader(\n",
        "    train_data, \n",
        "    batch_size=batch_size,\n",
        "    shuffle=True\n",
        ")\n",
        "# validation data loader\n",
        "valid_loader = DataLoader(\n",
        "    valid_data, \n",
        "    batch_size=batch_size,\n",
        "    shuffle=False\n",
        ")"
      ],
      "metadata": {
        "id": "38EHHk1kpXTi"
      },
      "execution_count": 18,
      "outputs": []
    },
    {
      "cell_type": "code",
      "source": [
        "# start the training and validation\n",
        "train_loss = []\n",
        "valid_loss = []\n",
        "for epoch in range(epochs):\n",
        "    print(f\"Epoch {epoch+1} of {epochs}\")\n",
        "    train_epoch_loss = train(\n",
        "        model, train_loader, optimizer, criterion, train_data, device\n",
        "    )\n",
        "    valid_epoch_loss = validate(\n",
        "        model, valid_loader, criterion, valid_data, device\n",
        "    )\n",
        "    train_loss.append(train_epoch_loss)\n",
        "    valid_loss.append(valid_epoch_loss)\n",
        "    print(f\"Train Loss: {train_epoch_loss:.4f}\")\n",
        "    print(f'Val Loss: {valid_epoch_loss:.4f}')"
      ],
      "metadata": {
        "colab": {
          "base_uri": "https://localhost:8080/"
        },
        "id": "f3ieC_xapc1d",
        "outputId": "c03b341d-e2d3-467a-9224-8327f36d03da"
      },
      "execution_count": 19,
      "outputs": [
        {
          "output_type": "stream",
          "name": "stdout",
          "text": [
            "Epoch 1 of 20\n",
            "Training\n"
          ]
        },
        {
          "output_type": "stream",
          "name": "stderr",
          "text": [
            "\r  0%|          | 0/24 [00:00<?, ?it/s]/usr/local/lib/python3.7/dist-packages/ipykernel_launcher.py:72: UserWarning: To copy construct from a tensor, it is recommended to use sourceTensor.clone().detach() or sourceTensor.clone().detach().requires_grad_(True), rather than torch.tensor(sourceTensor).\n"
          ]
        },
        {
          "output_type": "stream",
          "name": "stdout",
          "text": [
            "1\n"
          ]
        },
        {
          "output_type": "stream",
          "name": "stderr",
          "text": [
            "\r  4%|▍         | 1/24 [00:00<00:14,  1.56it/s]"
          ]
        },
        {
          "output_type": "stream",
          "name": "stdout",
          "text": [
            "2\n"
          ]
        },
        {
          "output_type": "stream",
          "name": "stderr",
          "text": [
            "\r  8%|▊         | 2/24 [00:01<00:12,  1.71it/s]"
          ]
        },
        {
          "output_type": "stream",
          "name": "stdout",
          "text": [
            "3\n"
          ]
        },
        {
          "output_type": "stream",
          "name": "stderr",
          "text": [
            "\r 12%|█▎        | 3/24 [00:01<00:11,  1.76it/s]"
          ]
        },
        {
          "output_type": "stream",
          "name": "stdout",
          "text": [
            "4\n"
          ]
        },
        {
          "output_type": "stream",
          "name": "stderr",
          "text": [
            "\r 17%|█▋        | 4/24 [00:02<00:11,  1.79it/s]"
          ]
        },
        {
          "output_type": "stream",
          "name": "stdout",
          "text": [
            "5\n"
          ]
        },
        {
          "output_type": "stream",
          "name": "stderr",
          "text": [
            "\r 21%|██        | 5/24 [00:02<00:10,  1.80it/s]"
          ]
        },
        {
          "output_type": "stream",
          "name": "stdout",
          "text": [
            "6\n"
          ]
        },
        {
          "output_type": "stream",
          "name": "stderr",
          "text": [
            "\r 25%|██▌       | 6/24 [00:03<00:09,  1.82it/s]"
          ]
        },
        {
          "output_type": "stream",
          "name": "stdout",
          "text": [
            "7\n"
          ]
        },
        {
          "output_type": "stream",
          "name": "stderr",
          "text": [
            "\r 29%|██▉       | 7/24 [00:03<00:09,  1.84it/s]"
          ]
        },
        {
          "output_type": "stream",
          "name": "stdout",
          "text": [
            "8\n"
          ]
        },
        {
          "output_type": "stream",
          "name": "stderr",
          "text": [
            "\r 33%|███▎      | 8/24 [00:04<00:08,  1.84it/s]"
          ]
        },
        {
          "output_type": "stream",
          "name": "stdout",
          "text": [
            "9\n"
          ]
        },
        {
          "output_type": "stream",
          "name": "stderr",
          "text": [
            "\r 38%|███▊      | 9/24 [00:04<00:08,  1.85it/s]"
          ]
        },
        {
          "output_type": "stream",
          "name": "stdout",
          "text": [
            "10\n"
          ]
        },
        {
          "output_type": "stream",
          "name": "stderr",
          "text": [
            "\r 42%|████▏     | 10/24 [00:05<00:07,  1.84it/s]"
          ]
        },
        {
          "output_type": "stream",
          "name": "stdout",
          "text": [
            "11\n"
          ]
        },
        {
          "output_type": "stream",
          "name": "stderr",
          "text": [
            "\r 46%|████▌     | 11/24 [00:06<00:08,  1.50it/s]"
          ]
        },
        {
          "output_type": "stream",
          "name": "stdout",
          "text": [
            "12\n"
          ]
        },
        {
          "output_type": "stream",
          "name": "stderr",
          "text": [
            "\r 50%|█████     | 12/24 [00:07<00:08,  1.34it/s]"
          ]
        },
        {
          "output_type": "stream",
          "name": "stdout",
          "text": [
            "13\n"
          ]
        },
        {
          "output_type": "stream",
          "name": "stderr",
          "text": [
            "\r 54%|█████▍    | 13/24 [00:07<00:07,  1.47it/s]"
          ]
        },
        {
          "output_type": "stream",
          "name": "stdout",
          "text": [
            "14\n"
          ]
        },
        {
          "output_type": "stream",
          "name": "stderr",
          "text": [
            "\r 58%|█████▊    | 14/24 [00:08<00:06,  1.57it/s]"
          ]
        },
        {
          "output_type": "stream",
          "name": "stdout",
          "text": [
            "15\n"
          ]
        },
        {
          "output_type": "stream",
          "name": "stderr",
          "text": [
            "\r 62%|██████▎   | 15/24 [00:08<00:05,  1.65it/s]"
          ]
        },
        {
          "output_type": "stream",
          "name": "stdout",
          "text": [
            "16\n"
          ]
        },
        {
          "output_type": "stream",
          "name": "stderr",
          "text": [
            "\r 67%|██████▋   | 16/24 [00:09<00:04,  1.71it/s]"
          ]
        },
        {
          "output_type": "stream",
          "name": "stdout",
          "text": [
            "17\n"
          ]
        },
        {
          "output_type": "stream",
          "name": "stderr",
          "text": [
            "\r 71%|███████   | 17/24 [00:10<00:03,  1.76it/s]"
          ]
        },
        {
          "output_type": "stream",
          "name": "stdout",
          "text": [
            "18\n"
          ]
        },
        {
          "output_type": "stream",
          "name": "stderr",
          "text": [
            "\r 75%|███████▌  | 18/24 [00:10<00:03,  1.79it/s]"
          ]
        },
        {
          "output_type": "stream",
          "name": "stdout",
          "text": [
            "19\n"
          ]
        },
        {
          "output_type": "stream",
          "name": "stderr",
          "text": [
            "\r 79%|███████▉  | 19/24 [00:11<00:02,  1.81it/s]"
          ]
        },
        {
          "output_type": "stream",
          "name": "stdout",
          "text": [
            "20\n"
          ]
        },
        {
          "output_type": "stream",
          "name": "stderr",
          "text": [
            "\r 83%|████████▎ | 20/24 [00:11<00:02,  1.82it/s]"
          ]
        },
        {
          "output_type": "stream",
          "name": "stdout",
          "text": [
            "21\n"
          ]
        },
        {
          "output_type": "stream",
          "name": "stderr",
          "text": [
            "\r 88%|████████▊ | 21/24 [00:12<00:01,  1.84it/s]"
          ]
        },
        {
          "output_type": "stream",
          "name": "stdout",
          "text": [
            "22\n"
          ]
        },
        {
          "output_type": "stream",
          "name": "stderr",
          "text": [
            "\r 92%|█████████▏| 22/24 [00:12<00:01,  1.85it/s]"
          ]
        },
        {
          "output_type": "stream",
          "name": "stdout",
          "text": [
            "23\n"
          ]
        },
        {
          "output_type": "stream",
          "name": "stderr",
          "text": [
            "\r 96%|█████████▌| 23/24 [00:13<00:00,  1.85it/s]"
          ]
        },
        {
          "output_type": "stream",
          "name": "stdout",
          "text": [
            "24\n"
          ]
        },
        {
          "output_type": "stream",
          "name": "stderr",
          "text": [
            "25it [00:13,  1.80it/s]                        \n"
          ]
        },
        {
          "output_type": "stream",
          "name": "stdout",
          "text": [
            "25\n",
            "Validating\n"
          ]
        },
        {
          "output_type": "stream",
          "name": "stderr",
          "text": [
            "4it [00:01,  2.16it/s]\n"
          ]
        },
        {
          "output_type": "stream",
          "name": "stdout",
          "text": [
            "Train Loss: 0.4213\n",
            "Val Loss: 0.3060\n",
            "Epoch 2 of 20\n",
            "Training\n"
          ]
        },
        {
          "output_type": "stream",
          "name": "stderr",
          "text": [
            "\r  0%|          | 0/24 [00:00<?, ?it/s]"
          ]
        },
        {
          "output_type": "stream",
          "name": "stdout",
          "text": [
            "1\n"
          ]
        },
        {
          "output_type": "stream",
          "name": "stderr",
          "text": [
            "\r  4%|▍         | 1/24 [00:00<00:12,  1.86it/s]"
          ]
        },
        {
          "output_type": "stream",
          "name": "stdout",
          "text": [
            "2\n"
          ]
        },
        {
          "output_type": "stream",
          "name": "stderr",
          "text": [
            "\r  8%|▊         | 2/24 [00:01<00:11,  1.86it/s]"
          ]
        },
        {
          "output_type": "stream",
          "name": "stdout",
          "text": [
            "3\n"
          ]
        },
        {
          "output_type": "stream",
          "name": "stderr",
          "text": [
            "\r 12%|█▎        | 3/24 [00:01<00:11,  1.86it/s]"
          ]
        },
        {
          "output_type": "stream",
          "name": "stdout",
          "text": [
            "4\n"
          ]
        },
        {
          "output_type": "stream",
          "name": "stderr",
          "text": [
            "\r 17%|█▋        | 4/24 [00:02<00:10,  1.84it/s]"
          ]
        },
        {
          "output_type": "stream",
          "name": "stdout",
          "text": [
            "5\n"
          ]
        },
        {
          "output_type": "stream",
          "name": "stderr",
          "text": [
            "\r 21%|██        | 5/24 [00:02<00:10,  1.85it/s]"
          ]
        },
        {
          "output_type": "stream",
          "name": "stdout",
          "text": [
            "6\n"
          ]
        },
        {
          "output_type": "stream",
          "name": "stderr",
          "text": [
            "\r 25%|██▌       | 6/24 [00:03<00:09,  1.85it/s]"
          ]
        },
        {
          "output_type": "stream",
          "name": "stdout",
          "text": [
            "7\n"
          ]
        },
        {
          "output_type": "stream",
          "name": "stderr",
          "text": [
            "\r 29%|██▉       | 7/24 [00:03<00:09,  1.86it/s]"
          ]
        },
        {
          "output_type": "stream",
          "name": "stdout",
          "text": [
            "8\n"
          ]
        },
        {
          "output_type": "stream",
          "name": "stderr",
          "text": [
            "\r 33%|███▎      | 8/24 [00:04<00:08,  1.85it/s]"
          ]
        },
        {
          "output_type": "stream",
          "name": "stdout",
          "text": [
            "9\n"
          ]
        },
        {
          "output_type": "stream",
          "name": "stderr",
          "text": [
            "\r 38%|███▊      | 9/24 [00:04<00:08,  1.85it/s]"
          ]
        },
        {
          "output_type": "stream",
          "name": "stdout",
          "text": [
            "10\n"
          ]
        },
        {
          "output_type": "stream",
          "name": "stderr",
          "text": [
            "\r 42%|████▏     | 10/24 [00:05<00:07,  1.85it/s]"
          ]
        },
        {
          "output_type": "stream",
          "name": "stdout",
          "text": [
            "11\n"
          ]
        },
        {
          "output_type": "stream",
          "name": "stderr",
          "text": [
            "\r 46%|████▌     | 11/24 [00:05<00:07,  1.84it/s]"
          ]
        },
        {
          "output_type": "stream",
          "name": "stdout",
          "text": [
            "12\n"
          ]
        },
        {
          "output_type": "stream",
          "name": "stderr",
          "text": [
            "\r 50%|█████     | 12/24 [00:06<00:06,  1.86it/s]"
          ]
        },
        {
          "output_type": "stream",
          "name": "stdout",
          "text": [
            "13\n"
          ]
        },
        {
          "output_type": "stream",
          "name": "stderr",
          "text": [
            "\r 54%|█████▍    | 13/24 [00:07<00:05,  1.86it/s]"
          ]
        },
        {
          "output_type": "stream",
          "name": "stdout",
          "text": [
            "14\n"
          ]
        },
        {
          "output_type": "stream",
          "name": "stderr",
          "text": [
            "\r 58%|█████▊    | 14/24 [00:07<00:05,  1.86it/s]"
          ]
        },
        {
          "output_type": "stream",
          "name": "stdout",
          "text": [
            "15\n"
          ]
        },
        {
          "output_type": "stream",
          "name": "stderr",
          "text": [
            "\r 62%|██████▎   | 15/24 [00:08<00:04,  1.86it/s]"
          ]
        },
        {
          "output_type": "stream",
          "name": "stdout",
          "text": [
            "16\n"
          ]
        },
        {
          "output_type": "stream",
          "name": "stderr",
          "text": [
            "\r 67%|██████▋   | 16/24 [00:08<00:04,  1.87it/s]"
          ]
        },
        {
          "output_type": "stream",
          "name": "stdout",
          "text": [
            "17\n"
          ]
        },
        {
          "output_type": "stream",
          "name": "stderr",
          "text": [
            "\r 71%|███████   | 17/24 [00:09<00:03,  1.86it/s]"
          ]
        },
        {
          "output_type": "stream",
          "name": "stdout",
          "text": [
            "18\n"
          ]
        },
        {
          "output_type": "stream",
          "name": "stderr",
          "text": [
            "\r 75%|███████▌  | 18/24 [00:09<00:03,  1.87it/s]"
          ]
        },
        {
          "output_type": "stream",
          "name": "stdout",
          "text": [
            "19\n"
          ]
        },
        {
          "output_type": "stream",
          "name": "stderr",
          "text": [
            "\r 79%|███████▉  | 19/24 [00:10<00:02,  1.87it/s]"
          ]
        },
        {
          "output_type": "stream",
          "name": "stdout",
          "text": [
            "20\n"
          ]
        },
        {
          "output_type": "stream",
          "name": "stderr",
          "text": [
            "\r 83%|████████▎ | 20/24 [00:10<00:02,  1.87it/s]"
          ]
        },
        {
          "output_type": "stream",
          "name": "stdout",
          "text": [
            "21\n"
          ]
        },
        {
          "output_type": "stream",
          "name": "stderr",
          "text": [
            "\r 88%|████████▊ | 21/24 [00:11<00:01,  1.87it/s]"
          ]
        },
        {
          "output_type": "stream",
          "name": "stdout",
          "text": [
            "22\n"
          ]
        },
        {
          "output_type": "stream",
          "name": "stderr",
          "text": [
            "\r 92%|█████████▏| 22/24 [00:11<00:01,  1.87it/s]"
          ]
        },
        {
          "output_type": "stream",
          "name": "stdout",
          "text": [
            "23\n"
          ]
        },
        {
          "output_type": "stream",
          "name": "stderr",
          "text": [
            "\r 96%|█████████▌| 23/24 [00:12<00:00,  1.87it/s]"
          ]
        },
        {
          "output_type": "stream",
          "name": "stdout",
          "text": [
            "24\n"
          ]
        },
        {
          "output_type": "stream",
          "name": "stderr",
          "text": [
            "25it [00:12,  1.93it/s]                        \n"
          ]
        },
        {
          "output_type": "stream",
          "name": "stdout",
          "text": [
            "25\n",
            "Validating\n"
          ]
        },
        {
          "output_type": "stream",
          "name": "stderr",
          "text": [
            "4it [00:01,  2.16it/s]\n"
          ]
        },
        {
          "output_type": "stream",
          "name": "stdout",
          "text": [
            "Train Loss: 0.2450\n",
            "Val Loss: 0.2538\n",
            "Epoch 3 of 20\n",
            "Training\n"
          ]
        },
        {
          "output_type": "stream",
          "name": "stderr",
          "text": [
            "\r  0%|          | 0/24 [00:00<?, ?it/s]"
          ]
        },
        {
          "output_type": "stream",
          "name": "stdout",
          "text": [
            "1\n"
          ]
        },
        {
          "output_type": "stream",
          "name": "stderr",
          "text": [
            "\r  4%|▍         | 1/24 [00:00<00:12,  1.84it/s]"
          ]
        },
        {
          "output_type": "stream",
          "name": "stdout",
          "text": [
            "2\n"
          ]
        },
        {
          "output_type": "stream",
          "name": "stderr",
          "text": [
            "\r  8%|▊         | 2/24 [00:01<00:11,  1.85it/s]"
          ]
        },
        {
          "output_type": "stream",
          "name": "stdout",
          "text": [
            "3\n"
          ]
        },
        {
          "output_type": "stream",
          "name": "stderr",
          "text": [
            "\r 12%|█▎        | 3/24 [00:01<00:11,  1.84it/s]"
          ]
        },
        {
          "output_type": "stream",
          "name": "stdout",
          "text": [
            "4\n"
          ]
        },
        {
          "output_type": "stream",
          "name": "stderr",
          "text": [
            "\r 17%|█▋        | 4/24 [00:02<00:10,  1.85it/s]"
          ]
        },
        {
          "output_type": "stream",
          "name": "stdout",
          "text": [
            "5\n"
          ]
        },
        {
          "output_type": "stream",
          "name": "stderr",
          "text": [
            "\r 21%|██        | 5/24 [00:02<00:10,  1.86it/s]"
          ]
        },
        {
          "output_type": "stream",
          "name": "stdout",
          "text": [
            "6\n"
          ]
        },
        {
          "output_type": "stream",
          "name": "stderr",
          "text": [
            "\r 25%|██▌       | 6/24 [00:03<00:09,  1.87it/s]"
          ]
        },
        {
          "output_type": "stream",
          "name": "stdout",
          "text": [
            "7\n"
          ]
        },
        {
          "output_type": "stream",
          "name": "stderr",
          "text": [
            "\r 29%|██▉       | 7/24 [00:03<00:09,  1.87it/s]"
          ]
        },
        {
          "output_type": "stream",
          "name": "stdout",
          "text": [
            "8\n"
          ]
        },
        {
          "output_type": "stream",
          "name": "stderr",
          "text": [
            "\r 33%|███▎      | 8/24 [00:04<00:08,  1.87it/s]"
          ]
        },
        {
          "output_type": "stream",
          "name": "stdout",
          "text": [
            "9\n"
          ]
        },
        {
          "output_type": "stream",
          "name": "stderr",
          "text": [
            "\r 38%|███▊      | 9/24 [00:04<00:08,  1.87it/s]"
          ]
        },
        {
          "output_type": "stream",
          "name": "stdout",
          "text": [
            "10\n"
          ]
        },
        {
          "output_type": "stream",
          "name": "stderr",
          "text": [
            "\r 42%|████▏     | 10/24 [00:05<00:07,  1.86it/s]"
          ]
        },
        {
          "output_type": "stream",
          "name": "stdout",
          "text": [
            "11\n"
          ]
        },
        {
          "output_type": "stream",
          "name": "stderr",
          "text": [
            "\r 46%|████▌     | 11/24 [00:05<00:06,  1.87it/s]"
          ]
        },
        {
          "output_type": "stream",
          "name": "stdout",
          "text": [
            "12\n"
          ]
        },
        {
          "output_type": "stream",
          "name": "stderr",
          "text": [
            "\r 50%|█████     | 12/24 [00:06<00:06,  1.85it/s]"
          ]
        },
        {
          "output_type": "stream",
          "name": "stdout",
          "text": [
            "13\n"
          ]
        },
        {
          "output_type": "stream",
          "name": "stderr",
          "text": [
            "\r 54%|█████▍    | 13/24 [00:06<00:05,  1.85it/s]"
          ]
        },
        {
          "output_type": "stream",
          "name": "stdout",
          "text": [
            "14\n"
          ]
        },
        {
          "output_type": "stream",
          "name": "stderr",
          "text": [
            "\r 58%|█████▊    | 14/24 [00:07<00:05,  1.85it/s]"
          ]
        },
        {
          "output_type": "stream",
          "name": "stdout",
          "text": [
            "15\n"
          ]
        },
        {
          "output_type": "stream",
          "name": "stderr",
          "text": [
            "\r 62%|██████▎   | 15/24 [00:08<00:04,  1.85it/s]"
          ]
        },
        {
          "output_type": "stream",
          "name": "stdout",
          "text": [
            "16\n"
          ]
        },
        {
          "output_type": "stream",
          "name": "stderr",
          "text": [
            "\r 67%|██████▋   | 16/24 [00:08<00:04,  1.84it/s]"
          ]
        },
        {
          "output_type": "stream",
          "name": "stdout",
          "text": [
            "17\n"
          ]
        },
        {
          "output_type": "stream",
          "name": "stderr",
          "text": [
            "\r 71%|███████   | 17/24 [00:09<00:03,  1.85it/s]"
          ]
        },
        {
          "output_type": "stream",
          "name": "stdout",
          "text": [
            "18\n"
          ]
        },
        {
          "output_type": "stream",
          "name": "stderr",
          "text": [
            "\r 75%|███████▌  | 18/24 [00:09<00:03,  1.85it/s]"
          ]
        },
        {
          "output_type": "stream",
          "name": "stdout",
          "text": [
            "19\n"
          ]
        },
        {
          "output_type": "stream",
          "name": "stderr",
          "text": [
            "\r 79%|███████▉  | 19/24 [00:10<00:02,  1.85it/s]"
          ]
        },
        {
          "output_type": "stream",
          "name": "stdout",
          "text": [
            "20\n"
          ]
        },
        {
          "output_type": "stream",
          "name": "stderr",
          "text": [
            "\r 83%|████████▎ | 20/24 [00:10<00:02,  1.85it/s]"
          ]
        },
        {
          "output_type": "stream",
          "name": "stdout",
          "text": [
            "21\n"
          ]
        },
        {
          "output_type": "stream",
          "name": "stderr",
          "text": [
            "\r 88%|████████▊ | 21/24 [00:11<00:01,  1.86it/s]"
          ]
        },
        {
          "output_type": "stream",
          "name": "stdout",
          "text": [
            "22\n"
          ]
        },
        {
          "output_type": "stream",
          "name": "stderr",
          "text": [
            "\r 92%|█████████▏| 22/24 [00:11<00:01,  1.85it/s]"
          ]
        },
        {
          "output_type": "stream",
          "name": "stdout",
          "text": [
            "23\n"
          ]
        },
        {
          "output_type": "stream",
          "name": "stderr",
          "text": [
            "\r 96%|█████████▌| 23/24 [00:12<00:00,  1.85it/s]"
          ]
        },
        {
          "output_type": "stream",
          "name": "stdout",
          "text": [
            "24\n"
          ]
        },
        {
          "output_type": "stream",
          "name": "stderr",
          "text": [
            "25it [00:12,  1.93it/s]                        \n"
          ]
        },
        {
          "output_type": "stream",
          "name": "stdout",
          "text": [
            "25\n",
            "Validating\n"
          ]
        },
        {
          "output_type": "stream",
          "name": "stderr",
          "text": [
            "4it [00:01,  2.13it/s]\n"
          ]
        },
        {
          "output_type": "stream",
          "name": "stdout",
          "text": [
            "Train Loss: 0.2362\n",
            "Val Loss: 0.2456\n",
            "Epoch 4 of 20\n",
            "Training\n"
          ]
        },
        {
          "output_type": "stream",
          "name": "stderr",
          "text": [
            "\r  0%|          | 0/24 [00:00<?, ?it/s]"
          ]
        },
        {
          "output_type": "stream",
          "name": "stdout",
          "text": [
            "1\n"
          ]
        },
        {
          "output_type": "stream",
          "name": "stderr",
          "text": [
            "\r  4%|▍         | 1/24 [00:00<00:12,  1.85it/s]"
          ]
        },
        {
          "output_type": "stream",
          "name": "stdout",
          "text": [
            "2\n"
          ]
        },
        {
          "output_type": "stream",
          "name": "stderr",
          "text": [
            "\r  8%|▊         | 2/24 [00:01<00:11,  1.86it/s]"
          ]
        },
        {
          "output_type": "stream",
          "name": "stdout",
          "text": [
            "3\n"
          ]
        },
        {
          "output_type": "stream",
          "name": "stderr",
          "text": [
            "\r 12%|█▎        | 3/24 [00:01<00:11,  1.85it/s]"
          ]
        },
        {
          "output_type": "stream",
          "name": "stdout",
          "text": [
            "4\n"
          ]
        },
        {
          "output_type": "stream",
          "name": "stderr",
          "text": [
            "\r 17%|█▋        | 4/24 [00:02<00:10,  1.85it/s]"
          ]
        },
        {
          "output_type": "stream",
          "name": "stdout",
          "text": [
            "5\n"
          ]
        },
        {
          "output_type": "stream",
          "name": "stderr",
          "text": [
            "\r 21%|██        | 5/24 [00:02<00:10,  1.85it/s]"
          ]
        },
        {
          "output_type": "stream",
          "name": "stdout",
          "text": [
            "6\n"
          ]
        },
        {
          "output_type": "stream",
          "name": "stderr",
          "text": [
            "\r 25%|██▌       | 6/24 [00:03<00:09,  1.86it/s]"
          ]
        },
        {
          "output_type": "stream",
          "name": "stdout",
          "text": [
            "7\n"
          ]
        },
        {
          "output_type": "stream",
          "name": "stderr",
          "text": [
            "\r 29%|██▉       | 7/24 [00:03<00:09,  1.84it/s]"
          ]
        },
        {
          "output_type": "stream",
          "name": "stdout",
          "text": [
            "8\n"
          ]
        },
        {
          "output_type": "stream",
          "name": "stderr",
          "text": [
            "\r 33%|███▎      | 8/24 [00:04<00:08,  1.85it/s]"
          ]
        },
        {
          "output_type": "stream",
          "name": "stdout",
          "text": [
            "9\n"
          ]
        },
        {
          "output_type": "stream",
          "name": "stderr",
          "text": [
            "\r 38%|███▊      | 9/24 [00:04<00:08,  1.84it/s]"
          ]
        },
        {
          "output_type": "stream",
          "name": "stdout",
          "text": [
            "10\n"
          ]
        },
        {
          "output_type": "stream",
          "name": "stderr",
          "text": [
            "\r 42%|████▏     | 10/24 [00:05<00:07,  1.84it/s]"
          ]
        },
        {
          "output_type": "stream",
          "name": "stdout",
          "text": [
            "11\n"
          ]
        },
        {
          "output_type": "stream",
          "name": "stderr",
          "text": [
            "\r 46%|████▌     | 11/24 [00:05<00:07,  1.84it/s]"
          ]
        },
        {
          "output_type": "stream",
          "name": "stdout",
          "text": [
            "12\n"
          ]
        },
        {
          "output_type": "stream",
          "name": "stderr",
          "text": [
            "\r 50%|█████     | 12/24 [00:06<00:06,  1.85it/s]"
          ]
        },
        {
          "output_type": "stream",
          "name": "stdout",
          "text": [
            "13\n"
          ]
        },
        {
          "output_type": "stream",
          "name": "stderr",
          "text": [
            "\r 54%|█████▍    | 13/24 [00:07<00:05,  1.85it/s]"
          ]
        },
        {
          "output_type": "stream",
          "name": "stdout",
          "text": [
            "14\n"
          ]
        },
        {
          "output_type": "stream",
          "name": "stderr",
          "text": [
            "\r 58%|█████▊    | 14/24 [00:07<00:05,  1.85it/s]"
          ]
        },
        {
          "output_type": "stream",
          "name": "stdout",
          "text": [
            "15\n"
          ]
        },
        {
          "output_type": "stream",
          "name": "stderr",
          "text": [
            "\r 62%|██████▎   | 15/24 [00:08<00:04,  1.85it/s]"
          ]
        },
        {
          "output_type": "stream",
          "name": "stdout",
          "text": [
            "16\n"
          ]
        },
        {
          "output_type": "stream",
          "name": "stderr",
          "text": [
            "\r 67%|██████▋   | 16/24 [00:08<00:04,  1.85it/s]"
          ]
        },
        {
          "output_type": "stream",
          "name": "stdout",
          "text": [
            "17\n"
          ]
        },
        {
          "output_type": "stream",
          "name": "stderr",
          "text": [
            "\r 71%|███████   | 17/24 [00:09<00:03,  1.86it/s]"
          ]
        },
        {
          "output_type": "stream",
          "name": "stdout",
          "text": [
            "18\n"
          ]
        },
        {
          "output_type": "stream",
          "name": "stderr",
          "text": [
            "\r 75%|███████▌  | 18/24 [00:09<00:03,  1.85it/s]"
          ]
        },
        {
          "output_type": "stream",
          "name": "stdout",
          "text": [
            "19\n"
          ]
        },
        {
          "output_type": "stream",
          "name": "stderr",
          "text": [
            "\r 79%|███████▉  | 19/24 [00:10<00:02,  1.85it/s]"
          ]
        },
        {
          "output_type": "stream",
          "name": "stdout",
          "text": [
            "20\n"
          ]
        },
        {
          "output_type": "stream",
          "name": "stderr",
          "text": [
            "\r 83%|████████▎ | 20/24 [00:10<00:02,  1.85it/s]"
          ]
        },
        {
          "output_type": "stream",
          "name": "stdout",
          "text": [
            "21\n"
          ]
        },
        {
          "output_type": "stream",
          "name": "stderr",
          "text": [
            "\r 88%|████████▊ | 21/24 [00:11<00:01,  1.85it/s]"
          ]
        },
        {
          "output_type": "stream",
          "name": "stdout",
          "text": [
            "22\n"
          ]
        },
        {
          "output_type": "stream",
          "name": "stderr",
          "text": [
            "\r 92%|█████████▏| 22/24 [00:11<00:01,  1.85it/s]"
          ]
        },
        {
          "output_type": "stream",
          "name": "stdout",
          "text": [
            "23\n"
          ]
        },
        {
          "output_type": "stream",
          "name": "stderr",
          "text": [
            "\r 96%|█████████▌| 23/24 [00:12<00:00,  1.85it/s]"
          ]
        },
        {
          "output_type": "stream",
          "name": "stdout",
          "text": [
            "24\n"
          ]
        },
        {
          "output_type": "stream",
          "name": "stderr",
          "text": [
            "25it [00:13,  1.92it/s]                        \n"
          ]
        },
        {
          "output_type": "stream",
          "name": "stdout",
          "text": [
            "25\n",
            "Validating\n"
          ]
        },
        {
          "output_type": "stream",
          "name": "stderr",
          "text": [
            "4it [00:01,  2.12it/s]\n"
          ]
        },
        {
          "output_type": "stream",
          "name": "stdout",
          "text": [
            "Train Loss: 0.2279\n",
            "Val Loss: 0.2436\n",
            "Epoch 5 of 20\n",
            "Training\n"
          ]
        },
        {
          "output_type": "stream",
          "name": "stderr",
          "text": [
            "\r  0%|          | 0/24 [00:00<?, ?it/s]"
          ]
        },
        {
          "output_type": "stream",
          "name": "stdout",
          "text": [
            "1\n"
          ]
        },
        {
          "output_type": "stream",
          "name": "stderr",
          "text": [
            "\r  4%|▍         | 1/24 [00:00<00:12,  1.83it/s]"
          ]
        },
        {
          "output_type": "stream",
          "name": "stdout",
          "text": [
            "2\n"
          ]
        },
        {
          "output_type": "stream",
          "name": "stderr",
          "text": [
            "\r  8%|▊         | 2/24 [00:01<00:11,  1.84it/s]"
          ]
        },
        {
          "output_type": "stream",
          "name": "stdout",
          "text": [
            "3\n"
          ]
        },
        {
          "output_type": "stream",
          "name": "stderr",
          "text": [
            "\r 12%|█▎        | 3/24 [00:01<00:11,  1.84it/s]"
          ]
        },
        {
          "output_type": "stream",
          "name": "stdout",
          "text": [
            "4\n"
          ]
        },
        {
          "output_type": "stream",
          "name": "stderr",
          "text": [
            "\r 17%|█▋        | 4/24 [00:02<00:10,  1.84it/s]"
          ]
        },
        {
          "output_type": "stream",
          "name": "stdout",
          "text": [
            "5\n"
          ]
        },
        {
          "output_type": "stream",
          "name": "stderr",
          "text": [
            "\r 21%|██        | 5/24 [00:02<00:10,  1.85it/s]"
          ]
        },
        {
          "output_type": "stream",
          "name": "stdout",
          "text": [
            "6\n"
          ]
        },
        {
          "output_type": "stream",
          "name": "stderr",
          "text": [
            "\r 25%|██▌       | 6/24 [00:03<00:09,  1.85it/s]"
          ]
        },
        {
          "output_type": "stream",
          "name": "stdout",
          "text": [
            "7\n"
          ]
        },
        {
          "output_type": "stream",
          "name": "stderr",
          "text": [
            "\r 29%|██▉       | 7/24 [00:03<00:09,  1.84it/s]"
          ]
        },
        {
          "output_type": "stream",
          "name": "stdout",
          "text": [
            "8\n"
          ]
        },
        {
          "output_type": "stream",
          "name": "stderr",
          "text": [
            "\r 33%|███▎      | 8/24 [00:04<00:08,  1.85it/s]"
          ]
        },
        {
          "output_type": "stream",
          "name": "stdout",
          "text": [
            "9\n"
          ]
        },
        {
          "output_type": "stream",
          "name": "stderr",
          "text": [
            "\r 38%|███▊      | 9/24 [00:04<00:08,  1.85it/s]"
          ]
        },
        {
          "output_type": "stream",
          "name": "stdout",
          "text": [
            "10\n"
          ]
        },
        {
          "output_type": "stream",
          "name": "stderr",
          "text": [
            "\r 42%|████▏     | 10/24 [00:05<00:07,  1.85it/s]"
          ]
        },
        {
          "output_type": "stream",
          "name": "stdout",
          "text": [
            "11\n"
          ]
        },
        {
          "output_type": "stream",
          "name": "stderr",
          "text": [
            "\r 46%|████▌     | 11/24 [00:05<00:07,  1.85it/s]"
          ]
        },
        {
          "output_type": "stream",
          "name": "stdout",
          "text": [
            "12\n"
          ]
        },
        {
          "output_type": "stream",
          "name": "stderr",
          "text": [
            "\r 50%|█████     | 12/24 [00:06<00:06,  1.85it/s]"
          ]
        },
        {
          "output_type": "stream",
          "name": "stdout",
          "text": [
            "13\n"
          ]
        },
        {
          "output_type": "stream",
          "name": "stderr",
          "text": [
            "\r 54%|█████▍    | 13/24 [00:07<00:05,  1.85it/s]"
          ]
        },
        {
          "output_type": "stream",
          "name": "stdout",
          "text": [
            "14\n"
          ]
        },
        {
          "output_type": "stream",
          "name": "stderr",
          "text": [
            "\r 58%|█████▊    | 14/24 [00:07<00:05,  1.85it/s]"
          ]
        },
        {
          "output_type": "stream",
          "name": "stdout",
          "text": [
            "15\n"
          ]
        },
        {
          "output_type": "stream",
          "name": "stderr",
          "text": [
            "\r 62%|██████▎   | 15/24 [00:08<00:04,  1.85it/s]"
          ]
        },
        {
          "output_type": "stream",
          "name": "stdout",
          "text": [
            "16\n"
          ]
        },
        {
          "output_type": "stream",
          "name": "stderr",
          "text": [
            "\r 67%|██████▋   | 16/24 [00:08<00:04,  1.85it/s]"
          ]
        },
        {
          "output_type": "stream",
          "name": "stdout",
          "text": [
            "17\n"
          ]
        },
        {
          "output_type": "stream",
          "name": "stderr",
          "text": [
            "\r 71%|███████   | 17/24 [00:09<00:03,  1.84it/s]"
          ]
        },
        {
          "output_type": "stream",
          "name": "stdout",
          "text": [
            "18\n"
          ]
        },
        {
          "output_type": "stream",
          "name": "stderr",
          "text": [
            "\r 75%|███████▌  | 18/24 [00:09<00:03,  1.85it/s]"
          ]
        },
        {
          "output_type": "stream",
          "name": "stdout",
          "text": [
            "19\n"
          ]
        },
        {
          "output_type": "stream",
          "name": "stderr",
          "text": [
            "\r 79%|███████▉  | 19/24 [00:10<00:02,  1.84it/s]"
          ]
        },
        {
          "output_type": "stream",
          "name": "stdout",
          "text": [
            "20\n"
          ]
        },
        {
          "output_type": "stream",
          "name": "stderr",
          "text": [
            "\r 83%|████████▎ | 20/24 [00:10<00:02,  1.84it/s]"
          ]
        },
        {
          "output_type": "stream",
          "name": "stdout",
          "text": [
            "21\n"
          ]
        },
        {
          "output_type": "stream",
          "name": "stderr",
          "text": [
            "\r 88%|████████▊ | 21/24 [00:11<00:01,  1.84it/s]"
          ]
        },
        {
          "output_type": "stream",
          "name": "stdout",
          "text": [
            "22\n"
          ]
        },
        {
          "output_type": "stream",
          "name": "stderr",
          "text": [
            "\r 92%|█████████▏| 22/24 [00:11<00:01,  1.83it/s]"
          ]
        },
        {
          "output_type": "stream",
          "name": "stdout",
          "text": [
            "23\n"
          ]
        },
        {
          "output_type": "stream",
          "name": "stderr",
          "text": [
            "\r 96%|█████████▌| 23/24 [00:12<00:00,  1.83it/s]"
          ]
        },
        {
          "output_type": "stream",
          "name": "stdout",
          "text": [
            "24\n"
          ]
        },
        {
          "output_type": "stream",
          "name": "stderr",
          "text": [
            "25it [00:13,  1.92it/s]                        \n"
          ]
        },
        {
          "output_type": "stream",
          "name": "stdout",
          "text": [
            "25\n",
            "Validating\n"
          ]
        },
        {
          "output_type": "stream",
          "name": "stderr",
          "text": [
            "4it [00:01,  2.14it/s]\n"
          ]
        },
        {
          "output_type": "stream",
          "name": "stdout",
          "text": [
            "Train Loss: 0.2244\n",
            "Val Loss: 0.2432\n",
            "Epoch 6 of 20\n",
            "Training\n"
          ]
        },
        {
          "output_type": "stream",
          "name": "stderr",
          "text": [
            "\r  0%|          | 0/24 [00:00<?, ?it/s]"
          ]
        },
        {
          "output_type": "stream",
          "name": "stdout",
          "text": [
            "1\n"
          ]
        },
        {
          "output_type": "stream",
          "name": "stderr",
          "text": [
            "\r  4%|▍         | 1/24 [00:00<00:12,  1.82it/s]"
          ]
        },
        {
          "output_type": "stream",
          "name": "stdout",
          "text": [
            "2\n"
          ]
        },
        {
          "output_type": "stream",
          "name": "stderr",
          "text": [
            "\r  8%|▊         | 2/24 [00:01<00:11,  1.83it/s]"
          ]
        },
        {
          "output_type": "stream",
          "name": "stdout",
          "text": [
            "3\n"
          ]
        },
        {
          "output_type": "stream",
          "name": "stderr",
          "text": [
            "\r 12%|█▎        | 3/24 [00:01<00:11,  1.84it/s]"
          ]
        },
        {
          "output_type": "stream",
          "name": "stdout",
          "text": [
            "4\n"
          ]
        },
        {
          "output_type": "stream",
          "name": "stderr",
          "text": [
            "\r 17%|█▋        | 4/24 [00:02<00:10,  1.84it/s]"
          ]
        },
        {
          "output_type": "stream",
          "name": "stdout",
          "text": [
            "5\n"
          ]
        },
        {
          "output_type": "stream",
          "name": "stderr",
          "text": [
            "\r 21%|██        | 5/24 [00:02<00:10,  1.85it/s]"
          ]
        },
        {
          "output_type": "stream",
          "name": "stdout",
          "text": [
            "6\n"
          ]
        },
        {
          "output_type": "stream",
          "name": "stderr",
          "text": [
            "\r 25%|██▌       | 6/24 [00:03<00:09,  1.85it/s]"
          ]
        },
        {
          "output_type": "stream",
          "name": "stdout",
          "text": [
            "7\n"
          ]
        },
        {
          "output_type": "stream",
          "name": "stderr",
          "text": [
            "\r 29%|██▉       | 7/24 [00:03<00:09,  1.85it/s]"
          ]
        },
        {
          "output_type": "stream",
          "name": "stdout",
          "text": [
            "8\n"
          ]
        },
        {
          "output_type": "stream",
          "name": "stderr",
          "text": [
            "\r 33%|███▎      | 8/24 [00:04<00:08,  1.84it/s]"
          ]
        },
        {
          "output_type": "stream",
          "name": "stdout",
          "text": [
            "9\n"
          ]
        },
        {
          "output_type": "stream",
          "name": "stderr",
          "text": [
            "\r 38%|███▊      | 9/24 [00:04<00:08,  1.84it/s]"
          ]
        },
        {
          "output_type": "stream",
          "name": "stdout",
          "text": [
            "10\n"
          ]
        },
        {
          "output_type": "stream",
          "name": "stderr",
          "text": [
            "\r 42%|████▏     | 10/24 [00:05<00:07,  1.83it/s]"
          ]
        },
        {
          "output_type": "stream",
          "name": "stdout",
          "text": [
            "11\n"
          ]
        },
        {
          "output_type": "stream",
          "name": "stderr",
          "text": [
            "\r 46%|████▌     | 11/24 [00:05<00:07,  1.83it/s]"
          ]
        },
        {
          "output_type": "stream",
          "name": "stdout",
          "text": [
            "12\n"
          ]
        },
        {
          "output_type": "stream",
          "name": "stderr",
          "text": [
            "\r 50%|█████     | 12/24 [00:06<00:06,  1.84it/s]"
          ]
        },
        {
          "output_type": "stream",
          "name": "stdout",
          "text": [
            "13\n"
          ]
        },
        {
          "output_type": "stream",
          "name": "stderr",
          "text": [
            "\r 54%|█████▍    | 13/24 [00:07<00:05,  1.84it/s]"
          ]
        },
        {
          "output_type": "stream",
          "name": "stdout",
          "text": [
            "14\n"
          ]
        },
        {
          "output_type": "stream",
          "name": "stderr",
          "text": [
            "\r 58%|█████▊    | 14/24 [00:07<00:05,  1.84it/s]"
          ]
        },
        {
          "output_type": "stream",
          "name": "stdout",
          "text": [
            "15\n"
          ]
        },
        {
          "output_type": "stream",
          "name": "stderr",
          "text": [
            "\r 62%|██████▎   | 15/24 [00:08<00:04,  1.84it/s]"
          ]
        },
        {
          "output_type": "stream",
          "name": "stdout",
          "text": [
            "16\n"
          ]
        },
        {
          "output_type": "stream",
          "name": "stderr",
          "text": [
            "\r 67%|██████▋   | 16/24 [00:08<00:04,  1.84it/s]"
          ]
        },
        {
          "output_type": "stream",
          "name": "stdout",
          "text": [
            "17\n"
          ]
        },
        {
          "output_type": "stream",
          "name": "stderr",
          "text": [
            "\r 71%|███████   | 17/24 [00:09<00:03,  1.83it/s]"
          ]
        },
        {
          "output_type": "stream",
          "name": "stdout",
          "text": [
            "18\n"
          ]
        },
        {
          "output_type": "stream",
          "name": "stderr",
          "text": [
            "\r 75%|███████▌  | 18/24 [00:09<00:03,  1.84it/s]"
          ]
        },
        {
          "output_type": "stream",
          "name": "stdout",
          "text": [
            "19\n"
          ]
        },
        {
          "output_type": "stream",
          "name": "stderr",
          "text": [
            "\r 79%|███████▉  | 19/24 [00:10<00:02,  1.84it/s]"
          ]
        },
        {
          "output_type": "stream",
          "name": "stdout",
          "text": [
            "20\n"
          ]
        },
        {
          "output_type": "stream",
          "name": "stderr",
          "text": [
            "\r 83%|████████▎ | 20/24 [00:10<00:02,  1.85it/s]"
          ]
        },
        {
          "output_type": "stream",
          "name": "stdout",
          "text": [
            "21\n"
          ]
        },
        {
          "output_type": "stream",
          "name": "stderr",
          "text": [
            "\r 88%|████████▊ | 21/24 [00:11<00:01,  1.84it/s]"
          ]
        },
        {
          "output_type": "stream",
          "name": "stdout",
          "text": [
            "22\n"
          ]
        },
        {
          "output_type": "stream",
          "name": "stderr",
          "text": [
            "\r 92%|█████████▏| 22/24 [00:11<00:01,  1.84it/s]"
          ]
        },
        {
          "output_type": "stream",
          "name": "stdout",
          "text": [
            "23\n"
          ]
        },
        {
          "output_type": "stream",
          "name": "stderr",
          "text": [
            "\r 96%|█████████▌| 23/24 [00:12<00:00,  1.84it/s]"
          ]
        },
        {
          "output_type": "stream",
          "name": "stdout",
          "text": [
            "24\n"
          ]
        },
        {
          "output_type": "stream",
          "name": "stderr",
          "text": [
            "25it [00:13,  1.91it/s]                        \n"
          ]
        },
        {
          "output_type": "stream",
          "name": "stdout",
          "text": [
            "25\n",
            "Validating\n"
          ]
        },
        {
          "output_type": "stream",
          "name": "stderr",
          "text": [
            "4it [00:01,  2.11it/s]\n"
          ]
        },
        {
          "output_type": "stream",
          "name": "stdout",
          "text": [
            "Train Loss: 0.2290\n",
            "Val Loss: 0.2415\n",
            "Epoch 7 of 20\n",
            "Training\n"
          ]
        },
        {
          "output_type": "stream",
          "name": "stderr",
          "text": [
            "\r  0%|          | 0/24 [00:00<?, ?it/s]"
          ]
        },
        {
          "output_type": "stream",
          "name": "stdout",
          "text": [
            "1\n"
          ]
        },
        {
          "output_type": "stream",
          "name": "stderr",
          "text": [
            "\r  4%|▍         | 1/24 [00:00<00:12,  1.79it/s]"
          ]
        },
        {
          "output_type": "stream",
          "name": "stdout",
          "text": [
            "2\n"
          ]
        },
        {
          "output_type": "stream",
          "name": "stderr",
          "text": [
            "\r  8%|▊         | 2/24 [00:01<00:12,  1.83it/s]"
          ]
        },
        {
          "output_type": "stream",
          "name": "stdout",
          "text": [
            "3\n"
          ]
        },
        {
          "output_type": "stream",
          "name": "stderr",
          "text": [
            "\r 12%|█▎        | 3/24 [00:01<00:11,  1.82it/s]"
          ]
        },
        {
          "output_type": "stream",
          "name": "stdout",
          "text": [
            "4\n"
          ]
        },
        {
          "output_type": "stream",
          "name": "stderr",
          "text": [
            "\r 17%|█▋        | 4/24 [00:02<00:10,  1.83it/s]"
          ]
        },
        {
          "output_type": "stream",
          "name": "stdout",
          "text": [
            "5\n"
          ]
        },
        {
          "output_type": "stream",
          "name": "stderr",
          "text": [
            "\r 21%|██        | 5/24 [00:02<00:10,  1.83it/s]"
          ]
        },
        {
          "output_type": "stream",
          "name": "stdout",
          "text": [
            "6\n"
          ]
        },
        {
          "output_type": "stream",
          "name": "stderr",
          "text": [
            "\r 25%|██▌       | 6/24 [00:03<00:09,  1.83it/s]"
          ]
        },
        {
          "output_type": "stream",
          "name": "stdout",
          "text": [
            "7\n"
          ]
        },
        {
          "output_type": "stream",
          "name": "stderr",
          "text": [
            "\r 29%|██▉       | 7/24 [00:03<00:09,  1.83it/s]"
          ]
        },
        {
          "output_type": "stream",
          "name": "stdout",
          "text": [
            "8\n"
          ]
        },
        {
          "output_type": "stream",
          "name": "stderr",
          "text": [
            "\r 33%|███▎      | 8/24 [00:04<00:08,  1.83it/s]"
          ]
        },
        {
          "output_type": "stream",
          "name": "stdout",
          "text": [
            "9\n"
          ]
        },
        {
          "output_type": "stream",
          "name": "stderr",
          "text": [
            "\r 38%|███▊      | 9/24 [00:04<00:08,  1.83it/s]"
          ]
        },
        {
          "output_type": "stream",
          "name": "stdout",
          "text": [
            "10\n"
          ]
        },
        {
          "output_type": "stream",
          "name": "stderr",
          "text": [
            "\r 42%|████▏     | 10/24 [00:05<00:07,  1.84it/s]"
          ]
        },
        {
          "output_type": "stream",
          "name": "stdout",
          "text": [
            "11\n"
          ]
        },
        {
          "output_type": "stream",
          "name": "stderr",
          "text": [
            "\r 46%|████▌     | 11/24 [00:06<00:07,  1.84it/s]"
          ]
        },
        {
          "output_type": "stream",
          "name": "stdout",
          "text": [
            "12\n"
          ]
        },
        {
          "output_type": "stream",
          "name": "stderr",
          "text": [
            "\r 50%|█████     | 12/24 [00:06<00:06,  1.84it/s]"
          ]
        },
        {
          "output_type": "stream",
          "name": "stdout",
          "text": [
            "13\n"
          ]
        },
        {
          "output_type": "stream",
          "name": "stderr",
          "text": [
            "\r 54%|█████▍    | 13/24 [00:07<00:05,  1.84it/s]"
          ]
        },
        {
          "output_type": "stream",
          "name": "stdout",
          "text": [
            "14\n"
          ]
        },
        {
          "output_type": "stream",
          "name": "stderr",
          "text": [
            "\r 58%|█████▊    | 14/24 [00:07<00:05,  1.83it/s]"
          ]
        },
        {
          "output_type": "stream",
          "name": "stdout",
          "text": [
            "15\n"
          ]
        },
        {
          "output_type": "stream",
          "name": "stderr",
          "text": [
            "\r 62%|██████▎   | 15/24 [00:08<00:04,  1.83it/s]"
          ]
        },
        {
          "output_type": "stream",
          "name": "stdout",
          "text": [
            "16\n"
          ]
        },
        {
          "output_type": "stream",
          "name": "stderr",
          "text": [
            "\r 67%|██████▋   | 16/24 [00:08<00:04,  1.83it/s]"
          ]
        },
        {
          "output_type": "stream",
          "name": "stdout",
          "text": [
            "17\n"
          ]
        },
        {
          "output_type": "stream",
          "name": "stderr",
          "text": [
            "\r 71%|███████   | 17/24 [00:09<00:03,  1.83it/s]"
          ]
        },
        {
          "output_type": "stream",
          "name": "stdout",
          "text": [
            "18\n"
          ]
        },
        {
          "output_type": "stream",
          "name": "stderr",
          "text": [
            "\r 75%|███████▌  | 18/24 [00:09<00:03,  1.82it/s]"
          ]
        },
        {
          "output_type": "stream",
          "name": "stdout",
          "text": [
            "19\n"
          ]
        },
        {
          "output_type": "stream",
          "name": "stderr",
          "text": [
            "\r 79%|███████▉  | 19/24 [00:10<00:02,  1.82it/s]"
          ]
        },
        {
          "output_type": "stream",
          "name": "stdout",
          "text": [
            "20\n"
          ]
        },
        {
          "output_type": "stream",
          "name": "stderr",
          "text": [
            "\r 83%|████████▎ | 20/24 [00:10<00:02,  1.83it/s]"
          ]
        },
        {
          "output_type": "stream",
          "name": "stdout",
          "text": [
            "21\n"
          ]
        },
        {
          "output_type": "stream",
          "name": "stderr",
          "text": [
            "\r 88%|████████▊ | 21/24 [00:11<00:01,  1.83it/s]"
          ]
        },
        {
          "output_type": "stream",
          "name": "stdout",
          "text": [
            "22\n"
          ]
        },
        {
          "output_type": "stream",
          "name": "stderr",
          "text": [
            "\r 92%|█████████▏| 22/24 [00:12<00:01,  1.84it/s]"
          ]
        },
        {
          "output_type": "stream",
          "name": "stdout",
          "text": [
            "23\n"
          ]
        },
        {
          "output_type": "stream",
          "name": "stderr",
          "text": [
            "\r 96%|█████████▌| 23/24 [00:12<00:00,  1.83it/s]"
          ]
        },
        {
          "output_type": "stream",
          "name": "stdout",
          "text": [
            "24\n"
          ]
        },
        {
          "output_type": "stream",
          "name": "stderr",
          "text": [
            "25it [00:13,  1.90it/s]                        \n"
          ]
        },
        {
          "output_type": "stream",
          "name": "stdout",
          "text": [
            "25\n",
            "Validating\n"
          ]
        },
        {
          "output_type": "stream",
          "name": "stderr",
          "text": [
            "4it [00:01,  2.08it/s]\n"
          ]
        },
        {
          "output_type": "stream",
          "name": "stdout",
          "text": [
            "Train Loss: 0.2260\n",
            "Val Loss: 0.2415\n",
            "Epoch 8 of 20\n",
            "Training\n"
          ]
        },
        {
          "output_type": "stream",
          "name": "stderr",
          "text": [
            "\r  0%|          | 0/24 [00:00<?, ?it/s]"
          ]
        },
        {
          "output_type": "stream",
          "name": "stdout",
          "text": [
            "1\n"
          ]
        },
        {
          "output_type": "stream",
          "name": "stderr",
          "text": [
            "\r  4%|▍         | 1/24 [00:00<00:12,  1.82it/s]"
          ]
        },
        {
          "output_type": "stream",
          "name": "stdout",
          "text": [
            "2\n"
          ]
        },
        {
          "output_type": "stream",
          "name": "stderr",
          "text": [
            "\r  8%|▊         | 2/24 [00:01<00:12,  1.82it/s]"
          ]
        },
        {
          "output_type": "stream",
          "name": "stdout",
          "text": [
            "3\n"
          ]
        },
        {
          "output_type": "stream",
          "name": "stderr",
          "text": [
            "\r 12%|█▎        | 3/24 [00:01<00:11,  1.83it/s]"
          ]
        },
        {
          "output_type": "stream",
          "name": "stdout",
          "text": [
            "4\n"
          ]
        },
        {
          "output_type": "stream",
          "name": "stderr",
          "text": [
            "\r 17%|█▋        | 4/24 [00:02<00:10,  1.82it/s]"
          ]
        },
        {
          "output_type": "stream",
          "name": "stdout",
          "text": [
            "5\n"
          ]
        },
        {
          "output_type": "stream",
          "name": "stderr",
          "text": [
            "\r 21%|██        | 5/24 [00:02<00:10,  1.81it/s]"
          ]
        },
        {
          "output_type": "stream",
          "name": "stdout",
          "text": [
            "6\n"
          ]
        },
        {
          "output_type": "stream",
          "name": "stderr",
          "text": [
            "\r 25%|██▌       | 6/24 [00:03<00:09,  1.81it/s]"
          ]
        },
        {
          "output_type": "stream",
          "name": "stdout",
          "text": [
            "7\n"
          ]
        },
        {
          "output_type": "stream",
          "name": "stderr",
          "text": [
            "\r 29%|██▉       | 7/24 [00:03<00:09,  1.81it/s]"
          ]
        },
        {
          "output_type": "stream",
          "name": "stdout",
          "text": [
            "8\n"
          ]
        },
        {
          "output_type": "stream",
          "name": "stderr",
          "text": [
            "\r 33%|███▎      | 8/24 [00:04<00:08,  1.82it/s]"
          ]
        },
        {
          "output_type": "stream",
          "name": "stdout",
          "text": [
            "9\n"
          ]
        },
        {
          "output_type": "stream",
          "name": "stderr",
          "text": [
            "\r 38%|███▊      | 9/24 [00:04<00:08,  1.82it/s]"
          ]
        },
        {
          "output_type": "stream",
          "name": "stdout",
          "text": [
            "10\n"
          ]
        },
        {
          "output_type": "stream",
          "name": "stderr",
          "text": [
            "\r 42%|████▏     | 10/24 [00:05<00:07,  1.82it/s]"
          ]
        },
        {
          "output_type": "stream",
          "name": "stdout",
          "text": [
            "11\n"
          ]
        },
        {
          "output_type": "stream",
          "name": "stderr",
          "text": [
            "\r 46%|████▌     | 11/24 [00:06<00:07,  1.81it/s]"
          ]
        },
        {
          "output_type": "stream",
          "name": "stdout",
          "text": [
            "12\n"
          ]
        },
        {
          "output_type": "stream",
          "name": "stderr",
          "text": [
            "\r 50%|█████     | 12/24 [00:06<00:06,  1.81it/s]"
          ]
        },
        {
          "output_type": "stream",
          "name": "stdout",
          "text": [
            "13\n"
          ]
        },
        {
          "output_type": "stream",
          "name": "stderr",
          "text": [
            "\r 54%|█████▍    | 13/24 [00:07<00:06,  1.81it/s]"
          ]
        },
        {
          "output_type": "stream",
          "name": "stdout",
          "text": [
            "14\n"
          ]
        },
        {
          "output_type": "stream",
          "name": "stderr",
          "text": [
            "\r 58%|█████▊    | 14/24 [00:07<00:05,  1.81it/s]"
          ]
        },
        {
          "output_type": "stream",
          "name": "stdout",
          "text": [
            "15\n"
          ]
        },
        {
          "output_type": "stream",
          "name": "stderr",
          "text": [
            "\r 62%|██████▎   | 15/24 [00:08<00:05,  1.61it/s]"
          ]
        },
        {
          "output_type": "stream",
          "name": "stdout",
          "text": [
            "16\n"
          ]
        },
        {
          "output_type": "stream",
          "name": "stderr",
          "text": [
            "\r 67%|██████▋   | 16/24 [00:09<00:05,  1.48it/s]"
          ]
        },
        {
          "output_type": "stream",
          "name": "stdout",
          "text": [
            "17\n"
          ]
        },
        {
          "output_type": "stream",
          "name": "stderr",
          "text": [
            "\r 71%|███████   | 17/24 [00:09<00:04,  1.47it/s]"
          ]
        },
        {
          "output_type": "stream",
          "name": "stdout",
          "text": [
            "18\n"
          ]
        },
        {
          "output_type": "stream",
          "name": "stderr",
          "text": [
            "\r 75%|███████▌  | 18/24 [00:10<00:03,  1.51it/s]"
          ]
        },
        {
          "output_type": "stream",
          "name": "stdout",
          "text": [
            "19\n"
          ]
        },
        {
          "output_type": "stream",
          "name": "stderr",
          "text": [
            "\r 79%|███████▉  | 19/24 [00:11<00:03,  1.53it/s]"
          ]
        },
        {
          "output_type": "stream",
          "name": "stdout",
          "text": [
            "20\n"
          ]
        },
        {
          "output_type": "stream",
          "name": "stderr",
          "text": [
            "\r 83%|████████▎ | 20/24 [00:11<00:02,  1.47it/s]"
          ]
        },
        {
          "output_type": "stream",
          "name": "stdout",
          "text": [
            "21\n"
          ]
        },
        {
          "output_type": "stream",
          "name": "stderr",
          "text": [
            "\r 88%|████████▊ | 21/24 [00:12<00:02,  1.43it/s]"
          ]
        },
        {
          "output_type": "stream",
          "name": "stdout",
          "text": [
            "22\n"
          ]
        },
        {
          "output_type": "stream",
          "name": "stderr",
          "text": [
            "\r 92%|█████████▏| 22/24 [00:13<00:01,  1.34it/s]"
          ]
        },
        {
          "output_type": "stream",
          "name": "stdout",
          "text": [
            "23\n"
          ]
        },
        {
          "output_type": "stream",
          "name": "stderr",
          "text": [
            "\r 96%|█████████▌| 23/24 [00:14<00:00,  1.37it/s]"
          ]
        },
        {
          "output_type": "stream",
          "name": "stdout",
          "text": [
            "24\n"
          ]
        },
        {
          "output_type": "stream",
          "name": "stderr",
          "text": [
            "25it [00:14,  1.67it/s]                        \n"
          ]
        },
        {
          "output_type": "stream",
          "name": "stdout",
          "text": [
            "25\n",
            "Validating\n"
          ]
        },
        {
          "output_type": "stream",
          "name": "stderr",
          "text": [
            "4it [00:02,  1.76it/s]\n"
          ]
        },
        {
          "output_type": "stream",
          "name": "stdout",
          "text": [
            "Train Loss: 0.2316\n",
            "Val Loss: 0.2401\n",
            "Epoch 9 of 20\n",
            "Training\n"
          ]
        },
        {
          "output_type": "stream",
          "name": "stderr",
          "text": [
            "\r  0%|          | 0/24 [00:00<?, ?it/s]"
          ]
        },
        {
          "output_type": "stream",
          "name": "stdout",
          "text": [
            "1\n"
          ]
        },
        {
          "output_type": "stream",
          "name": "stderr",
          "text": [
            "\r  4%|▍         | 1/24 [00:00<00:13,  1.75it/s]"
          ]
        },
        {
          "output_type": "stream",
          "name": "stdout",
          "text": [
            "2\n"
          ]
        },
        {
          "output_type": "stream",
          "name": "stderr",
          "text": [
            "\r  8%|▊         | 2/24 [00:01<00:12,  1.72it/s]"
          ]
        },
        {
          "output_type": "stream",
          "name": "stdout",
          "text": [
            "3\n"
          ]
        },
        {
          "output_type": "stream",
          "name": "stderr",
          "text": [
            "\r 12%|█▎        | 3/24 [00:01<00:12,  1.74it/s]"
          ]
        },
        {
          "output_type": "stream",
          "name": "stdout",
          "text": [
            "4\n"
          ]
        },
        {
          "output_type": "stream",
          "name": "stderr",
          "text": [
            "\r 17%|█▋        | 4/24 [00:02<00:12,  1.63it/s]"
          ]
        },
        {
          "output_type": "stream",
          "name": "stdout",
          "text": [
            "5\n"
          ]
        },
        {
          "output_type": "stream",
          "name": "stderr",
          "text": [
            "\r 21%|██        | 5/24 [00:03<00:12,  1.53it/s]"
          ]
        },
        {
          "output_type": "stream",
          "name": "stdout",
          "text": [
            "6\n"
          ]
        },
        {
          "output_type": "stream",
          "name": "stderr",
          "text": [
            "\r 25%|██▌       | 6/24 [00:03<00:11,  1.55it/s]"
          ]
        },
        {
          "output_type": "stream",
          "name": "stdout",
          "text": [
            "7\n"
          ]
        },
        {
          "output_type": "stream",
          "name": "stderr",
          "text": [
            "\r 29%|██▉       | 7/24 [00:04<00:10,  1.62it/s]"
          ]
        },
        {
          "output_type": "stream",
          "name": "stdout",
          "text": [
            "8\n"
          ]
        },
        {
          "output_type": "stream",
          "name": "stderr",
          "text": [
            "\r 33%|███▎      | 8/24 [00:04<00:09,  1.67it/s]"
          ]
        },
        {
          "output_type": "stream",
          "name": "stdout",
          "text": [
            "9\n"
          ]
        },
        {
          "output_type": "stream",
          "name": "stderr",
          "text": [
            "\r 38%|███▊      | 9/24 [00:05<00:08,  1.72it/s]"
          ]
        },
        {
          "output_type": "stream",
          "name": "stdout",
          "text": [
            "10\n"
          ]
        },
        {
          "output_type": "stream",
          "name": "stderr",
          "text": [
            "\r 42%|████▏     | 10/24 [00:05<00:08,  1.74it/s]"
          ]
        },
        {
          "output_type": "stream",
          "name": "stdout",
          "text": [
            "11\n"
          ]
        },
        {
          "output_type": "stream",
          "name": "stderr",
          "text": [
            "\r 46%|████▌     | 11/24 [00:06<00:07,  1.76it/s]"
          ]
        },
        {
          "output_type": "stream",
          "name": "stdout",
          "text": [
            "12\n"
          ]
        },
        {
          "output_type": "stream",
          "name": "stderr",
          "text": [
            "\r 50%|█████     | 12/24 [00:07<00:06,  1.76it/s]"
          ]
        },
        {
          "output_type": "stream",
          "name": "stdout",
          "text": [
            "13\n"
          ]
        },
        {
          "output_type": "stream",
          "name": "stderr",
          "text": [
            "\r 54%|█████▍    | 13/24 [00:07<00:06,  1.77it/s]"
          ]
        },
        {
          "output_type": "stream",
          "name": "stdout",
          "text": [
            "14\n"
          ]
        },
        {
          "output_type": "stream",
          "name": "stderr",
          "text": [
            "\r 58%|█████▊    | 14/24 [00:08<00:05,  1.78it/s]"
          ]
        },
        {
          "output_type": "stream",
          "name": "stdout",
          "text": [
            "15\n"
          ]
        },
        {
          "output_type": "stream",
          "name": "stderr",
          "text": [
            "\r 62%|██████▎   | 15/24 [00:08<00:05,  1.79it/s]"
          ]
        },
        {
          "output_type": "stream",
          "name": "stdout",
          "text": [
            "16\n"
          ]
        },
        {
          "output_type": "stream",
          "name": "stderr",
          "text": [
            "\r 67%|██████▋   | 16/24 [00:09<00:04,  1.80it/s]"
          ]
        },
        {
          "output_type": "stream",
          "name": "stdout",
          "text": [
            "17\n"
          ]
        },
        {
          "output_type": "stream",
          "name": "stderr",
          "text": [
            "\r 71%|███████   | 17/24 [00:09<00:03,  1.80it/s]"
          ]
        },
        {
          "output_type": "stream",
          "name": "stdout",
          "text": [
            "18\n"
          ]
        },
        {
          "output_type": "stream",
          "name": "stderr",
          "text": [
            "\r 75%|███████▌  | 18/24 [00:10<00:03,  1.81it/s]"
          ]
        },
        {
          "output_type": "stream",
          "name": "stdout",
          "text": [
            "19\n"
          ]
        },
        {
          "output_type": "stream",
          "name": "stderr",
          "text": [
            "\r 79%|███████▉  | 19/24 [00:10<00:02,  1.80it/s]"
          ]
        },
        {
          "output_type": "stream",
          "name": "stdout",
          "text": [
            "20\n"
          ]
        },
        {
          "output_type": "stream",
          "name": "stderr",
          "text": [
            "\r 83%|████████▎ | 20/24 [00:11<00:02,  1.80it/s]"
          ]
        },
        {
          "output_type": "stream",
          "name": "stdout",
          "text": [
            "21\n"
          ]
        },
        {
          "output_type": "stream",
          "name": "stderr",
          "text": [
            "\r 88%|████████▊ | 21/24 [00:12<00:01,  1.79it/s]"
          ]
        },
        {
          "output_type": "stream",
          "name": "stdout",
          "text": [
            "22\n"
          ]
        },
        {
          "output_type": "stream",
          "name": "stderr",
          "text": [
            "\r 92%|█████████▏| 22/24 [00:12<00:01,  1.79it/s]"
          ]
        },
        {
          "output_type": "stream",
          "name": "stdout",
          "text": [
            "23\n"
          ]
        },
        {
          "output_type": "stream",
          "name": "stderr",
          "text": [
            "\r 96%|█████████▌| 23/24 [00:13<00:00,  1.79it/s]"
          ]
        },
        {
          "output_type": "stream",
          "name": "stdout",
          "text": [
            "24\n"
          ]
        },
        {
          "output_type": "stream",
          "name": "stderr",
          "text": [
            "25it [00:13,  1.81it/s]                        \n"
          ]
        },
        {
          "output_type": "stream",
          "name": "stdout",
          "text": [
            "25\n",
            "Validating\n"
          ]
        },
        {
          "output_type": "stream",
          "name": "stderr",
          "text": [
            "4it [00:01,  2.06it/s]\n"
          ]
        },
        {
          "output_type": "stream",
          "name": "stdout",
          "text": [
            "Train Loss: 0.2262\n",
            "Val Loss: 0.2403\n",
            "Epoch 10 of 20\n",
            "Training\n"
          ]
        },
        {
          "output_type": "stream",
          "name": "stderr",
          "text": [
            "\r  0%|          | 0/24 [00:00<?, ?it/s]"
          ]
        },
        {
          "output_type": "stream",
          "name": "stdout",
          "text": [
            "1\n"
          ]
        },
        {
          "output_type": "stream",
          "name": "stderr",
          "text": [
            "\r  4%|▍         | 1/24 [00:00<00:12,  1.79it/s]"
          ]
        },
        {
          "output_type": "stream",
          "name": "stdout",
          "text": [
            "2\n"
          ]
        },
        {
          "output_type": "stream",
          "name": "stderr",
          "text": [
            "\r  8%|▊         | 2/24 [00:01<00:12,  1.81it/s]"
          ]
        },
        {
          "output_type": "stream",
          "name": "stdout",
          "text": [
            "3\n"
          ]
        },
        {
          "output_type": "stream",
          "name": "stderr",
          "text": [
            "\r 12%|█▎        | 3/24 [00:01<00:11,  1.79it/s]"
          ]
        },
        {
          "output_type": "stream",
          "name": "stdout",
          "text": [
            "4\n"
          ]
        },
        {
          "output_type": "stream",
          "name": "stderr",
          "text": [
            "\r 17%|█▋        | 4/24 [00:02<00:11,  1.80it/s]"
          ]
        },
        {
          "output_type": "stream",
          "name": "stdout",
          "text": [
            "5\n"
          ]
        },
        {
          "output_type": "stream",
          "name": "stderr",
          "text": [
            "\r 21%|██        | 5/24 [00:02<00:10,  1.80it/s]"
          ]
        },
        {
          "output_type": "stream",
          "name": "stdout",
          "text": [
            "6\n"
          ]
        },
        {
          "output_type": "stream",
          "name": "stderr",
          "text": [
            "\r 25%|██▌       | 6/24 [00:03<00:10,  1.78it/s]"
          ]
        },
        {
          "output_type": "stream",
          "name": "stdout",
          "text": [
            "7\n"
          ]
        },
        {
          "output_type": "stream",
          "name": "stderr",
          "text": [
            "\r 29%|██▉       | 7/24 [00:03<00:09,  1.78it/s]"
          ]
        },
        {
          "output_type": "stream",
          "name": "stdout",
          "text": [
            "8\n"
          ]
        },
        {
          "output_type": "stream",
          "name": "stderr",
          "text": [
            "\r 33%|███▎      | 8/24 [00:04<00:08,  1.78it/s]"
          ]
        },
        {
          "output_type": "stream",
          "name": "stdout",
          "text": [
            "9\n"
          ]
        },
        {
          "output_type": "stream",
          "name": "stderr",
          "text": [
            "\r 38%|███▊      | 9/24 [00:05<00:08,  1.79it/s]"
          ]
        },
        {
          "output_type": "stream",
          "name": "stdout",
          "text": [
            "10\n"
          ]
        },
        {
          "output_type": "stream",
          "name": "stderr",
          "text": [
            "\r 42%|████▏     | 10/24 [00:05<00:07,  1.80it/s]"
          ]
        },
        {
          "output_type": "stream",
          "name": "stdout",
          "text": [
            "11\n"
          ]
        },
        {
          "output_type": "stream",
          "name": "stderr",
          "text": [
            "\r 46%|████▌     | 11/24 [00:06<00:07,  1.80it/s]"
          ]
        },
        {
          "output_type": "stream",
          "name": "stdout",
          "text": [
            "12\n"
          ]
        },
        {
          "output_type": "stream",
          "name": "stderr",
          "text": [
            "\r 50%|█████     | 12/24 [00:06<00:06,  1.80it/s]"
          ]
        },
        {
          "output_type": "stream",
          "name": "stdout",
          "text": [
            "13\n"
          ]
        },
        {
          "output_type": "stream",
          "name": "stderr",
          "text": [
            "\r 54%|█████▍    | 13/24 [00:07<00:06,  1.80it/s]"
          ]
        },
        {
          "output_type": "stream",
          "name": "stdout",
          "text": [
            "14\n"
          ]
        },
        {
          "output_type": "stream",
          "name": "stderr",
          "text": [
            "\r 58%|█████▊    | 14/24 [00:07<00:05,  1.81it/s]"
          ]
        },
        {
          "output_type": "stream",
          "name": "stdout",
          "text": [
            "15\n"
          ]
        },
        {
          "output_type": "stream",
          "name": "stderr",
          "text": [
            "\r 62%|██████▎   | 15/24 [00:08<00:04,  1.80it/s]"
          ]
        },
        {
          "output_type": "stream",
          "name": "stdout",
          "text": [
            "16\n"
          ]
        },
        {
          "output_type": "stream",
          "name": "stderr",
          "text": [
            "\r 67%|██████▋   | 16/24 [00:08<00:04,  1.81it/s]"
          ]
        },
        {
          "output_type": "stream",
          "name": "stdout",
          "text": [
            "17\n"
          ]
        },
        {
          "output_type": "stream",
          "name": "stderr",
          "text": [
            "\r 71%|███████   | 17/24 [00:09<00:03,  1.80it/s]"
          ]
        },
        {
          "output_type": "stream",
          "name": "stdout",
          "text": [
            "18\n"
          ]
        },
        {
          "output_type": "stream",
          "name": "stderr",
          "text": [
            "\r 75%|███████▌  | 18/24 [00:10<00:03,  1.78it/s]"
          ]
        },
        {
          "output_type": "stream",
          "name": "stdout",
          "text": [
            "19\n"
          ]
        },
        {
          "output_type": "stream",
          "name": "stderr",
          "text": [
            "\r 79%|███████▉  | 19/24 [00:10<00:02,  1.78it/s]"
          ]
        },
        {
          "output_type": "stream",
          "name": "stdout",
          "text": [
            "20\n"
          ]
        },
        {
          "output_type": "stream",
          "name": "stderr",
          "text": [
            "\r 83%|████████▎ | 20/24 [00:11<00:02,  1.79it/s]"
          ]
        },
        {
          "output_type": "stream",
          "name": "stdout",
          "text": [
            "21\n"
          ]
        },
        {
          "output_type": "stream",
          "name": "stderr",
          "text": [
            "\r 88%|████████▊ | 21/24 [00:11<00:01,  1.80it/s]"
          ]
        },
        {
          "output_type": "stream",
          "name": "stdout",
          "text": [
            "22\n"
          ]
        },
        {
          "output_type": "stream",
          "name": "stderr",
          "text": [
            "\r 92%|█████████▏| 22/24 [00:12<00:01,  1.79it/s]"
          ]
        },
        {
          "output_type": "stream",
          "name": "stdout",
          "text": [
            "23\n"
          ]
        },
        {
          "output_type": "stream",
          "name": "stderr",
          "text": [
            "\r 96%|█████████▌| 23/24 [00:12<00:00,  1.80it/s]"
          ]
        },
        {
          "output_type": "stream",
          "name": "stdout",
          "text": [
            "24\n"
          ]
        },
        {
          "output_type": "stream",
          "name": "stderr",
          "text": [
            "25it [00:13,  1.86it/s]                        \n"
          ]
        },
        {
          "output_type": "stream",
          "name": "stdout",
          "text": [
            "25\n",
            "Validating\n"
          ]
        },
        {
          "output_type": "stream",
          "name": "stderr",
          "text": [
            "4it [00:01,  2.05it/s]\n"
          ]
        },
        {
          "output_type": "stream",
          "name": "stdout",
          "text": [
            "Train Loss: 0.2296\n",
            "Val Loss: 0.2395\n",
            "Epoch 11 of 20\n",
            "Training\n"
          ]
        },
        {
          "output_type": "stream",
          "name": "stderr",
          "text": [
            "\r  0%|          | 0/24 [00:00<?, ?it/s]"
          ]
        },
        {
          "output_type": "stream",
          "name": "stdout",
          "text": [
            "1\n"
          ]
        },
        {
          "output_type": "stream",
          "name": "stderr",
          "text": [
            "\r  4%|▍         | 1/24 [00:00<00:12,  1.83it/s]"
          ]
        },
        {
          "output_type": "stream",
          "name": "stdout",
          "text": [
            "2\n"
          ]
        },
        {
          "output_type": "stream",
          "name": "stderr",
          "text": [
            "\r  8%|▊         | 2/24 [00:01<00:12,  1.82it/s]"
          ]
        },
        {
          "output_type": "stream",
          "name": "stdout",
          "text": [
            "3\n"
          ]
        },
        {
          "output_type": "stream",
          "name": "stderr",
          "text": [
            "\r 12%|█▎        | 3/24 [00:01<00:11,  1.80it/s]"
          ]
        },
        {
          "output_type": "stream",
          "name": "stdout",
          "text": [
            "4\n"
          ]
        },
        {
          "output_type": "stream",
          "name": "stderr",
          "text": [
            "\r 17%|█▋        | 4/24 [00:02<00:11,  1.79it/s]"
          ]
        },
        {
          "output_type": "stream",
          "name": "stdout",
          "text": [
            "5\n"
          ]
        },
        {
          "output_type": "stream",
          "name": "stderr",
          "text": [
            "\r 21%|██        | 5/24 [00:02<00:10,  1.79it/s]"
          ]
        },
        {
          "output_type": "stream",
          "name": "stdout",
          "text": [
            "6\n"
          ]
        },
        {
          "output_type": "stream",
          "name": "stderr",
          "text": [
            "\r 25%|██▌       | 6/24 [00:03<00:10,  1.78it/s]"
          ]
        },
        {
          "output_type": "stream",
          "name": "stdout",
          "text": [
            "7\n"
          ]
        },
        {
          "output_type": "stream",
          "name": "stderr",
          "text": [
            "\r 29%|██▉       | 7/24 [00:03<00:09,  1.78it/s]"
          ]
        },
        {
          "output_type": "stream",
          "name": "stdout",
          "text": [
            "8\n"
          ]
        },
        {
          "output_type": "stream",
          "name": "stderr",
          "text": [
            "\r 33%|███▎      | 8/24 [00:04<00:09,  1.77it/s]"
          ]
        },
        {
          "output_type": "stream",
          "name": "stdout",
          "text": [
            "9\n"
          ]
        },
        {
          "output_type": "stream",
          "name": "stderr",
          "text": [
            "\r 38%|███▊      | 9/24 [00:05<00:08,  1.78it/s]"
          ]
        },
        {
          "output_type": "stream",
          "name": "stdout",
          "text": [
            "10\n"
          ]
        },
        {
          "output_type": "stream",
          "name": "stderr",
          "text": [
            "\r 42%|████▏     | 10/24 [00:05<00:07,  1.78it/s]"
          ]
        },
        {
          "output_type": "stream",
          "name": "stdout",
          "text": [
            "11\n"
          ]
        },
        {
          "output_type": "stream",
          "name": "stderr",
          "text": [
            "\r 46%|████▌     | 11/24 [00:06<00:07,  1.78it/s]"
          ]
        },
        {
          "output_type": "stream",
          "name": "stdout",
          "text": [
            "12\n"
          ]
        },
        {
          "output_type": "stream",
          "name": "stderr",
          "text": [
            "\r 50%|█████     | 12/24 [00:06<00:06,  1.78it/s]"
          ]
        },
        {
          "output_type": "stream",
          "name": "stdout",
          "text": [
            "13\n"
          ]
        },
        {
          "output_type": "stream",
          "name": "stderr",
          "text": [
            "\r 54%|█████▍    | 13/24 [00:07<00:06,  1.78it/s]"
          ]
        },
        {
          "output_type": "stream",
          "name": "stdout",
          "text": [
            "14\n"
          ]
        },
        {
          "output_type": "stream",
          "name": "stderr",
          "text": [
            "\r 58%|█████▊    | 14/24 [00:07<00:05,  1.79it/s]"
          ]
        },
        {
          "output_type": "stream",
          "name": "stdout",
          "text": [
            "15\n"
          ]
        },
        {
          "output_type": "stream",
          "name": "stderr",
          "text": [
            "\r 62%|██████▎   | 15/24 [00:08<00:05,  1.78it/s]"
          ]
        },
        {
          "output_type": "stream",
          "name": "stdout",
          "text": [
            "16\n"
          ]
        },
        {
          "output_type": "stream",
          "name": "stderr",
          "text": [
            "\r 67%|██████▋   | 16/24 [00:08<00:04,  1.78it/s]"
          ]
        },
        {
          "output_type": "stream",
          "name": "stdout",
          "text": [
            "17\n"
          ]
        },
        {
          "output_type": "stream",
          "name": "stderr",
          "text": [
            "\r 71%|███████   | 17/24 [00:09<00:03,  1.79it/s]"
          ]
        },
        {
          "output_type": "stream",
          "name": "stdout",
          "text": [
            "18\n"
          ]
        },
        {
          "output_type": "stream",
          "name": "stderr",
          "text": [
            "\r 75%|███████▌  | 18/24 [00:10<00:03,  1.78it/s]"
          ]
        },
        {
          "output_type": "stream",
          "name": "stdout",
          "text": [
            "19\n"
          ]
        },
        {
          "output_type": "stream",
          "name": "stderr",
          "text": [
            "\r 79%|███████▉  | 19/24 [00:10<00:02,  1.78it/s]"
          ]
        },
        {
          "output_type": "stream",
          "name": "stdout",
          "text": [
            "20\n"
          ]
        },
        {
          "output_type": "stream",
          "name": "stderr",
          "text": [
            "\r 83%|████████▎ | 20/24 [00:11<00:02,  1.79it/s]"
          ]
        },
        {
          "output_type": "stream",
          "name": "stdout",
          "text": [
            "21\n"
          ]
        },
        {
          "output_type": "stream",
          "name": "stderr",
          "text": [
            "\r 88%|████████▊ | 21/24 [00:11<00:01,  1.79it/s]"
          ]
        },
        {
          "output_type": "stream",
          "name": "stdout",
          "text": [
            "22\n"
          ]
        },
        {
          "output_type": "stream",
          "name": "stderr",
          "text": [
            "\r 92%|█████████▏| 22/24 [00:12<00:01,  1.79it/s]"
          ]
        },
        {
          "output_type": "stream",
          "name": "stdout",
          "text": [
            "23\n"
          ]
        },
        {
          "output_type": "stream",
          "name": "stderr",
          "text": [
            "\r 96%|█████████▌| 23/24 [00:12<00:00,  1.78it/s]"
          ]
        },
        {
          "output_type": "stream",
          "name": "stdout",
          "text": [
            "24\n"
          ]
        },
        {
          "output_type": "stream",
          "name": "stderr",
          "text": [
            "25it [00:13,  1.85it/s]                        \n"
          ]
        },
        {
          "output_type": "stream",
          "name": "stdout",
          "text": [
            "25\n",
            "Validating\n"
          ]
        },
        {
          "output_type": "stream",
          "name": "stderr",
          "text": [
            "4it [00:01,  2.02it/s]\n"
          ]
        },
        {
          "output_type": "stream",
          "name": "stdout",
          "text": [
            "Train Loss: 0.2296\n",
            "Val Loss: 0.2396\n",
            "Epoch 12 of 20\n",
            "Training\n"
          ]
        },
        {
          "output_type": "stream",
          "name": "stderr",
          "text": [
            "\r  0%|          | 0/24 [00:00<?, ?it/s]"
          ]
        },
        {
          "output_type": "stream",
          "name": "stdout",
          "text": [
            "1\n"
          ]
        },
        {
          "output_type": "stream",
          "name": "stderr",
          "text": [
            "\r  4%|▍         | 1/24 [00:00<00:12,  1.78it/s]"
          ]
        },
        {
          "output_type": "stream",
          "name": "stdout",
          "text": [
            "2\n"
          ]
        },
        {
          "output_type": "stream",
          "name": "stderr",
          "text": [
            "\r  8%|▊         | 2/24 [00:01<00:12,  1.77it/s]"
          ]
        },
        {
          "output_type": "stream",
          "name": "stdout",
          "text": [
            "3\n"
          ]
        },
        {
          "output_type": "stream",
          "name": "stderr",
          "text": [
            "\r 12%|█▎        | 3/24 [00:01<00:11,  1.77it/s]"
          ]
        },
        {
          "output_type": "stream",
          "name": "stdout",
          "text": [
            "4\n"
          ]
        },
        {
          "output_type": "stream",
          "name": "stderr",
          "text": [
            "\r 17%|█▋        | 4/24 [00:02<00:11,  1.78it/s]"
          ]
        },
        {
          "output_type": "stream",
          "name": "stdout",
          "text": [
            "5\n"
          ]
        },
        {
          "output_type": "stream",
          "name": "stderr",
          "text": [
            "\r 21%|██        | 5/24 [00:02<00:10,  1.77it/s]"
          ]
        },
        {
          "output_type": "stream",
          "name": "stdout",
          "text": [
            "6\n"
          ]
        },
        {
          "output_type": "stream",
          "name": "stderr",
          "text": [
            "\r 25%|██▌       | 6/24 [00:03<00:10,  1.78it/s]"
          ]
        },
        {
          "output_type": "stream",
          "name": "stdout",
          "text": [
            "7\n"
          ]
        },
        {
          "output_type": "stream",
          "name": "stderr",
          "text": [
            "\r 29%|██▉       | 7/24 [00:03<00:09,  1.77it/s]"
          ]
        },
        {
          "output_type": "stream",
          "name": "stdout",
          "text": [
            "8\n"
          ]
        },
        {
          "output_type": "stream",
          "name": "stderr",
          "text": [
            "\r 33%|███▎      | 8/24 [00:04<00:09,  1.78it/s]"
          ]
        },
        {
          "output_type": "stream",
          "name": "stdout",
          "text": [
            "9\n"
          ]
        },
        {
          "output_type": "stream",
          "name": "stderr",
          "text": [
            "\r 38%|███▊      | 9/24 [00:05<00:08,  1.77it/s]"
          ]
        },
        {
          "output_type": "stream",
          "name": "stdout",
          "text": [
            "10\n"
          ]
        },
        {
          "output_type": "stream",
          "name": "stderr",
          "text": [
            "\r 42%|████▏     | 10/24 [00:05<00:07,  1.77it/s]"
          ]
        },
        {
          "output_type": "stream",
          "name": "stdout",
          "text": [
            "11\n"
          ]
        },
        {
          "output_type": "stream",
          "name": "stderr",
          "text": [
            "\r 46%|████▌     | 11/24 [00:06<00:07,  1.77it/s]"
          ]
        },
        {
          "output_type": "stream",
          "name": "stdout",
          "text": [
            "12\n"
          ]
        },
        {
          "output_type": "stream",
          "name": "stderr",
          "text": [
            "\r 50%|█████     | 12/24 [00:06<00:06,  1.78it/s]"
          ]
        },
        {
          "output_type": "stream",
          "name": "stdout",
          "text": [
            "13\n"
          ]
        },
        {
          "output_type": "stream",
          "name": "stderr",
          "text": [
            "\r 54%|█████▍    | 13/24 [00:07<00:06,  1.78it/s]"
          ]
        },
        {
          "output_type": "stream",
          "name": "stdout",
          "text": [
            "14\n"
          ]
        },
        {
          "output_type": "stream",
          "name": "stderr",
          "text": [
            "\r 58%|█████▊    | 14/24 [00:07<00:05,  1.77it/s]"
          ]
        },
        {
          "output_type": "stream",
          "name": "stdout",
          "text": [
            "15\n"
          ]
        },
        {
          "output_type": "stream",
          "name": "stderr",
          "text": [
            "\r 62%|██████▎   | 15/24 [00:08<00:05,  1.78it/s]"
          ]
        },
        {
          "output_type": "stream",
          "name": "stdout",
          "text": [
            "16\n"
          ]
        },
        {
          "output_type": "stream",
          "name": "stderr",
          "text": [
            "\r 67%|██████▋   | 16/24 [00:09<00:04,  1.78it/s]"
          ]
        },
        {
          "output_type": "stream",
          "name": "stdout",
          "text": [
            "17\n"
          ]
        },
        {
          "output_type": "stream",
          "name": "stderr",
          "text": [
            "\r 71%|███████   | 17/24 [00:09<00:03,  1.79it/s]"
          ]
        },
        {
          "output_type": "stream",
          "name": "stdout",
          "text": [
            "18\n"
          ]
        },
        {
          "output_type": "stream",
          "name": "stderr",
          "text": [
            "\r 75%|███████▌  | 18/24 [00:10<00:03,  1.78it/s]"
          ]
        },
        {
          "output_type": "stream",
          "name": "stdout",
          "text": [
            "19\n"
          ]
        },
        {
          "output_type": "stream",
          "name": "stderr",
          "text": [
            "\r 79%|███████▉  | 19/24 [00:10<00:02,  1.78it/s]"
          ]
        },
        {
          "output_type": "stream",
          "name": "stdout",
          "text": [
            "20\n"
          ]
        },
        {
          "output_type": "stream",
          "name": "stderr",
          "text": [
            "\r 83%|████████▎ | 20/24 [00:11<00:02,  1.77it/s]"
          ]
        },
        {
          "output_type": "stream",
          "name": "stdout",
          "text": [
            "21\n"
          ]
        },
        {
          "output_type": "stream",
          "name": "stderr",
          "text": [
            "\r 88%|████████▊ | 21/24 [00:11<00:01,  1.77it/s]"
          ]
        },
        {
          "output_type": "stream",
          "name": "stdout",
          "text": [
            "22\n"
          ]
        },
        {
          "output_type": "stream",
          "name": "stderr",
          "text": [
            "\r 92%|█████████▏| 22/24 [00:12<00:01,  1.77it/s]"
          ]
        },
        {
          "output_type": "stream",
          "name": "stdout",
          "text": [
            "23\n"
          ]
        },
        {
          "output_type": "stream",
          "name": "stderr",
          "text": [
            "\r 96%|█████████▌| 23/24 [00:12<00:00,  1.77it/s]"
          ]
        },
        {
          "output_type": "stream",
          "name": "stdout",
          "text": [
            "24\n"
          ]
        },
        {
          "output_type": "stream",
          "name": "stderr",
          "text": [
            "25it [00:13,  1.84it/s]                        \n"
          ]
        },
        {
          "output_type": "stream",
          "name": "stdout",
          "text": [
            "25\n",
            "Validating\n"
          ]
        },
        {
          "output_type": "stream",
          "name": "stderr",
          "text": [
            "4it [00:01,  2.00it/s]\n"
          ]
        },
        {
          "output_type": "stream",
          "name": "stdout",
          "text": [
            "Train Loss: 0.2264\n",
            "Val Loss: 0.2394\n",
            "Epoch 13 of 20\n",
            "Training\n"
          ]
        },
        {
          "output_type": "stream",
          "name": "stderr",
          "text": [
            "\r  0%|          | 0/24 [00:00<?, ?it/s]"
          ]
        },
        {
          "output_type": "stream",
          "name": "stdout",
          "text": [
            "1\n"
          ]
        },
        {
          "output_type": "stream",
          "name": "stderr",
          "text": [
            "\r  4%|▍         | 1/24 [00:00<00:13,  1.75it/s]"
          ]
        },
        {
          "output_type": "stream",
          "name": "stdout",
          "text": [
            "2\n"
          ]
        },
        {
          "output_type": "stream",
          "name": "stderr",
          "text": [
            "\r  8%|▊         | 2/24 [00:01<00:12,  1.76it/s]"
          ]
        },
        {
          "output_type": "stream",
          "name": "stdout",
          "text": [
            "3\n"
          ]
        },
        {
          "output_type": "stream",
          "name": "stderr",
          "text": [
            "\r 12%|█▎        | 3/24 [00:01<00:11,  1.76it/s]"
          ]
        },
        {
          "output_type": "stream",
          "name": "stdout",
          "text": [
            "4\n"
          ]
        },
        {
          "output_type": "stream",
          "name": "stderr",
          "text": [
            "\r 17%|█▋        | 4/24 [00:02<00:11,  1.76it/s]"
          ]
        },
        {
          "output_type": "stream",
          "name": "stdout",
          "text": [
            "5\n"
          ]
        },
        {
          "output_type": "stream",
          "name": "stderr",
          "text": [
            "\r 21%|██        | 5/24 [00:02<00:10,  1.76it/s]"
          ]
        },
        {
          "output_type": "stream",
          "name": "stdout",
          "text": [
            "6\n"
          ]
        },
        {
          "output_type": "stream",
          "name": "stderr",
          "text": [
            "\r 25%|██▌       | 6/24 [00:03<00:10,  1.76it/s]"
          ]
        },
        {
          "output_type": "stream",
          "name": "stdout",
          "text": [
            "7\n"
          ]
        },
        {
          "output_type": "stream",
          "name": "stderr",
          "text": [
            "\r 29%|██▉       | 7/24 [00:03<00:09,  1.77it/s]"
          ]
        },
        {
          "output_type": "stream",
          "name": "stdout",
          "text": [
            "8\n"
          ]
        },
        {
          "output_type": "stream",
          "name": "stderr",
          "text": [
            "\r 33%|███▎      | 8/24 [00:04<00:09,  1.77it/s]"
          ]
        },
        {
          "output_type": "stream",
          "name": "stdout",
          "text": [
            "9\n"
          ]
        },
        {
          "output_type": "stream",
          "name": "stderr",
          "text": [
            "\r 38%|███▊      | 9/24 [00:05<00:08,  1.77it/s]"
          ]
        },
        {
          "output_type": "stream",
          "name": "stdout",
          "text": [
            "10\n"
          ]
        },
        {
          "output_type": "stream",
          "name": "stderr",
          "text": [
            "\r 42%|████▏     | 10/24 [00:05<00:07,  1.77it/s]"
          ]
        },
        {
          "output_type": "stream",
          "name": "stdout",
          "text": [
            "11\n"
          ]
        },
        {
          "output_type": "stream",
          "name": "stderr",
          "text": [
            "\r 46%|████▌     | 11/24 [00:06<00:07,  1.77it/s]"
          ]
        },
        {
          "output_type": "stream",
          "name": "stdout",
          "text": [
            "12\n"
          ]
        },
        {
          "output_type": "stream",
          "name": "stderr",
          "text": [
            "\r 50%|█████     | 12/24 [00:06<00:06,  1.76it/s]"
          ]
        },
        {
          "output_type": "stream",
          "name": "stdout",
          "text": [
            "13\n"
          ]
        },
        {
          "output_type": "stream",
          "name": "stderr",
          "text": [
            "\r 54%|█████▍    | 13/24 [00:07<00:06,  1.76it/s]"
          ]
        },
        {
          "output_type": "stream",
          "name": "stdout",
          "text": [
            "14\n"
          ]
        },
        {
          "output_type": "stream",
          "name": "stderr",
          "text": [
            "\r 58%|█████▊    | 14/24 [00:07<00:05,  1.76it/s]"
          ]
        },
        {
          "output_type": "stream",
          "name": "stdout",
          "text": [
            "15\n"
          ]
        },
        {
          "output_type": "stream",
          "name": "stderr",
          "text": [
            "\r 62%|██████▎   | 15/24 [00:08<00:05,  1.76it/s]"
          ]
        },
        {
          "output_type": "stream",
          "name": "stdout",
          "text": [
            "16\n"
          ]
        },
        {
          "output_type": "stream",
          "name": "stderr",
          "text": [
            "\r 67%|██████▋   | 16/24 [00:09<00:04,  1.74it/s]"
          ]
        },
        {
          "output_type": "stream",
          "name": "stdout",
          "text": [
            "17\n"
          ]
        },
        {
          "output_type": "stream",
          "name": "stderr",
          "text": [
            "\r 71%|███████   | 17/24 [00:09<00:04,  1.75it/s]"
          ]
        },
        {
          "output_type": "stream",
          "name": "stdout",
          "text": [
            "18\n"
          ]
        },
        {
          "output_type": "stream",
          "name": "stderr",
          "text": [
            "\r 75%|███████▌  | 18/24 [00:10<00:03,  1.75it/s]"
          ]
        },
        {
          "output_type": "stream",
          "name": "stdout",
          "text": [
            "19\n"
          ]
        },
        {
          "output_type": "stream",
          "name": "stderr",
          "text": [
            "\r 79%|███████▉  | 19/24 [00:10<00:02,  1.76it/s]"
          ]
        },
        {
          "output_type": "stream",
          "name": "stdout",
          "text": [
            "20\n"
          ]
        },
        {
          "output_type": "stream",
          "name": "stderr",
          "text": [
            "\r 83%|████████▎ | 20/24 [00:11<00:02,  1.76it/s]"
          ]
        },
        {
          "output_type": "stream",
          "name": "stdout",
          "text": [
            "21\n"
          ]
        },
        {
          "output_type": "stream",
          "name": "stderr",
          "text": [
            "\r 88%|████████▊ | 21/24 [00:11<00:01,  1.75it/s]"
          ]
        },
        {
          "output_type": "stream",
          "name": "stdout",
          "text": [
            "22\n"
          ]
        },
        {
          "output_type": "stream",
          "name": "stderr",
          "text": [
            "\r 92%|█████████▏| 22/24 [00:12<00:01,  1.76it/s]"
          ]
        },
        {
          "output_type": "stream",
          "name": "stdout",
          "text": [
            "23\n"
          ]
        },
        {
          "output_type": "stream",
          "name": "stderr",
          "text": [
            "\r 96%|█████████▌| 23/24 [00:13<00:00,  1.76it/s]"
          ]
        },
        {
          "output_type": "stream",
          "name": "stdout",
          "text": [
            "24\n"
          ]
        },
        {
          "output_type": "stream",
          "name": "stderr",
          "text": [
            "25it [00:13,  1.83it/s]                        \n"
          ]
        },
        {
          "output_type": "stream",
          "name": "stdout",
          "text": [
            "25\n",
            "Validating\n"
          ]
        },
        {
          "output_type": "stream",
          "name": "stderr",
          "text": [
            "4it [00:02,  1.98it/s]\n"
          ]
        },
        {
          "output_type": "stream",
          "name": "stdout",
          "text": [
            "Train Loss: 0.2266\n",
            "Val Loss: 0.2403\n",
            "Epoch 14 of 20\n",
            "Training\n"
          ]
        },
        {
          "output_type": "stream",
          "name": "stderr",
          "text": [
            "\r  0%|          | 0/24 [00:00<?, ?it/s]"
          ]
        },
        {
          "output_type": "stream",
          "name": "stdout",
          "text": [
            "1\n"
          ]
        },
        {
          "output_type": "stream",
          "name": "stderr",
          "text": [
            "\r  4%|▍         | 1/24 [00:00<00:13,  1.71it/s]"
          ]
        },
        {
          "output_type": "stream",
          "name": "stdout",
          "text": [
            "2\n"
          ]
        },
        {
          "output_type": "stream",
          "name": "stderr",
          "text": [
            "\r  8%|▊         | 2/24 [00:01<00:12,  1.73it/s]"
          ]
        },
        {
          "output_type": "stream",
          "name": "stdout",
          "text": [
            "3\n"
          ]
        },
        {
          "output_type": "stream",
          "name": "stderr",
          "text": [
            "\r 12%|█▎        | 3/24 [00:01<00:12,  1.75it/s]"
          ]
        },
        {
          "output_type": "stream",
          "name": "stdout",
          "text": [
            "4\n"
          ]
        },
        {
          "output_type": "stream",
          "name": "stderr",
          "text": [
            "\r 17%|█▋        | 4/24 [00:02<00:11,  1.73it/s]"
          ]
        },
        {
          "output_type": "stream",
          "name": "stdout",
          "text": [
            "5\n"
          ]
        },
        {
          "output_type": "stream",
          "name": "stderr",
          "text": [
            "\r 21%|██        | 5/24 [00:02<00:10,  1.74it/s]"
          ]
        },
        {
          "output_type": "stream",
          "name": "stdout",
          "text": [
            "6\n"
          ]
        },
        {
          "output_type": "stream",
          "name": "stderr",
          "text": [
            "\r 25%|██▌       | 6/24 [00:03<00:10,  1.73it/s]"
          ]
        },
        {
          "output_type": "stream",
          "name": "stdout",
          "text": [
            "7\n"
          ]
        },
        {
          "output_type": "stream",
          "name": "stderr",
          "text": [
            "\r 29%|██▉       | 7/24 [00:04<00:09,  1.74it/s]"
          ]
        },
        {
          "output_type": "stream",
          "name": "stdout",
          "text": [
            "8\n"
          ]
        },
        {
          "output_type": "stream",
          "name": "stderr",
          "text": [
            "\r 33%|███▎      | 8/24 [00:04<00:09,  1.73it/s]"
          ]
        },
        {
          "output_type": "stream",
          "name": "stdout",
          "text": [
            "9\n"
          ]
        },
        {
          "output_type": "stream",
          "name": "stderr",
          "text": [
            "\r 38%|███▊      | 9/24 [00:05<00:08,  1.74it/s]"
          ]
        },
        {
          "output_type": "stream",
          "name": "stdout",
          "text": [
            "10\n"
          ]
        },
        {
          "output_type": "stream",
          "name": "stderr",
          "text": [
            "\r 42%|████▏     | 10/24 [00:05<00:08,  1.74it/s]"
          ]
        },
        {
          "output_type": "stream",
          "name": "stdout",
          "text": [
            "11\n"
          ]
        },
        {
          "output_type": "stream",
          "name": "stderr",
          "text": [
            "\r 46%|████▌     | 11/24 [00:06<00:07,  1.75it/s]"
          ]
        },
        {
          "output_type": "stream",
          "name": "stdout",
          "text": [
            "12\n"
          ]
        },
        {
          "output_type": "stream",
          "name": "stderr",
          "text": [
            "\r 50%|█████     | 12/24 [00:06<00:06,  1.75it/s]"
          ]
        },
        {
          "output_type": "stream",
          "name": "stdout",
          "text": [
            "13\n"
          ]
        },
        {
          "output_type": "stream",
          "name": "stderr",
          "text": [
            "\r 54%|█████▍    | 13/24 [00:07<00:06,  1.74it/s]"
          ]
        },
        {
          "output_type": "stream",
          "name": "stdout",
          "text": [
            "14\n"
          ]
        },
        {
          "output_type": "stream",
          "name": "stderr",
          "text": [
            "\r 58%|█████▊    | 14/24 [00:08<00:05,  1.73it/s]"
          ]
        },
        {
          "output_type": "stream",
          "name": "stdout",
          "text": [
            "15\n"
          ]
        },
        {
          "output_type": "stream",
          "name": "stderr",
          "text": [
            "\r 62%|██████▎   | 15/24 [00:08<00:05,  1.74it/s]"
          ]
        },
        {
          "output_type": "stream",
          "name": "stdout",
          "text": [
            "16\n"
          ]
        },
        {
          "output_type": "stream",
          "name": "stderr",
          "text": [
            "\r 67%|██████▋   | 16/24 [00:09<00:04,  1.74it/s]"
          ]
        },
        {
          "output_type": "stream",
          "name": "stdout",
          "text": [
            "17\n"
          ]
        },
        {
          "output_type": "stream",
          "name": "stderr",
          "text": [
            "\r 71%|███████   | 17/24 [00:09<00:04,  1.73it/s]"
          ]
        },
        {
          "output_type": "stream",
          "name": "stdout",
          "text": [
            "18\n"
          ]
        },
        {
          "output_type": "stream",
          "name": "stderr",
          "text": [
            "\r 75%|███████▌  | 18/24 [00:10<00:03,  1.73it/s]"
          ]
        },
        {
          "output_type": "stream",
          "name": "stdout",
          "text": [
            "19\n"
          ]
        },
        {
          "output_type": "stream",
          "name": "stderr",
          "text": [
            "\r 79%|███████▉  | 19/24 [00:10<00:02,  1.75it/s]"
          ]
        },
        {
          "output_type": "stream",
          "name": "stdout",
          "text": [
            "20\n"
          ]
        },
        {
          "output_type": "stream",
          "name": "stderr",
          "text": [
            "\r 83%|████████▎ | 20/24 [00:11<00:02,  1.75it/s]"
          ]
        },
        {
          "output_type": "stream",
          "name": "stdout",
          "text": [
            "21\n"
          ]
        },
        {
          "output_type": "stream",
          "name": "stderr",
          "text": [
            "\r 88%|████████▊ | 21/24 [00:12<00:01,  1.75it/s]"
          ]
        },
        {
          "output_type": "stream",
          "name": "stdout",
          "text": [
            "22\n"
          ]
        },
        {
          "output_type": "stream",
          "name": "stderr",
          "text": [
            "\r 92%|█████████▏| 22/24 [00:12<00:01,  1.74it/s]"
          ]
        },
        {
          "output_type": "stream",
          "name": "stdout",
          "text": [
            "23\n"
          ]
        },
        {
          "output_type": "stream",
          "name": "stderr",
          "text": [
            "\r 96%|█████████▌| 23/24 [00:13<00:00,  1.75it/s]"
          ]
        },
        {
          "output_type": "stream",
          "name": "stdout",
          "text": [
            "24\n"
          ]
        },
        {
          "output_type": "stream",
          "name": "stderr",
          "text": [
            "25it [00:13,  1.81it/s]                        \n"
          ]
        },
        {
          "output_type": "stream",
          "name": "stdout",
          "text": [
            "25\n",
            "Validating\n"
          ]
        },
        {
          "output_type": "stream",
          "name": "stderr",
          "text": [
            "4it [00:02,  1.99it/s]\n"
          ]
        },
        {
          "output_type": "stream",
          "name": "stdout",
          "text": [
            "Train Loss: 0.2256\n",
            "Val Loss: 0.2399\n",
            "Epoch 15 of 20\n",
            "Training\n"
          ]
        },
        {
          "output_type": "stream",
          "name": "stderr",
          "text": [
            "\r  0%|          | 0/24 [00:00<?, ?it/s]"
          ]
        },
        {
          "output_type": "stream",
          "name": "stdout",
          "text": [
            "1\n"
          ]
        },
        {
          "output_type": "stream",
          "name": "stderr",
          "text": [
            "\r  4%|▍         | 1/24 [00:00<00:13,  1.71it/s]"
          ]
        },
        {
          "output_type": "stream",
          "name": "stdout",
          "text": [
            "2\n"
          ]
        },
        {
          "output_type": "stream",
          "name": "stderr",
          "text": [
            "\r  8%|▊         | 2/24 [00:01<00:12,  1.73it/s]"
          ]
        },
        {
          "output_type": "stream",
          "name": "stdout",
          "text": [
            "3\n"
          ]
        },
        {
          "output_type": "stream",
          "name": "stderr",
          "text": [
            "\r 12%|█▎        | 3/24 [00:01<00:12,  1.73it/s]"
          ]
        },
        {
          "output_type": "stream",
          "name": "stdout",
          "text": [
            "4\n"
          ]
        },
        {
          "output_type": "stream",
          "name": "stderr",
          "text": [
            "\r 17%|█▋        | 4/24 [00:02<00:11,  1.74it/s]"
          ]
        },
        {
          "output_type": "stream",
          "name": "stdout",
          "text": [
            "5\n"
          ]
        },
        {
          "output_type": "stream",
          "name": "stderr",
          "text": [
            "\r 21%|██        | 5/24 [00:02<00:10,  1.75it/s]"
          ]
        },
        {
          "output_type": "stream",
          "name": "stdout",
          "text": [
            "6\n"
          ]
        },
        {
          "output_type": "stream",
          "name": "stderr",
          "text": [
            "\r 25%|██▌       | 6/24 [00:03<00:10,  1.75it/s]"
          ]
        },
        {
          "output_type": "stream",
          "name": "stdout",
          "text": [
            "7\n"
          ]
        },
        {
          "output_type": "stream",
          "name": "stderr",
          "text": [
            "\r 29%|██▉       | 7/24 [00:04<00:09,  1.75it/s]"
          ]
        },
        {
          "output_type": "stream",
          "name": "stdout",
          "text": [
            "8\n"
          ]
        },
        {
          "output_type": "stream",
          "name": "stderr",
          "text": [
            "\r 33%|███▎      | 8/24 [00:04<00:09,  1.76it/s]"
          ]
        },
        {
          "output_type": "stream",
          "name": "stdout",
          "text": [
            "9\n"
          ]
        },
        {
          "output_type": "stream",
          "name": "stderr",
          "text": [
            "\r 38%|███▊      | 9/24 [00:05<00:08,  1.76it/s]"
          ]
        },
        {
          "output_type": "stream",
          "name": "stdout",
          "text": [
            "10\n"
          ]
        },
        {
          "output_type": "stream",
          "name": "stderr",
          "text": [
            "\r 42%|████▏     | 10/24 [00:05<00:08,  1.75it/s]"
          ]
        },
        {
          "output_type": "stream",
          "name": "stdout",
          "text": [
            "11\n"
          ]
        },
        {
          "output_type": "stream",
          "name": "stderr",
          "text": [
            "\r 46%|████▌     | 11/24 [00:06<00:07,  1.74it/s]"
          ]
        },
        {
          "output_type": "stream",
          "name": "stdout",
          "text": [
            "12\n"
          ]
        },
        {
          "output_type": "stream",
          "name": "stderr",
          "text": [
            "\r 50%|█████     | 12/24 [00:06<00:06,  1.74it/s]"
          ]
        },
        {
          "output_type": "stream",
          "name": "stdout",
          "text": [
            "13\n"
          ]
        },
        {
          "output_type": "stream",
          "name": "stderr",
          "text": [
            "\r 54%|█████▍    | 13/24 [00:07<00:06,  1.74it/s]"
          ]
        },
        {
          "output_type": "stream",
          "name": "stdout",
          "text": [
            "14\n"
          ]
        },
        {
          "output_type": "stream",
          "name": "stderr",
          "text": [
            "\r 58%|█████▊    | 14/24 [00:08<00:05,  1.74it/s]"
          ]
        },
        {
          "output_type": "stream",
          "name": "stdout",
          "text": [
            "15\n"
          ]
        },
        {
          "output_type": "stream",
          "name": "stderr",
          "text": [
            "\r 62%|██████▎   | 15/24 [00:08<00:05,  1.75it/s]"
          ]
        },
        {
          "output_type": "stream",
          "name": "stdout",
          "text": [
            "16\n"
          ]
        },
        {
          "output_type": "stream",
          "name": "stderr",
          "text": [
            "\r 67%|██████▋   | 16/24 [00:09<00:04,  1.75it/s]"
          ]
        },
        {
          "output_type": "stream",
          "name": "stdout",
          "text": [
            "17\n"
          ]
        },
        {
          "output_type": "stream",
          "name": "stderr",
          "text": [
            "\r 71%|███████   | 17/24 [00:09<00:03,  1.75it/s]"
          ]
        },
        {
          "output_type": "stream",
          "name": "stdout",
          "text": [
            "18\n"
          ]
        },
        {
          "output_type": "stream",
          "name": "stderr",
          "text": [
            "\r 75%|███████▌  | 18/24 [00:10<00:03,  1.74it/s]"
          ]
        },
        {
          "output_type": "stream",
          "name": "stdout",
          "text": [
            "19\n"
          ]
        },
        {
          "output_type": "stream",
          "name": "stderr",
          "text": [
            "\r 79%|███████▉  | 19/24 [00:10<00:02,  1.74it/s]"
          ]
        },
        {
          "output_type": "stream",
          "name": "stdout",
          "text": [
            "20\n"
          ]
        },
        {
          "output_type": "stream",
          "name": "stderr",
          "text": [
            "\r 83%|████████▎ | 20/24 [00:11<00:02,  1.75it/s]"
          ]
        },
        {
          "output_type": "stream",
          "name": "stdout",
          "text": [
            "21\n"
          ]
        },
        {
          "output_type": "stream",
          "name": "stderr",
          "text": [
            "\r 88%|████████▊ | 21/24 [00:12<00:01,  1.75it/s]"
          ]
        },
        {
          "output_type": "stream",
          "name": "stdout",
          "text": [
            "22\n"
          ]
        },
        {
          "output_type": "stream",
          "name": "stderr",
          "text": [
            "\r 92%|█████████▏| 22/24 [00:12<00:01,  1.75it/s]"
          ]
        },
        {
          "output_type": "stream",
          "name": "stdout",
          "text": [
            "23\n"
          ]
        },
        {
          "output_type": "stream",
          "name": "stderr",
          "text": [
            "\r 96%|█████████▌| 23/24 [00:13<00:00,  1.75it/s]"
          ]
        },
        {
          "output_type": "stream",
          "name": "stdout",
          "text": [
            "24\n"
          ]
        },
        {
          "output_type": "stream",
          "name": "stderr",
          "text": [
            "25it [00:13,  1.81it/s]                        \n"
          ]
        },
        {
          "output_type": "stream",
          "name": "stdout",
          "text": [
            "25\n",
            "Validating\n"
          ]
        },
        {
          "output_type": "stream",
          "name": "stderr",
          "text": [
            "4it [00:02,  1.98it/s]\n"
          ]
        },
        {
          "output_type": "stream",
          "name": "stdout",
          "text": [
            "Train Loss: 0.2226\n",
            "Val Loss: 0.2394\n",
            "Epoch 16 of 20\n",
            "Training\n"
          ]
        },
        {
          "output_type": "stream",
          "name": "stderr",
          "text": [
            "\r  0%|          | 0/24 [00:00<?, ?it/s]"
          ]
        },
        {
          "output_type": "stream",
          "name": "stdout",
          "text": [
            "1\n"
          ]
        },
        {
          "output_type": "stream",
          "name": "stderr",
          "text": [
            "\r  4%|▍         | 1/24 [00:00<00:13,  1.77it/s]"
          ]
        },
        {
          "output_type": "stream",
          "name": "stdout",
          "text": [
            "2\n"
          ]
        },
        {
          "output_type": "stream",
          "name": "stderr",
          "text": [
            "\r  8%|▊         | 2/24 [00:01<00:12,  1.77it/s]"
          ]
        },
        {
          "output_type": "stream",
          "name": "stdout",
          "text": [
            "3\n"
          ]
        },
        {
          "output_type": "stream",
          "name": "stderr",
          "text": [
            "\r 12%|█▎        | 3/24 [00:01<00:11,  1.76it/s]"
          ]
        },
        {
          "output_type": "stream",
          "name": "stdout",
          "text": [
            "4\n"
          ]
        },
        {
          "output_type": "stream",
          "name": "stderr",
          "text": [
            "\r 17%|█▋        | 4/24 [00:02<00:11,  1.74it/s]"
          ]
        },
        {
          "output_type": "stream",
          "name": "stdout",
          "text": [
            "5\n"
          ]
        },
        {
          "output_type": "stream",
          "name": "stderr",
          "text": [
            "\r 21%|██        | 5/24 [00:02<00:11,  1.72it/s]"
          ]
        },
        {
          "output_type": "stream",
          "name": "stdout",
          "text": [
            "6\n"
          ]
        },
        {
          "output_type": "stream",
          "name": "stderr",
          "text": [
            "\r 25%|██▌       | 6/24 [00:03<00:10,  1.73it/s]"
          ]
        },
        {
          "output_type": "stream",
          "name": "stdout",
          "text": [
            "7\n"
          ]
        },
        {
          "output_type": "stream",
          "name": "stderr",
          "text": [
            "\r 29%|██▉       | 7/24 [00:04<00:09,  1.74it/s]"
          ]
        },
        {
          "output_type": "stream",
          "name": "stdout",
          "text": [
            "8\n"
          ]
        },
        {
          "output_type": "stream",
          "name": "stderr",
          "text": [
            "\r 33%|███▎      | 8/24 [00:04<00:09,  1.75it/s]"
          ]
        },
        {
          "output_type": "stream",
          "name": "stdout",
          "text": [
            "9\n"
          ]
        },
        {
          "output_type": "stream",
          "name": "stderr",
          "text": [
            "\r 38%|███▊      | 9/24 [00:05<00:08,  1.75it/s]"
          ]
        },
        {
          "output_type": "stream",
          "name": "stdout",
          "text": [
            "10\n"
          ]
        },
        {
          "output_type": "stream",
          "name": "stderr",
          "text": [
            "\r 42%|████▏     | 10/24 [00:05<00:07,  1.76it/s]"
          ]
        },
        {
          "output_type": "stream",
          "name": "stdout",
          "text": [
            "11\n"
          ]
        },
        {
          "output_type": "stream",
          "name": "stderr",
          "text": [
            "\r 46%|████▌     | 11/24 [00:06<00:07,  1.75it/s]"
          ]
        },
        {
          "output_type": "stream",
          "name": "stdout",
          "text": [
            "12\n"
          ]
        },
        {
          "output_type": "stream",
          "name": "stderr",
          "text": [
            "\r 50%|█████     | 12/24 [00:06<00:06,  1.75it/s]"
          ]
        },
        {
          "output_type": "stream",
          "name": "stdout",
          "text": [
            "13\n"
          ]
        },
        {
          "output_type": "stream",
          "name": "stderr",
          "text": [
            "\r 54%|█████▍    | 13/24 [00:07<00:06,  1.75it/s]"
          ]
        },
        {
          "output_type": "stream",
          "name": "stdout",
          "text": [
            "14\n"
          ]
        },
        {
          "output_type": "stream",
          "name": "stderr",
          "text": [
            "\r 58%|█████▊    | 14/24 [00:08<00:05,  1.75it/s]"
          ]
        },
        {
          "output_type": "stream",
          "name": "stdout",
          "text": [
            "15\n"
          ]
        },
        {
          "output_type": "stream",
          "name": "stderr",
          "text": [
            "\r 62%|██████▎   | 15/24 [00:08<00:05,  1.76it/s]"
          ]
        },
        {
          "output_type": "stream",
          "name": "stdout",
          "text": [
            "16\n"
          ]
        },
        {
          "output_type": "stream",
          "name": "stderr",
          "text": [
            "\r 67%|██████▋   | 16/24 [00:09<00:04,  1.76it/s]"
          ]
        },
        {
          "output_type": "stream",
          "name": "stdout",
          "text": [
            "17\n"
          ]
        },
        {
          "output_type": "stream",
          "name": "stderr",
          "text": [
            "\r 71%|███████   | 17/24 [00:09<00:03,  1.77it/s]"
          ]
        },
        {
          "output_type": "stream",
          "name": "stdout",
          "text": [
            "18\n"
          ]
        },
        {
          "output_type": "stream",
          "name": "stderr",
          "text": [
            "\r 75%|███████▌  | 18/24 [00:10<00:03,  1.76it/s]"
          ]
        },
        {
          "output_type": "stream",
          "name": "stdout",
          "text": [
            "19\n"
          ]
        },
        {
          "output_type": "stream",
          "name": "stderr",
          "text": [
            "\r 79%|███████▉  | 19/24 [00:10<00:02,  1.76it/s]"
          ]
        },
        {
          "output_type": "stream",
          "name": "stdout",
          "text": [
            "20\n"
          ]
        },
        {
          "output_type": "stream",
          "name": "stderr",
          "text": [
            "\r 83%|████████▎ | 20/24 [00:11<00:02,  1.75it/s]"
          ]
        },
        {
          "output_type": "stream",
          "name": "stdout",
          "text": [
            "21\n"
          ]
        },
        {
          "output_type": "stream",
          "name": "stderr",
          "text": [
            "\r 88%|████████▊ | 21/24 [00:11<00:01,  1.75it/s]"
          ]
        },
        {
          "output_type": "stream",
          "name": "stdout",
          "text": [
            "22\n"
          ]
        },
        {
          "output_type": "stream",
          "name": "stderr",
          "text": [
            "\r 92%|█████████▏| 22/24 [00:12<00:01,  1.76it/s]"
          ]
        },
        {
          "output_type": "stream",
          "name": "stdout",
          "text": [
            "23\n"
          ]
        },
        {
          "output_type": "stream",
          "name": "stderr",
          "text": [
            "\r 96%|█████████▌| 23/24 [00:13<00:00,  1.76it/s]"
          ]
        },
        {
          "output_type": "stream",
          "name": "stdout",
          "text": [
            "24\n"
          ]
        },
        {
          "output_type": "stream",
          "name": "stderr",
          "text": [
            "25it [00:13,  1.82it/s]                        \n"
          ]
        },
        {
          "output_type": "stream",
          "name": "stdout",
          "text": [
            "25\n",
            "Validating\n"
          ]
        },
        {
          "output_type": "stream",
          "name": "stderr",
          "text": [
            "4it [00:01,  2.00it/s]\n"
          ]
        },
        {
          "output_type": "stream",
          "name": "stdout",
          "text": [
            "Train Loss: 0.2250\n",
            "Val Loss: 0.2381\n",
            "Epoch 17 of 20\n",
            "Training\n"
          ]
        },
        {
          "output_type": "stream",
          "name": "stderr",
          "text": [
            "\r  0%|          | 0/24 [00:00<?, ?it/s]"
          ]
        },
        {
          "output_type": "stream",
          "name": "stdout",
          "text": [
            "1\n"
          ]
        },
        {
          "output_type": "stream",
          "name": "stderr",
          "text": [
            "\r  4%|▍         | 1/24 [00:00<00:13,  1.72it/s]"
          ]
        },
        {
          "output_type": "stream",
          "name": "stdout",
          "text": [
            "2\n"
          ]
        },
        {
          "output_type": "stream",
          "name": "stderr",
          "text": [
            "\r  8%|▊         | 2/24 [00:01<00:12,  1.75it/s]"
          ]
        },
        {
          "output_type": "stream",
          "name": "stdout",
          "text": [
            "3\n"
          ]
        },
        {
          "output_type": "stream",
          "name": "stderr",
          "text": [
            "\r 12%|█▎        | 3/24 [00:01<00:11,  1.75it/s]"
          ]
        },
        {
          "output_type": "stream",
          "name": "stdout",
          "text": [
            "4\n"
          ]
        },
        {
          "output_type": "stream",
          "name": "stderr",
          "text": [
            "\r 17%|█▋        | 4/24 [00:02<00:11,  1.76it/s]"
          ]
        },
        {
          "output_type": "stream",
          "name": "stdout",
          "text": [
            "5\n"
          ]
        },
        {
          "output_type": "stream",
          "name": "stderr",
          "text": [
            "\r 21%|██        | 5/24 [00:02<00:10,  1.76it/s]"
          ]
        },
        {
          "output_type": "stream",
          "name": "stdout",
          "text": [
            "6\n"
          ]
        },
        {
          "output_type": "stream",
          "name": "stderr",
          "text": [
            "\r 25%|██▌       | 6/24 [00:03<00:10,  1.76it/s]"
          ]
        },
        {
          "output_type": "stream",
          "name": "stdout",
          "text": [
            "7\n"
          ]
        },
        {
          "output_type": "stream",
          "name": "stderr",
          "text": [
            "\r 29%|██▉       | 7/24 [00:03<00:09,  1.76it/s]"
          ]
        },
        {
          "output_type": "stream",
          "name": "stdout",
          "text": [
            "8\n"
          ]
        },
        {
          "output_type": "stream",
          "name": "stderr",
          "text": [
            "\r 33%|███▎      | 8/24 [00:04<00:09,  1.77it/s]"
          ]
        },
        {
          "output_type": "stream",
          "name": "stdout",
          "text": [
            "9\n"
          ]
        },
        {
          "output_type": "stream",
          "name": "stderr",
          "text": [
            "\r 38%|███▊      | 9/24 [00:05<00:08,  1.77it/s]"
          ]
        },
        {
          "output_type": "stream",
          "name": "stdout",
          "text": [
            "10\n"
          ]
        },
        {
          "output_type": "stream",
          "name": "stderr",
          "text": [
            "\r 42%|████▏     | 10/24 [00:05<00:07,  1.76it/s]"
          ]
        },
        {
          "output_type": "stream",
          "name": "stdout",
          "text": [
            "11\n"
          ]
        },
        {
          "output_type": "stream",
          "name": "stderr",
          "text": [
            "\r 46%|████▌     | 11/24 [00:06<00:07,  1.76it/s]"
          ]
        },
        {
          "output_type": "stream",
          "name": "stdout",
          "text": [
            "12\n"
          ]
        },
        {
          "output_type": "stream",
          "name": "stderr",
          "text": [
            "\r 50%|█████     | 12/24 [00:06<00:06,  1.76it/s]"
          ]
        },
        {
          "output_type": "stream",
          "name": "stdout",
          "text": [
            "13\n"
          ]
        },
        {
          "output_type": "stream",
          "name": "stderr",
          "text": [
            "\r 54%|█████▍    | 13/24 [00:07<00:06,  1.76it/s]"
          ]
        },
        {
          "output_type": "stream",
          "name": "stdout",
          "text": [
            "14\n"
          ]
        },
        {
          "output_type": "stream",
          "name": "stderr",
          "text": [
            "\r 58%|█████▊    | 14/24 [00:07<00:05,  1.76it/s]"
          ]
        },
        {
          "output_type": "stream",
          "name": "stdout",
          "text": [
            "15\n"
          ]
        },
        {
          "output_type": "stream",
          "name": "stderr",
          "text": [
            "\r 62%|██████▎   | 15/24 [00:08<00:05,  1.76it/s]"
          ]
        },
        {
          "output_type": "stream",
          "name": "stdout",
          "text": [
            "16\n"
          ]
        },
        {
          "output_type": "stream",
          "name": "stderr",
          "text": [
            "\r 67%|██████▋   | 16/24 [00:09<00:04,  1.76it/s]"
          ]
        },
        {
          "output_type": "stream",
          "name": "stdout",
          "text": [
            "17\n"
          ]
        },
        {
          "output_type": "stream",
          "name": "stderr",
          "text": [
            "\r 71%|███████   | 17/24 [00:09<00:03,  1.76it/s]"
          ]
        },
        {
          "output_type": "stream",
          "name": "stdout",
          "text": [
            "18\n"
          ]
        },
        {
          "output_type": "stream",
          "name": "stderr",
          "text": [
            "\r 75%|███████▌  | 18/24 [00:10<00:03,  1.77it/s]"
          ]
        },
        {
          "output_type": "stream",
          "name": "stdout",
          "text": [
            "19\n"
          ]
        },
        {
          "output_type": "stream",
          "name": "stderr",
          "text": [
            "\r 79%|███████▉  | 19/24 [00:10<00:02,  1.76it/s]"
          ]
        },
        {
          "output_type": "stream",
          "name": "stdout",
          "text": [
            "20\n"
          ]
        },
        {
          "output_type": "stream",
          "name": "stderr",
          "text": [
            "\r 83%|████████▎ | 20/24 [00:11<00:02,  1.76it/s]"
          ]
        },
        {
          "output_type": "stream",
          "name": "stdout",
          "text": [
            "21\n"
          ]
        },
        {
          "output_type": "stream",
          "name": "stderr",
          "text": [
            "\r 88%|████████▊ | 21/24 [00:11<00:01,  1.76it/s]"
          ]
        },
        {
          "output_type": "stream",
          "name": "stdout",
          "text": [
            "22\n"
          ]
        },
        {
          "output_type": "stream",
          "name": "stderr",
          "text": [
            "\r 92%|█████████▏| 22/24 [00:12<00:01,  1.76it/s]"
          ]
        },
        {
          "output_type": "stream",
          "name": "stdout",
          "text": [
            "23\n"
          ]
        },
        {
          "output_type": "stream",
          "name": "stderr",
          "text": [
            "\r 96%|█████████▌| 23/24 [00:13<00:00,  1.77it/s]"
          ]
        },
        {
          "output_type": "stream",
          "name": "stdout",
          "text": [
            "24\n"
          ]
        },
        {
          "output_type": "stream",
          "name": "stderr",
          "text": [
            "25it [00:13,  1.83it/s]                        \n"
          ]
        },
        {
          "output_type": "stream",
          "name": "stdout",
          "text": [
            "25\n",
            "Validating\n"
          ]
        },
        {
          "output_type": "stream",
          "name": "stderr",
          "text": [
            "4it [00:02,  1.99it/s]\n"
          ]
        },
        {
          "output_type": "stream",
          "name": "stdout",
          "text": [
            "Train Loss: 0.2266\n",
            "Val Loss: 0.2386\n",
            "Epoch 18 of 20\n",
            "Training\n"
          ]
        },
        {
          "output_type": "stream",
          "name": "stderr",
          "text": [
            "\r  0%|          | 0/24 [00:00<?, ?it/s]"
          ]
        },
        {
          "output_type": "stream",
          "name": "stdout",
          "text": [
            "1\n"
          ]
        },
        {
          "output_type": "stream",
          "name": "stderr",
          "text": [
            "\r  4%|▍         | 1/24 [00:00<00:13,  1.73it/s]"
          ]
        },
        {
          "output_type": "stream",
          "name": "stdout",
          "text": [
            "2\n"
          ]
        },
        {
          "output_type": "stream",
          "name": "stderr",
          "text": [
            "\r  8%|▊         | 2/24 [00:01<00:12,  1.74it/s]"
          ]
        },
        {
          "output_type": "stream",
          "name": "stdout",
          "text": [
            "3\n"
          ]
        },
        {
          "output_type": "stream",
          "name": "stderr",
          "text": [
            "\r 12%|█▎        | 3/24 [00:01<00:12,  1.75it/s]"
          ]
        },
        {
          "output_type": "stream",
          "name": "stdout",
          "text": [
            "4\n"
          ]
        },
        {
          "output_type": "stream",
          "name": "stderr",
          "text": [
            "\r 17%|█▋        | 4/24 [00:02<00:11,  1.73it/s]"
          ]
        },
        {
          "output_type": "stream",
          "name": "stdout",
          "text": [
            "5\n"
          ]
        },
        {
          "output_type": "stream",
          "name": "stderr",
          "text": [
            "\r 21%|██        | 5/24 [00:02<00:10,  1.74it/s]"
          ]
        },
        {
          "output_type": "stream",
          "name": "stdout",
          "text": [
            "6\n"
          ]
        },
        {
          "output_type": "stream",
          "name": "stderr",
          "text": [
            "\r 25%|██▌       | 6/24 [00:03<00:10,  1.75it/s]"
          ]
        },
        {
          "output_type": "stream",
          "name": "stdout",
          "text": [
            "7\n"
          ]
        },
        {
          "output_type": "stream",
          "name": "stderr",
          "text": [
            "\r 29%|██▉       | 7/24 [00:04<00:09,  1.76it/s]"
          ]
        },
        {
          "output_type": "stream",
          "name": "stdout",
          "text": [
            "8\n"
          ]
        },
        {
          "output_type": "stream",
          "name": "stderr",
          "text": [
            "\r 33%|███▎      | 8/24 [00:04<00:09,  1.76it/s]"
          ]
        },
        {
          "output_type": "stream",
          "name": "stdout",
          "text": [
            "9\n"
          ]
        },
        {
          "output_type": "stream",
          "name": "stderr",
          "text": [
            "\r 38%|███▊      | 9/24 [00:05<00:08,  1.76it/s]"
          ]
        },
        {
          "output_type": "stream",
          "name": "stdout",
          "text": [
            "10\n"
          ]
        },
        {
          "output_type": "stream",
          "name": "stderr",
          "text": [
            "\r 42%|████▏     | 10/24 [00:05<00:07,  1.76it/s]"
          ]
        },
        {
          "output_type": "stream",
          "name": "stdout",
          "text": [
            "11\n"
          ]
        },
        {
          "output_type": "stream",
          "name": "stderr",
          "text": [
            "\r 46%|████▌     | 11/24 [00:06<00:07,  1.76it/s]"
          ]
        },
        {
          "output_type": "stream",
          "name": "stdout",
          "text": [
            "12\n"
          ]
        },
        {
          "output_type": "stream",
          "name": "stderr",
          "text": [
            "\r 50%|█████     | 12/24 [00:06<00:06,  1.76it/s]"
          ]
        },
        {
          "output_type": "stream",
          "name": "stdout",
          "text": [
            "13\n"
          ]
        },
        {
          "output_type": "stream",
          "name": "stderr",
          "text": [
            "\r 54%|█████▍    | 13/24 [00:07<00:06,  1.76it/s]"
          ]
        },
        {
          "output_type": "stream",
          "name": "stdout",
          "text": [
            "14\n"
          ]
        },
        {
          "output_type": "stream",
          "name": "stderr",
          "text": [
            "\r 58%|█████▊    | 14/24 [00:07<00:05,  1.76it/s]"
          ]
        },
        {
          "output_type": "stream",
          "name": "stdout",
          "text": [
            "15\n"
          ]
        },
        {
          "output_type": "stream",
          "name": "stderr",
          "text": [
            "\r 62%|██████▎   | 15/24 [00:08<00:05,  1.76it/s]"
          ]
        },
        {
          "output_type": "stream",
          "name": "stdout",
          "text": [
            "16\n"
          ]
        },
        {
          "output_type": "stream",
          "name": "stderr",
          "text": [
            "\r 67%|██████▋   | 16/24 [00:09<00:04,  1.75it/s]"
          ]
        },
        {
          "output_type": "stream",
          "name": "stdout",
          "text": [
            "17\n"
          ]
        },
        {
          "output_type": "stream",
          "name": "stderr",
          "text": [
            "\r 71%|███████   | 17/24 [00:09<00:03,  1.76it/s]"
          ]
        },
        {
          "output_type": "stream",
          "name": "stdout",
          "text": [
            "18\n"
          ]
        },
        {
          "output_type": "stream",
          "name": "stderr",
          "text": [
            "\r 75%|███████▌  | 18/24 [00:10<00:03,  1.76it/s]"
          ]
        },
        {
          "output_type": "stream",
          "name": "stdout",
          "text": [
            "19\n"
          ]
        },
        {
          "output_type": "stream",
          "name": "stderr",
          "text": [
            "\r 79%|███████▉  | 19/24 [00:10<00:02,  1.76it/s]"
          ]
        },
        {
          "output_type": "stream",
          "name": "stdout",
          "text": [
            "20\n"
          ]
        },
        {
          "output_type": "stream",
          "name": "stderr",
          "text": [
            "\r 83%|████████▎ | 20/24 [00:11<00:02,  1.75it/s]"
          ]
        },
        {
          "output_type": "stream",
          "name": "stdout",
          "text": [
            "21\n"
          ]
        },
        {
          "output_type": "stream",
          "name": "stderr",
          "text": [
            "\r 88%|████████▊ | 21/24 [00:11<00:01,  1.75it/s]"
          ]
        },
        {
          "output_type": "stream",
          "name": "stdout",
          "text": [
            "22\n"
          ]
        },
        {
          "output_type": "stream",
          "name": "stderr",
          "text": [
            "\r 92%|█████████▏| 22/24 [00:12<00:01,  1.75it/s]"
          ]
        },
        {
          "output_type": "stream",
          "name": "stdout",
          "text": [
            "23\n"
          ]
        },
        {
          "output_type": "stream",
          "name": "stderr",
          "text": [
            "\r 96%|█████████▌| 23/24 [00:13<00:00,  1.76it/s]"
          ]
        },
        {
          "output_type": "stream",
          "name": "stdout",
          "text": [
            "24\n"
          ]
        },
        {
          "output_type": "stream",
          "name": "stderr",
          "text": [
            "25it [00:13,  1.82it/s]                        \n"
          ]
        },
        {
          "output_type": "stream",
          "name": "stdout",
          "text": [
            "25\n",
            "Validating\n"
          ]
        },
        {
          "output_type": "stream",
          "name": "stderr",
          "text": [
            "4it [00:02,  1.98it/s]\n"
          ]
        },
        {
          "output_type": "stream",
          "name": "stdout",
          "text": [
            "Train Loss: 0.2246\n",
            "Val Loss: 0.2374\n",
            "Epoch 19 of 20\n",
            "Training\n"
          ]
        },
        {
          "output_type": "stream",
          "name": "stderr",
          "text": [
            "\r  0%|          | 0/24 [00:00<?, ?it/s]"
          ]
        },
        {
          "output_type": "stream",
          "name": "stdout",
          "text": [
            "1\n"
          ]
        },
        {
          "output_type": "stream",
          "name": "stderr",
          "text": [
            "\r  4%|▍         | 1/24 [00:00<00:13,  1.72it/s]"
          ]
        },
        {
          "output_type": "stream",
          "name": "stdout",
          "text": [
            "2\n"
          ]
        },
        {
          "output_type": "stream",
          "name": "stderr",
          "text": [
            "\r  8%|▊         | 2/24 [00:01<00:12,  1.74it/s]"
          ]
        },
        {
          "output_type": "stream",
          "name": "stdout",
          "text": [
            "3\n"
          ]
        },
        {
          "output_type": "stream",
          "name": "stderr",
          "text": [
            "\r 12%|█▎        | 3/24 [00:01<00:12,  1.73it/s]"
          ]
        },
        {
          "output_type": "stream",
          "name": "stdout",
          "text": [
            "4\n"
          ]
        },
        {
          "output_type": "stream",
          "name": "stderr",
          "text": [
            "\r 17%|█▋        | 4/24 [00:02<00:11,  1.74it/s]"
          ]
        },
        {
          "output_type": "stream",
          "name": "stdout",
          "text": [
            "5\n"
          ]
        },
        {
          "output_type": "stream",
          "name": "stderr",
          "text": [
            "\r 21%|██        | 5/24 [00:02<00:10,  1.74it/s]"
          ]
        },
        {
          "output_type": "stream",
          "name": "stdout",
          "text": [
            "6\n"
          ]
        },
        {
          "output_type": "stream",
          "name": "stderr",
          "text": [
            "\r 25%|██▌       | 6/24 [00:03<00:10,  1.75it/s]"
          ]
        },
        {
          "output_type": "stream",
          "name": "stdout",
          "text": [
            "7\n"
          ]
        },
        {
          "output_type": "stream",
          "name": "stderr",
          "text": [
            "\r 29%|██▉       | 7/24 [00:04<00:09,  1.74it/s]"
          ]
        },
        {
          "output_type": "stream",
          "name": "stdout",
          "text": [
            "8\n"
          ]
        },
        {
          "output_type": "stream",
          "name": "stderr",
          "text": [
            "\r 33%|███▎      | 8/24 [00:04<00:09,  1.74it/s]"
          ]
        },
        {
          "output_type": "stream",
          "name": "stdout",
          "text": [
            "9\n"
          ]
        },
        {
          "output_type": "stream",
          "name": "stderr",
          "text": [
            "\r 38%|███▊      | 9/24 [00:05<00:08,  1.75it/s]"
          ]
        },
        {
          "output_type": "stream",
          "name": "stdout",
          "text": [
            "10\n"
          ]
        },
        {
          "output_type": "stream",
          "name": "stderr",
          "text": [
            "\r 42%|████▏     | 10/24 [00:05<00:08,  1.75it/s]"
          ]
        },
        {
          "output_type": "stream",
          "name": "stdout",
          "text": [
            "11\n"
          ]
        },
        {
          "output_type": "stream",
          "name": "stderr",
          "text": [
            "\r 46%|████▌     | 11/24 [00:06<00:07,  1.75it/s]"
          ]
        },
        {
          "output_type": "stream",
          "name": "stdout",
          "text": [
            "12\n"
          ]
        },
        {
          "output_type": "stream",
          "name": "stderr",
          "text": [
            "\r 50%|█████     | 12/24 [00:06<00:06,  1.74it/s]"
          ]
        },
        {
          "output_type": "stream",
          "name": "stdout",
          "text": [
            "13\n"
          ]
        },
        {
          "output_type": "stream",
          "name": "stderr",
          "text": [
            "\r 54%|█████▍    | 13/24 [00:07<00:06,  1.75it/s]"
          ]
        },
        {
          "output_type": "stream",
          "name": "stdout",
          "text": [
            "14\n"
          ]
        },
        {
          "output_type": "stream",
          "name": "stderr",
          "text": [
            "\r 58%|█████▊    | 14/24 [00:08<00:05,  1.75it/s]"
          ]
        },
        {
          "output_type": "stream",
          "name": "stdout",
          "text": [
            "15\n"
          ]
        },
        {
          "output_type": "stream",
          "name": "stderr",
          "text": [
            "\r 62%|██████▎   | 15/24 [00:08<00:05,  1.75it/s]"
          ]
        },
        {
          "output_type": "stream",
          "name": "stdout",
          "text": [
            "16\n"
          ]
        },
        {
          "output_type": "stream",
          "name": "stderr",
          "text": [
            "\r 67%|██████▋   | 16/24 [00:09<00:04,  1.75it/s]"
          ]
        },
        {
          "output_type": "stream",
          "name": "stdout",
          "text": [
            "17\n"
          ]
        },
        {
          "output_type": "stream",
          "name": "stderr",
          "text": [
            "\r 71%|███████   | 17/24 [00:09<00:03,  1.76it/s]"
          ]
        },
        {
          "output_type": "stream",
          "name": "stdout",
          "text": [
            "18\n"
          ]
        },
        {
          "output_type": "stream",
          "name": "stderr",
          "text": [
            "\r 75%|███████▌  | 18/24 [00:10<00:03,  1.76it/s]"
          ]
        },
        {
          "output_type": "stream",
          "name": "stdout",
          "text": [
            "19\n"
          ]
        },
        {
          "output_type": "stream",
          "name": "stderr",
          "text": [
            "\r 79%|███████▉  | 19/24 [00:10<00:02,  1.74it/s]"
          ]
        },
        {
          "output_type": "stream",
          "name": "stdout",
          "text": [
            "20\n"
          ]
        },
        {
          "output_type": "stream",
          "name": "stderr",
          "text": [
            "\r 83%|████████▎ | 20/24 [00:11<00:02,  1.75it/s]"
          ]
        },
        {
          "output_type": "stream",
          "name": "stdout",
          "text": [
            "21\n"
          ]
        },
        {
          "output_type": "stream",
          "name": "stderr",
          "text": [
            "\r 88%|████████▊ | 21/24 [00:12<00:01,  1.75it/s]"
          ]
        },
        {
          "output_type": "stream",
          "name": "stdout",
          "text": [
            "22\n"
          ]
        },
        {
          "output_type": "stream",
          "name": "stderr",
          "text": [
            "\r 92%|█████████▏| 22/24 [00:12<00:01,  1.75it/s]"
          ]
        },
        {
          "output_type": "stream",
          "name": "stdout",
          "text": [
            "23\n"
          ]
        },
        {
          "output_type": "stream",
          "name": "stderr",
          "text": [
            "\r 96%|█████████▌| 23/24 [00:13<00:00,  1.75it/s]"
          ]
        },
        {
          "output_type": "stream",
          "name": "stdout",
          "text": [
            "24\n"
          ]
        },
        {
          "output_type": "stream",
          "name": "stderr",
          "text": [
            "25it [00:13,  1.82it/s]                        \n"
          ]
        },
        {
          "output_type": "stream",
          "name": "stdout",
          "text": [
            "25\n",
            "Validating\n"
          ]
        },
        {
          "output_type": "stream",
          "name": "stderr",
          "text": [
            "4it [00:01,  2.01it/s]\n"
          ]
        },
        {
          "output_type": "stream",
          "name": "stdout",
          "text": [
            "Train Loss: 0.2245\n",
            "Val Loss: 0.2379\n",
            "Epoch 20 of 20\n",
            "Training\n"
          ]
        },
        {
          "output_type": "stream",
          "name": "stderr",
          "text": [
            "\r  0%|          | 0/24 [00:00<?, ?it/s]"
          ]
        },
        {
          "output_type": "stream",
          "name": "stdout",
          "text": [
            "1\n"
          ]
        },
        {
          "output_type": "stream",
          "name": "stderr",
          "text": [
            "\r  4%|▍         | 1/24 [00:00<00:13,  1.71it/s]"
          ]
        },
        {
          "output_type": "stream",
          "name": "stdout",
          "text": [
            "2\n"
          ]
        },
        {
          "output_type": "stream",
          "name": "stderr",
          "text": [
            "\r  8%|▊         | 2/24 [00:01<00:12,  1.74it/s]"
          ]
        },
        {
          "output_type": "stream",
          "name": "stdout",
          "text": [
            "3\n"
          ]
        },
        {
          "output_type": "stream",
          "name": "stderr",
          "text": [
            "\r 12%|█▎        | 3/24 [00:01<00:12,  1.74it/s]"
          ]
        },
        {
          "output_type": "stream",
          "name": "stdout",
          "text": [
            "4\n"
          ]
        },
        {
          "output_type": "stream",
          "name": "stderr",
          "text": [
            "\r 17%|█▋        | 4/24 [00:02<00:11,  1.75it/s]"
          ]
        },
        {
          "output_type": "stream",
          "name": "stdout",
          "text": [
            "5\n"
          ]
        },
        {
          "output_type": "stream",
          "name": "stderr",
          "text": [
            "\r 21%|██        | 5/24 [00:02<00:10,  1.75it/s]"
          ]
        },
        {
          "output_type": "stream",
          "name": "stdout",
          "text": [
            "6\n"
          ]
        },
        {
          "output_type": "stream",
          "name": "stderr",
          "text": [
            "\r 25%|██▌       | 6/24 [00:03<00:10,  1.75it/s]"
          ]
        },
        {
          "output_type": "stream",
          "name": "stdout",
          "text": [
            "7\n"
          ]
        },
        {
          "output_type": "stream",
          "name": "stderr",
          "text": [
            "\r 29%|██▉       | 7/24 [00:04<00:09,  1.76it/s]"
          ]
        },
        {
          "output_type": "stream",
          "name": "stdout",
          "text": [
            "8\n"
          ]
        },
        {
          "output_type": "stream",
          "name": "stderr",
          "text": [
            "\r 33%|███▎      | 8/24 [00:04<00:09,  1.76it/s]"
          ]
        },
        {
          "output_type": "stream",
          "name": "stdout",
          "text": [
            "9\n"
          ]
        },
        {
          "output_type": "stream",
          "name": "stderr",
          "text": [
            "\r 38%|███▊      | 9/24 [00:05<00:08,  1.76it/s]"
          ]
        },
        {
          "output_type": "stream",
          "name": "stdout",
          "text": [
            "10\n"
          ]
        },
        {
          "output_type": "stream",
          "name": "stderr",
          "text": [
            "\r 42%|████▏     | 10/24 [00:05<00:07,  1.76it/s]"
          ]
        },
        {
          "output_type": "stream",
          "name": "stdout",
          "text": [
            "11\n"
          ]
        },
        {
          "output_type": "stream",
          "name": "stderr",
          "text": [
            "\r 46%|████▌     | 11/24 [00:06<00:07,  1.74it/s]"
          ]
        },
        {
          "output_type": "stream",
          "name": "stdout",
          "text": [
            "12\n"
          ]
        },
        {
          "output_type": "stream",
          "name": "stderr",
          "text": [
            "\r 50%|█████     | 12/24 [00:06<00:06,  1.75it/s]"
          ]
        },
        {
          "output_type": "stream",
          "name": "stdout",
          "text": [
            "13\n"
          ]
        },
        {
          "output_type": "stream",
          "name": "stderr",
          "text": [
            "\r 54%|█████▍    | 13/24 [00:07<00:06,  1.75it/s]"
          ]
        },
        {
          "output_type": "stream",
          "name": "stdout",
          "text": [
            "14\n"
          ]
        },
        {
          "output_type": "stream",
          "name": "stderr",
          "text": [
            "\r 58%|█████▊    | 14/24 [00:07<00:05,  1.76it/s]"
          ]
        },
        {
          "output_type": "stream",
          "name": "stdout",
          "text": [
            "15\n"
          ]
        },
        {
          "output_type": "stream",
          "name": "stderr",
          "text": [
            "\r 62%|██████▎   | 15/24 [00:08<00:05,  1.75it/s]"
          ]
        },
        {
          "output_type": "stream",
          "name": "stdout",
          "text": [
            "16\n"
          ]
        },
        {
          "output_type": "stream",
          "name": "stderr",
          "text": [
            "\r 67%|██████▋   | 16/24 [00:09<00:04,  1.74it/s]"
          ]
        },
        {
          "output_type": "stream",
          "name": "stdout",
          "text": [
            "17\n"
          ]
        },
        {
          "output_type": "stream",
          "name": "stderr",
          "text": [
            "\r 71%|███████   | 17/24 [00:09<00:04,  1.74it/s]"
          ]
        },
        {
          "output_type": "stream",
          "name": "stdout",
          "text": [
            "18\n"
          ]
        },
        {
          "output_type": "stream",
          "name": "stderr",
          "text": [
            "\r 75%|███████▌  | 18/24 [00:10<00:03,  1.75it/s]"
          ]
        },
        {
          "output_type": "stream",
          "name": "stdout",
          "text": [
            "19\n"
          ]
        },
        {
          "output_type": "stream",
          "name": "stderr",
          "text": [
            "\r 79%|███████▉  | 19/24 [00:10<00:02,  1.75it/s]"
          ]
        },
        {
          "output_type": "stream",
          "name": "stdout",
          "text": [
            "20\n"
          ]
        },
        {
          "output_type": "stream",
          "name": "stderr",
          "text": [
            "\r 83%|████████▎ | 20/24 [00:11<00:02,  1.75it/s]"
          ]
        },
        {
          "output_type": "stream",
          "name": "stdout",
          "text": [
            "21\n"
          ]
        },
        {
          "output_type": "stream",
          "name": "stderr",
          "text": [
            "\r 88%|████████▊ | 21/24 [00:12<00:01,  1.75it/s]"
          ]
        },
        {
          "output_type": "stream",
          "name": "stdout",
          "text": [
            "22\n"
          ]
        },
        {
          "output_type": "stream",
          "name": "stderr",
          "text": [
            "\r 92%|█████████▏| 22/24 [00:12<00:01,  1.75it/s]"
          ]
        },
        {
          "output_type": "stream",
          "name": "stdout",
          "text": [
            "23\n"
          ]
        },
        {
          "output_type": "stream",
          "name": "stderr",
          "text": [
            "\r 96%|█████████▌| 23/24 [00:13<00:00,  1.75it/s]"
          ]
        },
        {
          "output_type": "stream",
          "name": "stdout",
          "text": [
            "24\n"
          ]
        },
        {
          "output_type": "stream",
          "name": "stderr",
          "text": [
            "25it [00:13,  1.82it/s]                        \n"
          ]
        },
        {
          "output_type": "stream",
          "name": "stdout",
          "text": [
            "25\n",
            "Validating\n"
          ]
        },
        {
          "output_type": "stream",
          "name": "stderr",
          "text": [
            "4it [00:02,  2.00it/s]"
          ]
        },
        {
          "output_type": "stream",
          "name": "stdout",
          "text": [
            "Train Loss: 0.2298\n",
            "Val Loss: 0.2375\n"
          ]
        },
        {
          "output_type": "stream",
          "name": "stderr",
          "text": [
            "\n"
          ]
        }
      ]
    },
    {
      "cell_type": "code",
      "source": [
        "!mkdir /content/drive/MyDrive/outputs"
      ],
      "metadata": {
        "id": "sNDJT-d0ConZ",
        "colab": {
          "base_uri": "https://localhost:8080/"
        },
        "outputId": "ac29b23d-4846-4ff2-f9b9-af58fb6b5936"
      },
      "execution_count": 27,
      "outputs": [
        {
          "output_type": "stream",
          "name": "stdout",
          "text": [
            "mkdir: cannot create directory ‘/content/drive/MyDrive/outputs’: File exists\n"
          ]
        }
      ]
    },
    {
      "cell_type": "code",
      "source": [
        "torch.save({\n",
        "            'epoch': epochs,\n",
        "            'model_state_dict': model.state_dict(),\n",
        "            'optimizer_state_dict': optimizer.state_dict(),\n",
        "            'loss': criterion,\n",
        "            }, '/content/drive/MyDrive/outputs/model.pth')\n",
        "# plot and save the train and validation line graphs\n",
        "plt.figure(figsize=(10, 7))\n",
        "plt.plot(train_loss, color='black', label='train loss')\n",
        "plt.plot(valid_loss, color='green', label='validataion loss')\n",
        "plt.xlabel('Epochs')\n",
        "plt.ylabel('Loss')\n",
        "plt.legend()\n",
        "plt.savefig('/content/drive/MyDrive/outputs/loss.png')\n",
        "plt.show()"
      ],
      "metadata": {
        "id": "MHVXzX3yoDGV",
        "colab": {
          "base_uri": "https://localhost:8080/",
          "height": 445
        },
        "outputId": "f3a9b766-afa1-4fdd-c435-7c8ef5739f05"
      },
      "execution_count": 29,
      "outputs": [
        {
          "output_type": "display_data",
          "data": {
            "text/plain": [
              "<Figure size 720x504 with 1 Axes>"
            ],
            "image/png": "[encoded data removed]"
          },
          "metadata": {}
        }
      ]
    },
    {
      "cell_type": "code",
      "source": [
        "#test images\n",
        "import shutil\n",
        "!mkdir test_images\n",
        "test_csv = pd.read_csv('/content/attributes_test.csv')\n",
        "for images in os.listdir('/content/classification-assignment/images'):\n",
        "  if images in list(test_csv['filename']):\n",
        "    shutil.copy('/content/classification-assignment/images/'+images,'/content/test_images')\n",
        "#test_csv['filename']"
      ],
      "metadata": {
        "id": "tkfF0iXiAIpV"
      },
      "execution_count": 48,
      "outputs": []
    },
    {
      "cell_type": "code",
      "source": [
        "!python inference.py --csv_file /content/attributes_test.csv --ckpts /content/drive/MyDrive/outputs/model.pth"
      ],
      "metadata": {
        "colab": {
          "base_uri": "https://localhost:8080/"
        },
        "id": "9t-1WdWgrUwa",
        "outputId": "316a0e15-9155-4a72-f158-d62f65bfa7d4"
      },
      "execution_count": 4,
      "outputs": [
        {
          "output_type": "stream",
          "name": "stdout",
          "text": [
            "lolololol /content/attributes_test.csv /content/drive/MyDrive/outputs/model.pth\n",
            "/content/drive/MyDrive/outputs/model.pth /content/attributes_test.csv\n",
            "inference.py:123: UserWarning: To copy construct from a tensor, it is recommended to use sourceTensor.clone().detach() or sourceTensor.clone().detach().requires_grad_(True), rather than torch.tensor(sourceTensor).\n",
            "  'image': torch.tensor(image, dtype=torch.float32),\n"
          ]
        }
      ]
    },
    {
      "cell_type": "code",
      "source": [
        ""
      ],
      "metadata": {
        "id": "XaAu3Z-wDd9L"
      },
      "execution_count": null,
      "outputs": []
    }
  ]
}